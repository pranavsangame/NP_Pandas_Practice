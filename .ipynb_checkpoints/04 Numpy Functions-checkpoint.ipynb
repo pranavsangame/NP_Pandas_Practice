{
 "cells": [
  {
   "cell_type": "markdown",
   "id": "effa3376",
   "metadata": {},
   "source": [
    "# Ceil"
   ]
  },
  {
   "cell_type": "raw",
   "id": "4dc3270e",
   "metadata": {},
   "source": [
    "it will yield out the maximum closest whole number to that decimal number.\n",
    "whole number that is on the right hand side of the decimal number."
   ]
  },
  {
   "cell_type": "code",
   "execution_count": 1,
   "id": "82e21f26",
   "metadata": {},
   "outputs": [
    {
     "data": {
      "text/plain": [
       "3.0"
      ]
     },
     "execution_count": 1,
     "metadata": {},
     "output_type": "execute_result"
    }
   ],
   "source": [
    "import numpy as np\n",
    "a = 2.56\n",
    "np.ceil(a)"
   ]
  },
  {
   "cell_type": "code",
   "execution_count": 2,
   "id": "085a145a",
   "metadata": {},
   "outputs": [
    {
     "data": {
      "text/plain": [
       "3.0"
      ]
     },
     "execution_count": 2,
     "metadata": {},
     "output_type": "execute_result"
    }
   ],
   "source": [
    "a = 2.46\n",
    "np.ceil(a)"
   ]
  },
  {
   "cell_type": "code",
   "execution_count": null,
   "id": "98a74e9c",
   "metadata": {},
   "outputs": [],
   "source": []
  },
  {
   "cell_type": "code",
   "execution_count": null,
   "id": "42a4b1ae",
   "metadata": {},
   "outputs": [],
   "source": []
  },
  {
   "cell_type": "code",
   "execution_count": 3,
   "id": "323a8ef1",
   "metadata": {},
   "outputs": [
    {
     "data": {
      "text/plain": [
       "-2.0"
      ]
     },
     "execution_count": 3,
     "metadata": {},
     "output_type": "execute_result"
    }
   ],
   "source": [
    "a = -2.46\n",
    "np.ceil(a)"
   ]
  },
  {
   "cell_type": "markdown",
   "id": "6a446269",
   "metadata": {},
   "source": [
    "# floor"
   ]
  },
  {
   "cell_type": "raw",
   "id": "83fd01ca",
   "metadata": {},
   "source": [
    "floor will yield the smallest whole number closest to the decimal number"
   ]
  },
  {
   "cell_type": "code",
   "execution_count": 4,
   "id": "74666267",
   "metadata": {},
   "outputs": [
    {
     "data": {
      "text/plain": [
       "2.0"
      ]
     },
     "execution_count": 4,
     "metadata": {},
     "output_type": "execute_result"
    }
   ],
   "source": [
    "a = 2.56\n",
    "np.floor(a)"
   ]
  },
  {
   "cell_type": "code",
   "execution_count": 5,
   "id": "25f0d9b2",
   "metadata": {},
   "outputs": [
    {
     "data": {
      "text/plain": [
       "2.0"
      ]
     },
     "execution_count": 5,
     "metadata": {},
     "output_type": "execute_result"
    }
   ],
   "source": [
    "a = 2.36347\n",
    "np.floor(a)"
   ]
  },
  {
   "cell_type": "code",
   "execution_count": 6,
   "id": "d48ac36f",
   "metadata": {},
   "outputs": [
    {
     "data": {
      "text/plain": [
       "-3.0"
      ]
     },
     "execution_count": 6,
     "metadata": {},
     "output_type": "execute_result"
    }
   ],
   "source": [
    "a = -2.46\n",
    "np.floor(a)"
   ]
  },
  {
   "cell_type": "code",
   "execution_count": 7,
   "id": "35fb4504",
   "metadata": {},
   "outputs": [
    {
     "data": {
      "text/plain": [
       "array([[-3.,  7.],\n",
       "       [ 5., -3.]])"
      ]
     },
     "execution_count": 7,
     "metadata": {},
     "output_type": "execute_result"
    }
   ],
   "source": [
    "a = np.array([(-2.46,7.8),\n",
    "              (5.67,-2.57)])\n",
    "np.floor(a)"
   ]
  },
  {
   "cell_type": "markdown",
   "id": "7410ead7",
   "metadata": {},
   "source": [
    "# around()"
   ]
  },
  {
   "cell_type": "raw",
   "id": "f5a28311",
   "metadata": {},
   "source": [
    "around works exactly the same as round function\n",
    "if the decimal part of the number is less than or equal to .5 then it takes the closest minimum whoe number else it takes closest maximum whole number"
   ]
  },
  {
   "cell_type": "code",
   "execution_count": 8,
   "id": "e6588a44",
   "metadata": {},
   "outputs": [
    {
     "data": {
      "text/plain": [
       "2.0"
      ]
     },
     "execution_count": 8,
     "metadata": {},
     "output_type": "execute_result"
    }
   ],
   "source": [
    "np.around(2.4)"
   ]
  },
  {
   "cell_type": "code",
   "execution_count": 9,
   "id": "760df84e",
   "metadata": {},
   "outputs": [
    {
     "data": {
      "text/plain": [
       "3.0"
      ]
     },
     "execution_count": 9,
     "metadata": {},
     "output_type": "execute_result"
    }
   ],
   "source": [
    "np.around(2.6)"
   ]
  },
  {
   "cell_type": "code",
   "execution_count": 10,
   "id": "2a39b64f",
   "metadata": {},
   "outputs": [
    {
     "data": {
      "text/plain": [
       "2.0"
      ]
     },
     "execution_count": 10,
     "metadata": {},
     "output_type": "execute_result"
    }
   ],
   "source": [
    "np.around(2.5)"
   ]
  },
  {
   "cell_type": "code",
   "execution_count": 11,
   "id": "227a3628",
   "metadata": {},
   "outputs": [
    {
     "data": {
      "text/plain": [
       "3.0"
      ]
     },
     "execution_count": 11,
     "metadata": {},
     "output_type": "execute_result"
    }
   ],
   "source": [
    "np.around(2.500000000001)"
   ]
  },
  {
   "cell_type": "code",
   "execution_count": 12,
   "id": "b5263aa5",
   "metadata": {},
   "outputs": [
    {
     "data": {
      "text/plain": [
       "3.46"
      ]
     },
     "execution_count": 12,
     "metadata": {},
     "output_type": "execute_result"
    }
   ],
   "source": [
    "np.around(3.4578912,2)"
   ]
  },
  {
   "cell_type": "code",
   "execution_count": 13,
   "id": "9fc08674",
   "metadata": {},
   "outputs": [
    {
     "data": {
      "text/plain": [
       "(2, 3)"
      ]
     },
     "execution_count": 13,
     "metadata": {},
     "output_type": "execute_result"
    }
   ],
   "source": [
    "# round functions doesnt work this way:\n",
    "round(2.4),round(2.56)"
   ]
  },
  {
   "cell_type": "code",
   "execution_count": 14,
   "id": "95ff61f2",
   "metadata": {},
   "outputs": [
    {
     "data": {
      "text/plain": [
       "(2.45, 2.57)"
      ]
     },
     "execution_count": 14,
     "metadata": {},
     "output_type": "execute_result"
    }
   ],
   "source": [
    "round(2.44567,2),round(2.56890,2)"
   ]
  },
  {
   "cell_type": "code",
   "execution_count": 15,
   "id": "c2b1b33f",
   "metadata": {},
   "outputs": [
    {
     "data": {
      "text/plain": [
       "int"
      ]
     },
     "execution_count": 15,
     "metadata": {},
     "output_type": "execute_result"
    }
   ],
   "source": [
    "type(round(4.7))"
   ]
  },
  {
   "cell_type": "code",
   "execution_count": 16,
   "id": "b6605f3a",
   "metadata": {},
   "outputs": [
    {
     "data": {
      "text/plain": [
       "numpy.float64"
      ]
     },
     "execution_count": 16,
     "metadata": {},
     "output_type": "execute_result"
    }
   ],
   "source": [
    "type(np.around(4.7))"
   ]
  },
  {
   "cell_type": "code",
   "execution_count": 17,
   "id": "79adb620",
   "metadata": {},
   "outputs": [
    {
     "data": {
      "text/plain": [
       "array([[-2.,  8.],\n",
       "       [ 6., -3.]])"
      ]
     },
     "execution_count": 17,
     "metadata": {},
     "output_type": "execute_result"
    }
   ],
   "source": [
    "a = np.array([[-2.46,7.8],\n",
    "              [5.67,-2.57]])\n",
    "np.around(a)"
   ]
  },
  {
   "cell_type": "code",
   "execution_count": 18,
   "id": "6fb73fff",
   "metadata": {},
   "outputs": [
    {
     "data": {
      "text/plain": [
       "array([[-2.47,  7.86],\n",
       "       [ 5.67, -2.58]])"
      ]
     },
     "execution_count": 18,
     "metadata": {},
     "output_type": "execute_result"
    }
   ],
   "source": [
    "a = np.array([[-2.46678,7.85687],\n",
    "              [5.671224,-2.5778970]])\n",
    "np.around(a,2)"
   ]
  },
  {
   "cell_type": "markdown",
   "id": "94f510e4",
   "metadata": {},
   "source": [
    "# copy"
   ]
  },
  {
   "cell_type": "raw",
   "id": "3fe6b255",
   "metadata": {},
   "source": [
    "copy works same as deepcopy in numpy"
   ]
  },
  {
   "cell_type": "code",
   "execution_count": 19,
   "id": "befd054c",
   "metadata": {},
   "outputs": [
    {
     "name": "stdout",
     "output_type": "stream",
     "text": [
      "[0 4 6 8] [2 4 6 8]\n"
     ]
    }
   ],
   "source": [
    "array1 = np.array([2,4,6,8])\n",
    "array2 = np.copy(array1)\n",
    "\n",
    "array2[0]=0\n",
    "print(array2,array1)"
   ]
  },
  {
   "cell_type": "code",
   "execution_count": 20,
   "id": "0772492e",
   "metadata": {},
   "outputs": [
    {
     "name": "stdout",
     "output_type": "stream",
     "text": [
      "[0 4 6 8] [2 4 6 8]\n"
     ]
    }
   ],
   "source": [
    "array1 = np.array([2,4,6,8])\n",
    "array2 = array1.copy()\n",
    "\n",
    "array2[0]=0\n",
    "print(array2,array1)"
   ]
  },
  {
   "cell_type": "code",
   "execution_count": 21,
   "id": "c9d2f996",
   "metadata": {},
   "outputs": [
    {
     "name": "stdout",
     "output_type": "stream",
     "text": [
      "[[0 4]\n",
      " [6 8]]\n",
      "[[2 4]\n",
      " [6 8]]\n"
     ]
    }
   ],
   "source": [
    "array1 = np.array([[2,4],[6,8]])\n",
    "array2 = array1.copy()\n",
    "\n",
    "array2[0][0]=0\n",
    "print(array2)\n",
    "\n",
    "print(array1)"
   ]
  },
  {
   "cell_type": "code",
   "execution_count": 22,
   "id": "65a5b357",
   "metadata": {},
   "outputs": [
    {
     "name": "stdout",
     "output_type": "stream",
     "text": [
      "[[0 4]\n",
      " [6 8]]\n",
      "[[2 4]\n",
      " [6 8]]\n"
     ]
    }
   ],
   "source": [
    "array1 = np.array([[2,4],[6,8]])\n",
    "array2 = np.copy(array1)\n",
    "\n",
    "array2[0][0]=0\n",
    "print(array2)\n",
    "\n",
    "print(array1)"
   ]
  },
  {
   "cell_type": "code",
   "execution_count": 23,
   "id": "76a29f77",
   "metadata": {},
   "outputs": [
    {
     "name": "stdout",
     "output_type": "stream",
     "text": [
      "[[0 4]\n",
      " [6 8]]\n",
      "[[2 4]\n",
      " [6 8]]\n"
     ]
    }
   ],
   "source": [
    "array1 = np.array([[2,4],[6,8]])\n",
    "array2 = np.copy(array1)\n",
    "\n",
    "array1[0][0]=0\n",
    "# print(array2)\n",
    "\n",
    "print(array1)\n",
    "print(array2)"
   ]
  },
  {
   "cell_type": "code",
   "execution_count": 24,
   "id": "eb79583b",
   "metadata": {},
   "outputs": [],
   "source": [
    "from copy import deepcopy"
   ]
  },
  {
   "cell_type": "code",
   "execution_count": 25,
   "id": "8c09896f",
   "metadata": {},
   "outputs": [
    {
     "name": "stdout",
     "output_type": "stream",
     "text": [
      "[[0 4]\n",
      " [6 8]]\n",
      "[[2 4]\n",
      " [6 8]]\n"
     ]
    }
   ],
   "source": [
    "array1 = np.array([[2,4],[6,8]])\n",
    "array2 = deepcopy(array1)\n",
    "\n",
    "array2[0][0]=0\n",
    "print(array2)\n",
    "\n",
    "print(array1)"
   ]
  },
  {
   "cell_type": "markdown",
   "id": "beb05ebd",
   "metadata": {},
   "source": [
    "# np.where"
   ]
  },
  {
   "cell_type": "code",
   "execution_count": 26,
   "id": "35c3f44d",
   "metadata": {},
   "outputs": [
    {
     "data": {
      "text/plain": [
       "(array([1, 2], dtype=int64),)"
      ]
     },
     "execution_count": 26,
     "metadata": {},
     "output_type": "execute_result"
    }
   ],
   "source": [
    "arr = np.array([4,5,6,2,3])\n",
    "np.where(arr>4)"
   ]
  },
  {
   "cell_type": "code",
   "execution_count": 27,
   "id": "8120c150",
   "metadata": {},
   "outputs": [
    {
     "data": {
      "text/plain": [
       "(array([0, 5], dtype=int64),)"
      ]
     },
     "execution_count": 27,
     "metadata": {},
     "output_type": "execute_result"
    }
   ],
   "source": [
    "arr = np.array([4,5,6,2,3,4])\n",
    "np.where(arr==4)"
   ]
  },
  {
   "cell_type": "code",
   "execution_count": 28,
   "id": "96ffb3f9",
   "metadata": {},
   "outputs": [
    {
     "data": {
      "text/plain": [
       "(array([], dtype=int64),)"
      ]
     },
     "execution_count": 28,
     "metadata": {},
     "output_type": "execute_result"
    }
   ],
   "source": [
    "arr = np.array([4,5,6,2,3,4])\n",
    "np.where(arr==1)"
   ]
  },
  {
   "cell_type": "code",
   "execution_count": 29,
   "id": "db39e7e7",
   "metadata": {},
   "outputs": [
    {
     "data": {
      "text/plain": [
       "(array([0, 1, 3, 4, 5], dtype=int64),)"
      ]
     },
     "execution_count": 29,
     "metadata": {},
     "output_type": "execute_result"
    }
   ],
   "source": [
    "arr = np.array([4,5,6,2,3,4])\n",
    "np.where(arr<6)"
   ]
  },
  {
   "cell_type": "code",
   "execution_count": 30,
   "id": "ee1c56b4",
   "metadata": {},
   "outputs": [
    {
     "data": {
      "text/plain": [
       "[0, 1, 3, 4, 5]"
      ]
     },
     "execution_count": 30,
     "metadata": {},
     "output_type": "execute_result"
    }
   ],
   "source": [
    "l1 = [4,5,6,2,3,4]\n",
    "[index for index,value in enumerate(l1) if value < 6]"
   ]
  },
  {
   "cell_type": "code",
   "execution_count": 31,
   "id": "93f00b5e",
   "metadata": {},
   "outputs": [
    {
     "data": {
      "text/plain": [
       "(array([0, 2, 3, 5], dtype=int64),)"
      ]
     },
     "execution_count": 31,
     "metadata": {},
     "output_type": "execute_result"
    }
   ],
   "source": [
    "arr = np.array([4,5,6,2,3,4])\n",
    "np.where(arr%2==0)"
   ]
  },
  {
   "cell_type": "code",
   "execution_count": 32,
   "id": "e5959d93",
   "metadata": {},
   "outputs": [
    {
     "data": {
      "text/plain": [
       "(array([1, 4], dtype=int64),)"
      ]
     },
     "execution_count": 32,
     "metadata": {},
     "output_type": "execute_result"
    }
   ],
   "source": [
    "arr = np.array([4,5,6,2,3,4])\n",
    "np.where(arr%2==1)"
   ]
  },
  {
   "cell_type": "markdown",
   "id": "0abaf41d",
   "metadata": {},
   "source": [
    "## use of np.where to replace the values that does meet the given condition in array "
   ]
  },
  {
   "cell_type": "code",
   "execution_count": 33,
   "id": "0db41963",
   "metadata": {},
   "outputs": [
    {
     "data": {
      "text/plain": [
       "array([nan,  5., nan, nan,  3., nan])"
      ]
     },
     "execution_count": 33,
     "metadata": {},
     "output_type": "execute_result"
    }
   ],
   "source": [
    "arr = np.array([4,5,6,2,3,4])\n",
    "arr=np.where(arr%2==1,arr,np.NaN)\n",
    "arr"
   ]
  },
  {
   "cell_type": "code",
   "execution_count": 34,
   "id": "6e816f9d",
   "metadata": {},
   "outputs": [
    {
     "data": {
      "text/html": [
       "<div>\n",
       "<style scoped>\n",
       "    .dataframe tbody tr th:only-of-type {\n",
       "        vertical-align: middle;\n",
       "    }\n",
       "\n",
       "    .dataframe tbody tr th {\n",
       "        vertical-align: top;\n",
       "    }\n",
       "\n",
       "    .dataframe thead th {\n",
       "        text-align: right;\n",
       "    }\n",
       "</style>\n",
       "<table border=\"1\" class=\"dataframe\">\n",
       "  <thead>\n",
       "    <tr style=\"text-align: right;\">\n",
       "      <th></th>\n",
       "      <th>0</th>\n",
       "    </tr>\n",
       "  </thead>\n",
       "  <tbody>\n",
       "    <tr>\n",
       "      <th>0</th>\n",
       "      <td>NaN</td>\n",
       "    </tr>\n",
       "    <tr>\n",
       "      <th>1</th>\n",
       "      <td>5.0</td>\n",
       "    </tr>\n",
       "    <tr>\n",
       "      <th>2</th>\n",
       "      <td>NaN</td>\n",
       "    </tr>\n",
       "    <tr>\n",
       "      <th>3</th>\n",
       "      <td>NaN</td>\n",
       "    </tr>\n",
       "    <tr>\n",
       "      <th>4</th>\n",
       "      <td>3.0</td>\n",
       "    </tr>\n",
       "    <tr>\n",
       "      <th>5</th>\n",
       "      <td>NaN</td>\n",
       "    </tr>\n",
       "  </tbody>\n",
       "</table>\n",
       "</div>"
      ],
      "text/plain": [
       "     0\n",
       "0  NaN\n",
       "1  5.0\n",
       "2  NaN\n",
       "3  NaN\n",
       "4  3.0\n",
       "5  NaN"
      ]
     },
     "metadata": {},
     "output_type": "display_data"
    }
   ],
   "source": [
    "import pandas as pd\n",
    "df = pd.DataFrame(arr)\n",
    "display(df)\n",
    "df.to_excel('empty cells.xlsx')"
   ]
  },
  {
   "cell_type": "code",
   "execution_count": 35,
   "id": "37c921b3",
   "metadata": {},
   "outputs": [
    {
     "data": {
      "text/plain": [
       "array([inf, inf, inf,  2.,  3., inf])"
      ]
     },
     "execution_count": 35,
     "metadata": {},
     "output_type": "execute_result"
    }
   ],
   "source": [
    "arr = np.array([4,5,6,2,3,4])\n",
    "arr=np.where(arr<arr[0],arr,np.inf)\n",
    "arr"
   ]
  },
  {
   "cell_type": "code",
   "execution_count": 36,
   "id": "6326cead",
   "metadata": {},
   "outputs": [
    {
     "data": {
      "text/plain": [
       "array([0, 0, 0, 2, 3, 0])"
      ]
     },
     "execution_count": 36,
     "metadata": {},
     "output_type": "execute_result"
    }
   ],
   "source": [
    "arr = np.array([4,5,6,2,3,4])\n",
    "arr=np.where(arr<arr[0],arr,0)\n",
    "arr"
   ]
  },
  {
   "cell_type": "code",
   "execution_count": 37,
   "id": "a0d5027c",
   "metadata": {},
   "outputs": [
    {
     "data": {
      "text/html": [
       "<div>\n",
       "<style scoped>\n",
       "    .dataframe tbody tr th:only-of-type {\n",
       "        vertical-align: middle;\n",
       "    }\n",
       "\n",
       "    .dataframe tbody tr th {\n",
       "        vertical-align: top;\n",
       "    }\n",
       "\n",
       "    .dataframe thead th {\n",
       "        text-align: right;\n",
       "    }\n",
       "</style>\n",
       "<table border=\"1\" class=\"dataframe\">\n",
       "  <thead>\n",
       "    <tr style=\"text-align: right;\">\n",
       "      <th></th>\n",
       "      <th>0</th>\n",
       "      <th>0</th>\n",
       "    </tr>\n",
       "  </thead>\n",
       "  <tbody>\n",
       "    <tr>\n",
       "      <th>3</th>\n",
       "      <td>2</td>\n",
       "      <td>2</td>\n",
       "    </tr>\n",
       "    <tr>\n",
       "      <th>4</th>\n",
       "      <td>3</td>\n",
       "      <td>3</td>\n",
       "    </tr>\n",
       "  </tbody>\n",
       "</table>\n",
       "</div>"
      ],
      "text/plain": [
       "   0  0\n",
       "3  2  2\n",
       "4  3  3"
      ]
     },
     "execution_count": 37,
     "metadata": {},
     "output_type": "execute_result"
    }
   ],
   "source": [
    "arr = np.array([4,5,6,2,3,4])\n",
    "df = pd.DataFrame(arr)\n",
    "# display(df)\n",
    "df.loc[np.where(df<4)]"
   ]
  },
  {
   "cell_type": "markdown",
   "id": "64db1e07",
   "metadata": {},
   "source": [
    "# arg"
   ]
  },
  {
   "cell_type": "markdown",
   "id": "4885dd49",
   "metadata": {},
   "source": [
    "## argmax >> returns the index of the maximum number in the array"
   ]
  },
  {
   "cell_type": "code",
   "execution_count": 38,
   "id": "448f38d7",
   "metadata": {},
   "outputs": [
    {
     "data": {
      "text/plain": [
       "3"
      ]
     },
     "execution_count": 38,
     "metadata": {},
     "output_type": "execute_result"
    }
   ],
   "source": [
    "A = [2,3,6,9,1]\n",
    "\n",
    "np.argmax(A)"
   ]
  },
  {
   "cell_type": "markdown",
   "id": "3eef88e5",
   "metadata": {},
   "source": [
    "## argmin >> returns the index of the minimum number in the array"
   ]
  },
  {
   "cell_type": "code",
   "execution_count": 39,
   "id": "2cb78636",
   "metadata": {},
   "outputs": [
    {
     "data": {
      "text/plain": [
       "4"
      ]
     },
     "execution_count": 39,
     "metadata": {},
     "output_type": "execute_result"
    }
   ],
   "source": [
    "A = [2,3,6,9,1]\n",
    "\n",
    "np.argmin(A)"
   ]
  },
  {
   "cell_type": "markdown",
   "id": "d607fc9f",
   "metadata": {},
   "source": [
    "## argsort >> returns the indexes of the sorted array"
   ]
  },
  {
   "cell_type": "code",
   "execution_count": 107,
   "id": "8e7b1dd6",
   "metadata": {},
   "outputs": [
    {
     "data": {
      "text/plain": [
       "array([4, 0, 1, 2, 3], dtype=int64)"
      ]
     },
     "execution_count": 107,
     "metadata": {},
     "output_type": "execute_result"
    }
   ],
   "source": [
    "A = [2,3,6,9,1]\n",
    "\n",
    "np.argsort(A)"
   ]
  },
  {
   "cell_type": "markdown",
   "id": "d06da957",
   "metadata": {},
   "source": [
    "# size"
   ]
  },
  {
   "cell_type": "raw",
   "id": "0d2a6b2d",
   "metadata": {},
   "source": [
    "# total number of elements in the array or matrix"
   ]
  },
  {
   "cell_type": "code",
   "execution_count": 40,
   "id": "d14b9589",
   "metadata": {},
   "outputs": [
    {
     "data": {
      "text/plain": [
       "5"
      ]
     },
     "execution_count": 40,
     "metadata": {},
     "output_type": "execute_result"
    }
   ],
   "source": [
    "np.size(A)"
   ]
  },
  {
   "cell_type": "code",
   "execution_count": 41,
   "id": "6c5b880b",
   "metadata": {},
   "outputs": [
    {
     "data": {
      "text/plain": [
       "6"
      ]
     },
     "execution_count": 41,
     "metadata": {},
     "output_type": "execute_result"
    }
   ],
   "source": [
    "B = [[2,3,4],[5,6,6]]\n",
    "np.size(B)"
   ]
  },
  {
   "cell_type": "markdown",
   "id": "ef878a43",
   "metadata": {},
   "source": [
    "# aggregate functions"
   ]
  },
  {
   "cell_type": "markdown",
   "id": "450e90df",
   "metadata": {},
   "source": [
    "## min"
   ]
  },
  {
   "cell_type": "code",
   "execution_count": 42,
   "id": "0432651e",
   "metadata": {},
   "outputs": [
    {
     "data": {
      "text/plain": [
       "1"
      ]
     },
     "execution_count": 42,
     "metadata": {},
     "output_type": "execute_result"
    }
   ],
   "source": [
    "A = [2,3,6,9,1]\n",
    "\n",
    "np.min(A)"
   ]
  },
  {
   "cell_type": "markdown",
   "id": "e2e37c3c",
   "metadata": {},
   "source": [
    "## max"
   ]
  },
  {
   "cell_type": "code",
   "execution_count": 113,
   "id": "9f96d673",
   "metadata": {},
   "outputs": [
    {
     "data": {
      "text/plain": [
       "9"
      ]
     },
     "execution_count": 113,
     "metadata": {},
     "output_type": "execute_result"
    }
   ],
   "source": [
    "A = [2,3,6,9,1]\n",
    "\n",
    "np.max(A)"
   ]
  },
  {
   "cell_type": "markdown",
   "id": "352dd1c5",
   "metadata": {},
   "source": [
    "## sum"
   ]
  },
  {
   "cell_type": "code",
   "execution_count": 114,
   "id": "c2096b13",
   "metadata": {},
   "outputs": [
    {
     "data": {
      "text/plain": [
       "21"
      ]
     },
     "execution_count": 114,
     "metadata": {},
     "output_type": "execute_result"
    }
   ],
   "source": [
    "A = [2,3,6,9,1]\n",
    "\n",
    "np.sum(A)"
   ]
  },
  {
   "cell_type": "markdown",
   "id": "a49c9667",
   "metadata": {},
   "source": [
    "## mean"
   ]
  },
  {
   "cell_type": "code",
   "execution_count": 115,
   "id": "8a302f23",
   "metadata": {},
   "outputs": [
    {
     "data": {
      "text/plain": [
       "4.2"
      ]
     },
     "execution_count": 115,
     "metadata": {},
     "output_type": "execute_result"
    }
   ],
   "source": [
    "A = [2,3,6,9,1]\n",
    "\n",
    "np.mean(A)"
   ]
  },
  {
   "cell_type": "markdown",
   "id": "cfdf1f84",
   "metadata": {},
   "source": [
    "## median"
   ]
  },
  {
   "cell_type": "code",
   "execution_count": 116,
   "id": "19cc7aef",
   "metadata": {},
   "outputs": [
    {
     "data": {
      "text/plain": [
       "3.0"
      ]
     },
     "execution_count": 116,
     "metadata": {},
     "output_type": "execute_result"
    }
   ],
   "source": [
    "A = [2,3,6,9,1]\n",
    "\n",
    "np.median(A)"
   ]
  },
  {
   "cell_type": "markdown",
   "id": "01d61fad",
   "metadata": {},
   "source": [
    "## standard deviation"
   ]
  },
  {
   "cell_type": "code",
   "execution_count": 122,
   "id": "c8646857",
   "metadata": {},
   "outputs": [
    {
     "data": {
      "text/plain": [
       "2.925747767665559"
      ]
     },
     "execution_count": 122,
     "metadata": {},
     "output_type": "execute_result"
    }
   ],
   "source": [
    "A = [2,3,6,9,1]\n",
    "\n",
    "np.std(A)"
   ]
  },
  {
   "cell_type": "markdown",
   "id": "c782e513",
   "metadata": {},
   "source": [
    "## variance"
   ]
  },
  {
   "cell_type": "code",
   "execution_count": 123,
   "id": "8f34a9a1",
   "metadata": {},
   "outputs": [
    {
     "data": {
      "text/plain": [
       "8.56"
      ]
     },
     "execution_count": 123,
     "metadata": {},
     "output_type": "execute_result"
    }
   ],
   "source": [
    "A = [2,3,6,9,1]\n",
    "\n",
    "np.var(A)"
   ]
  },
  {
   "cell_type": "code",
   "execution_count": 43,
   "id": "7056b404",
   "metadata": {},
   "outputs": [],
   "source": [
    "from statistics import mode"
   ]
  },
  {
   "cell_type": "code",
   "execution_count": 44,
   "id": "9cede3e2",
   "metadata": {},
   "outputs": [
    {
     "data": {
      "text/plain": [
       "2"
      ]
     },
     "execution_count": 44,
     "metadata": {},
     "output_type": "execute_result"
    }
   ],
   "source": [
    "A = [2,3,6,9,1,2]\n",
    "\n",
    "mode(A)"
   ]
  },
  {
   "cell_type": "markdown",
   "id": "4477bd31",
   "metadata": {},
   "source": [
    "# mathematical operations on Array"
   ]
  },
  {
   "cell_type": "code",
   "execution_count": 124,
   "id": "457e1ebb",
   "metadata": {},
   "outputs": [
    {
     "data": {
      "text/plain": [
       "array([2, 3, 6, 9, 1, 2])"
      ]
     },
     "execution_count": 124,
     "metadata": {},
     "output_type": "execute_result"
    }
   ],
   "source": [
    "array = np.array([2,3,6,9,1,2])\n",
    "array"
   ]
  },
  {
   "cell_type": "markdown",
   "id": "24ca9178",
   "metadata": {},
   "source": [
    "## addition"
   ]
  },
  {
   "cell_type": "code",
   "execution_count": 129,
   "id": "23061a16",
   "metadata": {},
   "outputs": [
    {
     "data": {
      "text/plain": [
       "array([12, 13, 16, 19, 11, 12])"
      ]
     },
     "execution_count": 129,
     "metadata": {},
     "output_type": "execute_result"
    }
   ],
   "source": [
    "array+10"
   ]
  },
  {
   "cell_type": "code",
   "execution_count": 128,
   "id": "2d8f8bb5",
   "metadata": {},
   "outputs": [
    {
     "data": {
      "text/plain": [
       "[2, 3, 4, 10]"
      ]
     },
     "execution_count": 128,
     "metadata": {},
     "output_type": "execute_result"
    }
   ],
   "source": [
    "#addition in list is differnet\n",
    "[2,3,4]+[10]"
   ]
  },
  {
   "cell_type": "code",
   "execution_count": 126,
   "id": "2bf17f1c",
   "metadata": {},
   "outputs": [
    {
     "data": {
      "text/plain": [
       "array([12, 13, 16, 19, 11, 12])"
      ]
     },
     "execution_count": 126,
     "metadata": {},
     "output_type": "execute_result"
    }
   ],
   "source": [
    "array+[10]"
   ]
  },
  {
   "cell_type": "code",
   "execution_count": 132,
   "id": "0e95f998",
   "metadata": {},
   "outputs": [
    {
     "data": {
      "text/plain": [
       "array([[4, 5],\n",
       "       [6, 7]])"
      ]
     },
     "execution_count": 132,
     "metadata": {},
     "output_type": "execute_result"
    }
   ],
   "source": [
    "array = np.array([[2,3],[4,5]])\n",
    "array+2"
   ]
  },
  {
   "cell_type": "code",
   "execution_count": 157,
   "id": "17ff90ca",
   "metadata": {},
   "outputs": [
    {
     "data": {
      "text/plain": [
       "array([ 2,  4, 12, 11,  4,  8])"
      ]
     },
     "execution_count": 157,
     "metadata": {},
     "output_type": "execute_result"
    }
   ],
   "source": [
    "array1 = np.array([2,3,6,9,1,2])\n",
    "array2 = np.array([0,1,6,2,3,6])\n",
    "\n",
    "array1+array2"
   ]
  },
  {
   "cell_type": "code",
   "execution_count": 158,
   "id": "832d8926",
   "metadata": {},
   "outputs": [
    {
     "data": {
      "text/plain": [
       "array([ 2,  4, 12, 11,  4,  8])"
      ]
     },
     "execution_count": 158,
     "metadata": {},
     "output_type": "execute_result"
    }
   ],
   "source": [
    "array1 = np.array([2,3,6,9,1,2])\n",
    "array2 = np.array([0,1,6,2,3,6])\n",
    "\n",
    "np.add(array1,array2)"
   ]
  },
  {
   "cell_type": "markdown",
   "id": "57a04a4e",
   "metadata": {},
   "source": [
    "## subtraction"
   ]
  },
  {
   "cell_type": "code",
   "execution_count": 130,
   "id": "53a797bb",
   "metadata": {},
   "outputs": [
    {
     "data": {
      "text/plain": [
       "array([1, 2, 5, 8, 0, 1])"
      ]
     },
     "execution_count": 130,
     "metadata": {},
     "output_type": "execute_result"
    }
   ],
   "source": [
    "array-1"
   ]
  },
  {
   "cell_type": "code",
   "execution_count": 134,
   "id": "bb3753f1",
   "metadata": {},
   "outputs": [
    {
     "data": {
      "text/plain": [
       "array([[-1,  0],\n",
       "       [ 1,  2]])"
      ]
     },
     "execution_count": 134,
     "metadata": {},
     "output_type": "execute_result"
    }
   ],
   "source": [
    "array = np.array([[2,3],[4,5]])\n",
    "array-3"
   ]
  },
  {
   "cell_type": "code",
   "execution_count": 159,
   "id": "11a1171c",
   "metadata": {},
   "outputs": [
    {
     "data": {
      "text/plain": [
       "array([ 2,  2,  0,  7, -2, -4])"
      ]
     },
     "execution_count": 159,
     "metadata": {},
     "output_type": "execute_result"
    }
   ],
   "source": [
    "array1 = np.array([2,3,6,9,1,2])\n",
    "array2 = np.array([0,1,6,2,3,6])\n",
    "\n",
    "array1-array2"
   ]
  },
  {
   "cell_type": "code",
   "execution_count": 160,
   "id": "90ac05a8",
   "metadata": {},
   "outputs": [
    {
     "data": {
      "text/plain": [
       "array([ 2,  2,  0,  7, -2, -4])"
      ]
     },
     "execution_count": 160,
     "metadata": {},
     "output_type": "execute_result"
    }
   ],
   "source": [
    "array1 = np.array([2,3,6,9,1,2])\n",
    "array2 = np.array([0,1,6,2,3,6])\n",
    "\n",
    "np.subtract(array1,array2)"
   ]
  },
  {
   "cell_type": "code",
   "execution_count": 161,
   "id": "fdb813fe",
   "metadata": {},
   "outputs": [
    {
     "data": {
      "text/plain": [
       "array([-2, -2,  0, -7,  2,  4])"
      ]
     },
     "execution_count": 161,
     "metadata": {},
     "output_type": "execute_result"
    }
   ],
   "source": [
    "array1 = np.array([2,3,6,9,1,2])\n",
    "array2 = np.array([0,1,6,2,3,6])\n",
    "\n",
    "np.subtract(array2,array1)"
   ]
  },
  {
   "cell_type": "markdown",
   "id": "529865b4",
   "metadata": {},
   "source": [
    "## multiplication"
   ]
  },
  {
   "cell_type": "code",
   "execution_count": 136,
   "id": "5ca941cd",
   "metadata": {},
   "outputs": [
    {
     "data": {
      "text/plain": [
       "array([ 4,  6, 12, 18,  2,  4])"
      ]
     },
     "execution_count": 136,
     "metadata": {},
     "output_type": "execute_result"
    }
   ],
   "source": [
    "array = np.array([2,3,6,9,1,2])\n",
    "array*2"
   ]
  },
  {
   "cell_type": "code",
   "execution_count": 138,
   "id": "6ef8c37c",
   "metadata": {},
   "outputs": [
    {
     "data": {
      "text/plain": [
       "array([[ 8, 11],\n",
       "       [14, 17]])"
      ]
     },
     "execution_count": 138,
     "metadata": {},
     "output_type": "execute_result"
    }
   ],
   "source": [
    "array1 = np.array([[2,3],[4,5]])\n",
    "array1*3"
   ]
  },
  {
   "cell_type": "code",
   "execution_count": 141,
   "id": "f6cf7f90",
   "metadata": {},
   "outputs": [
    {
     "name": "stdout",
     "output_type": "stream",
     "text": [
      "[[ 6 10]\n",
      " [14 18]]\n"
     ]
    }
   ],
   "source": [
    "array1 = np.array([[2,3],[4,5]])\n",
    "print((array1-2)+(array1*3))"
   ]
  },
  {
   "cell_type": "code",
   "execution_count": 162,
   "id": "41b81b0a",
   "metadata": {},
   "outputs": [
    {
     "data": {
      "text/plain": [
       "array([ 0,  3, 36, 18,  3, 12])"
      ]
     },
     "execution_count": 162,
     "metadata": {},
     "output_type": "execute_result"
    }
   ],
   "source": [
    "array1 = np.array([2,3,6,9,1,2])\n",
    "array2 = np.array([0,1,6,2,3,6])\n",
    "\n",
    "array1*array2"
   ]
  },
  {
   "cell_type": "code",
   "execution_count": 163,
   "id": "559704f4",
   "metadata": {},
   "outputs": [
    {
     "data": {
      "text/plain": [
       "array([ 0,  3, 36, 18,  3, 12])"
      ]
     },
     "execution_count": 163,
     "metadata": {},
     "output_type": "execute_result"
    }
   ],
   "source": [
    "array1 = np.array([2,3,6,9,1,2])\n",
    "array2 = np.array([0,1,6,2,3,6])\n",
    "\n",
    "np.multiply(array1,array2)"
   ]
  },
  {
   "cell_type": "markdown",
   "id": "e8612143",
   "metadata": {},
   "source": [
    "## division"
   ]
  },
  {
   "cell_type": "code",
   "execution_count": 142,
   "id": "8066fcd4",
   "metadata": {},
   "outputs": [
    {
     "data": {
      "text/plain": [
       "array([0.2, 0.3, 0.6, 0.9, 0.1, 0.2])"
      ]
     },
     "execution_count": 142,
     "metadata": {},
     "output_type": "execute_result"
    }
   ],
   "source": [
    "array = np.array([2,3,6,9,1,2])\n",
    "array/10"
   ]
  },
  {
   "cell_type": "code",
   "execution_count": 143,
   "id": "b282e725",
   "metadata": {},
   "outputs": [
    {
     "data": {
      "text/plain": [
       "array([[20., 30.],\n",
       "       [40., 50.]])"
      ]
     },
     "execution_count": 143,
     "metadata": {},
     "output_type": "execute_result"
    }
   ],
   "source": [
    "array1 = np.array([[2,3],[4,5]])\n",
    "array1/0.1"
   ]
  },
  {
   "cell_type": "code",
   "execution_count": 168,
   "id": "60e132b6",
   "metadata": {},
   "outputs": [
    {
     "data": {
      "text/plain": [
       "array([       inf, 3.        , 1.        , 4.5       , 0.33333333,\n",
       "       0.33333333])"
      ]
     },
     "execution_count": 168,
     "metadata": {},
     "output_type": "execute_result"
    }
   ],
   "source": [
    "import warnings\n",
    "warnings.filterwarnings('ignore')\n",
    "\n",
    "array1 = np.array([2,3,6,9,1,2])\n",
    "array2 = np.array([0,1,6,2,3,6])\n",
    "\n",
    "array1/array2"
   ]
  },
  {
   "cell_type": "code",
   "execution_count": 165,
   "id": "8df0f1c0",
   "metadata": {},
   "outputs": [
    {
     "data": {
      "text/plain": [
       "array([0.        , 0.33333333, 1.        , 0.22222222, 3.        ,\n",
       "       3.        ])"
      ]
     },
     "execution_count": 165,
     "metadata": {},
     "output_type": "execute_result"
    }
   ],
   "source": [
    "array1 = np.array([2,3,6,9,1,2])\n",
    "array2 = np.array([0,1,6,2,3,6])\n",
    "\n",
    "np.divide(array2,array1)"
   ]
  },
  {
   "cell_type": "markdown",
   "id": "aa48d342",
   "metadata": {},
   "source": [
    "## floor division"
   ]
  },
  {
   "cell_type": "code",
   "execution_count": 145,
   "id": "949f6cdc",
   "metadata": {},
   "outputs": [
    {
     "data": {
      "text/plain": [
       "array([1, 1, 3, 4, 0, 1], dtype=int32)"
      ]
     },
     "execution_count": 145,
     "metadata": {},
     "output_type": "execute_result"
    }
   ],
   "source": [
    "array = np.array([2,3,6,9,1,2])\n",
    "array//2"
   ]
  },
  {
   "cell_type": "code",
   "execution_count": 146,
   "id": "28df3a09",
   "metadata": {},
   "outputs": [
    {
     "data": {
      "text/plain": [
       "array([[19., 29.],\n",
       "       [39., 49.]])"
      ]
     },
     "execution_count": 146,
     "metadata": {},
     "output_type": "execute_result"
    }
   ],
   "source": [
    "array1 = np.array([[2,3],[4,5]])\n",
    "array1//0.1"
   ]
  },
  {
   "cell_type": "code",
   "execution_count": 170,
   "id": "6ba7e3c8",
   "metadata": {},
   "outputs": [
    {
     "data": {
      "text/plain": [
       "array([0, 3, 1, 4, 0, 0], dtype=int32)"
      ]
     },
     "execution_count": 170,
     "metadata": {},
     "output_type": "execute_result"
    }
   ],
   "source": [
    "array1 = np.array([2,3,6,9,1,2])\n",
    "array2 = np.array([0,1,6,2,3,6])\n",
    "\n",
    "array1//array2"
   ]
  },
  {
   "cell_type": "code",
   "execution_count": 169,
   "id": "e790001f",
   "metadata": {},
   "outputs": [
    {
     "data": {
      "text/plain": [
       "array([0, 0, 1, 0, 3, 3], dtype=int32)"
      ]
     },
     "execution_count": 169,
     "metadata": {},
     "output_type": "execute_result"
    }
   ],
   "source": [
    "array1 = np.array([2,3,6,9,1,2])\n",
    "array2 = np.array([0,1,6,2,3,6])\n",
    "\n",
    "np.floor_divide(array2,array1)"
   ]
  },
  {
   "cell_type": "markdown",
   "id": "4c6148da",
   "metadata": {},
   "source": [
    "## remainder"
   ]
  },
  {
   "cell_type": "code",
   "execution_count": 147,
   "id": "8dd8f125",
   "metadata": {},
   "outputs": [
    {
     "data": {
      "text/plain": [
       "array([0, 1, 0, 1, 1, 0], dtype=int32)"
      ]
     },
     "execution_count": 147,
     "metadata": {},
     "output_type": "execute_result"
    }
   ],
   "source": [
    "array = np.array([2,3,6,9,1,2])\n",
    "array%2"
   ]
  },
  {
   "cell_type": "code",
   "execution_count": 148,
   "id": "a59362eb",
   "metadata": {},
   "outputs": [
    {
     "data": {
      "text/plain": [
       "array([[2, 0],\n",
       "       [1, 2]], dtype=int32)"
      ]
     },
     "execution_count": 148,
     "metadata": {},
     "output_type": "execute_result"
    }
   ],
   "source": [
    "array1 = np.array([[2,3],[4,5]])\n",
    "array1%3"
   ]
  },
  {
   "cell_type": "code",
   "execution_count": 172,
   "id": "0f500c50",
   "metadata": {},
   "outputs": [
    {
     "data": {
      "text/plain": [
       "array([0, 0, 0, 1, 1, 2], dtype=int32)"
      ]
     },
     "execution_count": 172,
     "metadata": {},
     "output_type": "execute_result"
    }
   ],
   "source": [
    "array1 = np.array([2,3,6,9,1,2])\n",
    "array2 = np.array([0,1,6,2,3,6])\n",
    "\n",
    "array1%array2"
   ]
  },
  {
   "cell_type": "code",
   "execution_count": 171,
   "id": "6efc3e7f",
   "metadata": {},
   "outputs": [
    {
     "data": {
      "text/plain": [
       "array([0, 1, 0, 2, 0, 0], dtype=int32)"
      ]
     },
     "execution_count": 171,
     "metadata": {},
     "output_type": "execute_result"
    }
   ],
   "source": [
    "array1 = np.array([2,3,6,9,1,2])\n",
    "array2 = np.array([0,1,6,2,3,6])\n",
    "\n",
    "np.remainder(array2,array1)"
   ]
  },
  {
   "cell_type": "markdown",
   "id": "3bdf79e8",
   "metadata": {},
   "source": [
    "## square"
   ]
  },
  {
   "cell_type": "code",
   "execution_count": 150,
   "id": "8b00c44f",
   "metadata": {},
   "outputs": [
    {
     "data": {
      "text/plain": [
       "array([ 4,  9, 36, 81,  1,  4], dtype=int32)"
      ]
     },
     "execution_count": 150,
     "metadata": {},
     "output_type": "execute_result"
    }
   ],
   "source": [
    "array = np.array([2,3,6,9,1,2])\n",
    "array**2"
   ]
  },
  {
   "cell_type": "code",
   "execution_count": 151,
   "id": "598991d6",
   "metadata": {},
   "outputs": [
    {
     "data": {
      "text/plain": [
       "array([ 4,  9, 36, 81,  1,  4], dtype=int32)"
      ]
     },
     "execution_count": 151,
     "metadata": {},
     "output_type": "execute_result"
    }
   ],
   "source": [
    "np.square(array)"
   ]
  },
  {
   "cell_type": "code",
   "execution_count": 152,
   "id": "fef4654d",
   "metadata": {},
   "outputs": [
    {
     "data": {
      "text/plain": [
       "array([ 4,  9, 36, 81,  1,  4], dtype=int32)"
      ]
     },
     "execution_count": 152,
     "metadata": {},
     "output_type": "execute_result"
    }
   ],
   "source": [
    "np.power(array,2)"
   ]
  },
  {
   "cell_type": "code",
   "execution_count": 153,
   "id": "fc9e9dc0",
   "metadata": {},
   "outputs": [
    {
     "data": {
      "text/plain": [
       "array([ 4,  9, 36, 81,  1,  4], dtype=int32)"
      ]
     },
     "execution_count": 153,
     "metadata": {},
     "output_type": "execute_result"
    }
   ],
   "source": [
    "pow(array,2)"
   ]
  },
  {
   "cell_type": "code",
   "execution_count": 45,
   "id": "d7e9fc59",
   "metadata": {},
   "outputs": [
    {
     "data": {
      "text/plain": [
       "array([[ 4,  9],\n",
       "       [16, 25]], dtype=int32)"
      ]
     },
     "execution_count": 45,
     "metadata": {},
     "output_type": "execute_result"
    }
   ],
   "source": [
    "array1 = np.array([[2,3],[4,5]])\n",
    "np.square(array1)"
   ]
  },
  {
   "cell_type": "code",
   "execution_count": null,
   "id": "d9ad8e70",
   "metadata": {},
   "outputs": [],
   "source": []
  }
 ],
 "metadata": {
  "kernelspec": {
   "display_name": "Python 3 (ipykernel)",
   "language": "python",
   "name": "python3"
  },
  "language_info": {
   "codemirror_mode": {
    "name": "ipython",
    "version": 3
   },
   "file_extension": ".py",
   "mimetype": "text/x-python",
   "name": "python",
   "nbconvert_exporter": "python",
   "pygments_lexer": "ipython3",
   "version": "3.9.7"
  },
  "toc": {
   "base_numbering": 1,
   "nav_menu": {},
   "number_sections": true,
   "sideBar": true,
   "skip_h1_title": false,
   "title_cell": "Table of Contents",
   "title_sidebar": "Contents",
   "toc_cell": false,
   "toc_position": {},
   "toc_section_display": true,
   "toc_window_display": false
  }
 },
 "nbformat": 4,
 "nbformat_minor": 5
}

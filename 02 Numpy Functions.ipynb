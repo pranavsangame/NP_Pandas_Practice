{
 "cells": [
  {
   "cell_type": "code",
   "execution_count": 1,
   "id": "b9511e99",
   "metadata": {},
   "outputs": [],
   "source": [
    "import numpy as np"
   ]
  },
  {
   "cell_type": "markdown",
   "id": "ec59821d",
   "metadata": {},
   "source": [
    "# Reshape"
   ]
  },
  {
   "cell_type": "code",
   "execution_count": 2,
   "id": "c1a148a7",
   "metadata": {},
   "outputs": [
    {
     "data": {
      "text/plain": [
       "array([2, 3, 5, 7, 8, 9, 0, 1, 5, 2, 7, 2])"
      ]
     },
     "execution_count": 2,
     "metadata": {},
     "output_type": "execute_result"
    }
   ],
   "source": [
    "import numpy as np\n",
    "Array = np.array([2,3,5,7,8,9,0,1,5,2,7,2])\n",
    "Array"
   ]
  },
  {
   "cell_type": "code",
   "execution_count": 3,
   "id": "8ab0af45",
   "metadata": {},
   "outputs": [
    {
     "data": {
      "text/plain": [
       "array([[2, 3, 5, 7, 8, 9, 0, 1, 5, 2, 7, 2]])"
      ]
     },
     "execution_count": 3,
     "metadata": {},
     "output_type": "execute_result"
    }
   ],
   "source": [
    "Array = Array.reshape(1,12)\n",
    "Array"
   ]
  },
  {
   "cell_type": "code",
   "execution_count": 4,
   "id": "a4686caa",
   "metadata": {},
   "outputs": [
    {
     "data": {
      "text/plain": [
       "array([[[2, 3],\n",
       "        [5, 7]],\n",
       "\n",
       "       [[8, 9],\n",
       "        [0, 1]],\n",
       "\n",
       "       [[5, 2],\n",
       "        [7, 2]]])"
      ]
     },
     "execution_count": 4,
     "metadata": {},
     "output_type": "execute_result"
    }
   ],
   "source": [
    "Array.reshape(3,2,2)"
   ]
  },
  {
   "cell_type": "markdown",
   "id": "6539406e",
   "metadata": {},
   "source": [
    "# Converting an array to list"
   ]
  },
  {
   "cell_type": "code",
   "execution_count": 5,
   "id": "893d18db",
   "metadata": {},
   "outputs": [
    {
     "data": {
      "text/plain": [
       "[2, 3, 5, 7, 8, 9, 0, 1, 5, 2, 7, 2, 100]"
      ]
     },
     "execution_count": 5,
     "metadata": {},
     "output_type": "execute_result"
    }
   ],
   "source": [
    "Array = np.array([2,3,5,7,8,9,0,1,5,2,7,2])\n",
    "X = list(Array)\n",
    "\n",
    "X.append(100)\n",
    "X"
   ]
  },
  {
   "cell_type": "code",
   "execution_count": 6,
   "id": "b221c196",
   "metadata": {},
   "outputs": [
    {
     "data": {
      "text/plain": [
       "[2, 3, 5, 7, 8, 9, 0, 1, 5, 2, 7, 2, 100]"
      ]
     },
     "execution_count": 6,
     "metadata": {},
     "output_type": "execute_result"
    }
   ],
   "source": [
    "Array = np.array([2,3,5,7,8,9,0,1,5,2,7,2])\n",
    "X = Array.tolist()\n",
    "\n",
    "X.extend([100])\n",
    "X"
   ]
  },
  {
   "cell_type": "code",
   "execution_count": 7,
   "id": "a81e5c87",
   "metadata": {},
   "outputs": [
    {
     "data": {
      "text/plain": [
       "array([[2, 3, 5, 7, 8, 9, 0, 1, 5, 2, 7, 2]])"
      ]
     },
     "execution_count": 7,
     "metadata": {},
     "output_type": "execute_result"
    }
   ],
   "source": [
    "Array = Array.reshape(1,12)\n",
    "Array"
   ]
  },
  {
   "cell_type": "code",
   "execution_count": 8,
   "id": "b21d5eb2",
   "metadata": {},
   "outputs": [
    {
     "data": {
      "text/plain": [
       "[array([2, 3, 5, 7, 8, 9, 0, 1, 5, 2, 7, 2]), 100]"
      ]
     },
     "execution_count": 8,
     "metadata": {},
     "output_type": "execute_result"
    }
   ],
   "source": [
    "X = list(Array)\n",
    "X.append(100)\n",
    "X"
   ]
  },
  {
   "cell_type": "code",
   "execution_count": 9,
   "id": "f0b94ac1",
   "metadata": {},
   "outputs": [
    {
     "data": {
      "text/plain": [
       "[2, 3, 5, 7, 8, 9, 0, 1, 5, 2, 7, 2, 100, 200]"
      ]
     },
     "execution_count": 9,
     "metadata": {},
     "output_type": "execute_result"
    }
   ],
   "source": [
    "X = list(Array[0])\n",
    "X.extend([100])\n",
    "X.extend([200])\n",
    "X"
   ]
  },
  {
   "cell_type": "code",
   "execution_count": 10,
   "id": "7ae4f995",
   "metadata": {},
   "outputs": [
    {
     "data": {
      "text/plain": [
       "array([[  2,   3,   5,   7,   8,   9,   0],\n",
       "       [  1,   5,   2,   7,   2, 100, 200]])"
      ]
     },
     "execution_count": 10,
     "metadata": {},
     "output_type": "execute_result"
    }
   ],
   "source": [
    "X = np.array(X).reshape(2,7)\n",
    "X"
   ]
  },
  {
   "cell_type": "markdown",
   "id": "84648b45",
   "metadata": {},
   "source": [
    "# Creating an empty array"
   ]
  },
  {
   "cell_type": "code",
   "execution_count": 11,
   "id": "92f6168c",
   "metadata": {},
   "outputs": [
    {
     "data": {
      "text/plain": [
       "array([], dtype=uint32)"
      ]
     },
     "execution_count": 11,
     "metadata": {},
     "output_type": "execute_result"
    }
   ],
   "source": [
    "empty_array = np.array([],dtype='I')\n",
    "empty_array"
   ]
  },
  {
   "cell_type": "markdown",
   "id": "e5b15842",
   "metadata": {},
   "source": [
    "# Creating an array or matrix of zeros"
   ]
  },
  {
   "cell_type": "code",
   "execution_count": 12,
   "id": "176ce26d",
   "metadata": {},
   "outputs": [
    {
     "data": {
      "text/plain": [
       "array([0., 0., 0., 0., 0.])"
      ]
     },
     "execution_count": 12,
     "metadata": {},
     "output_type": "execute_result"
    }
   ],
   "source": [
    "arr = np.zeros(5)\n",
    "arr"
   ]
  },
  {
   "cell_type": "code",
   "execution_count": 13,
   "id": "5a1b6ac7",
   "metadata": {},
   "outputs": [
    {
     "data": {
      "text/plain": [
       "array([0, 0, 0, 0, 0], dtype=uint32)"
      ]
     },
     "execution_count": 13,
     "metadata": {},
     "output_type": "execute_result"
    }
   ],
   "source": [
    "arr = np.zeros(5,dtype='I')\n",
    "arr"
   ]
  },
  {
   "cell_type": "code",
   "execution_count": 14,
   "id": "28a375eb",
   "metadata": {},
   "outputs": [
    {
     "data": {
      "text/plain": [
       "array([[0, 0, 0, 0],\n",
       "       [0, 0, 0, 0],\n",
       "       [0, 0, 0, 0],\n",
       "       [0, 0, 0, 0],\n",
       "       [0, 0, 0, 0]], dtype=uint32)"
      ]
     },
     "execution_count": 14,
     "metadata": {},
     "output_type": "execute_result"
    }
   ],
   "source": [
    "arr = np.zeros((5,4),dtype='I')\n",
    "arr"
   ]
  },
  {
   "cell_type": "markdown",
   "id": "1780aacc",
   "metadata": {},
   "source": [
    "# Creating a matrix of ones"
   ]
  },
  {
   "cell_type": "code",
   "execution_count": 15,
   "id": "13b93d86",
   "metadata": {},
   "outputs": [
    {
     "data": {
      "text/plain": [
       "array([1., 1., 1., 1., 1.])"
      ]
     },
     "execution_count": 15,
     "metadata": {},
     "output_type": "execute_result"
    }
   ],
   "source": [
    "arr = np.ones(5)\n",
    "arr"
   ]
  },
  {
   "cell_type": "code",
   "execution_count": 16,
   "id": "68e49677",
   "metadata": {},
   "outputs": [
    {
     "data": {
      "text/plain": [
       "array([1, 1, 1, 1, 1], dtype=uint32)"
      ]
     },
     "execution_count": 16,
     "metadata": {},
     "output_type": "execute_result"
    }
   ],
   "source": [
    "arr = np.ones(5,dtype='I')\n",
    "arr"
   ]
  },
  {
   "cell_type": "code",
   "execution_count": 17,
   "id": "9da5c06a",
   "metadata": {},
   "outputs": [
    {
     "data": {
      "text/plain": [
       "array([[1, 1, 1, 1, 1, 1, 1, 1, 1, 1, 1, 1],\n",
       "       [1, 1, 1, 1, 1, 1, 1, 1, 1, 1, 1, 1],\n",
       "       [1, 1, 1, 1, 1, 1, 1, 1, 1, 1, 1, 1],\n",
       "       [1, 1, 1, 1, 1, 1, 1, 1, 1, 1, 1, 1],\n",
       "       [1, 1, 1, 1, 1, 1, 1, 1, 1, 1, 1, 1],\n",
       "       [1, 1, 1, 1, 1, 1, 1, 1, 1, 1, 1, 1],\n",
       "       [1, 1, 1, 1, 1, 1, 1, 1, 1, 1, 1, 1],\n",
       "       [1, 1, 1, 1, 1, 1, 1, 1, 1, 1, 1, 1],\n",
       "       [1, 1, 1, 1, 1, 1, 1, 1, 1, 1, 1, 1],\n",
       "       [1, 1, 1, 1, 1, 1, 1, 1, 1, 1, 1, 1]], dtype=uint32)"
      ]
     },
     "execution_count": 17,
     "metadata": {},
     "output_type": "execute_result"
    }
   ],
   "source": [
    "arr = np.ones((10,12),dtype='I')\n",
    "arr"
   ]
  },
  {
   "cell_type": "code",
   "execution_count": 18,
   "id": "41698fda",
   "metadata": {},
   "outputs": [
    {
     "data": {
      "text/plain": [
       "['A', 'B', 'C', 'D', 'E', 'F', 'G', 'H', 'I', 'J', 'K', 'L']"
      ]
     },
     "execution_count": 18,
     "metadata": {},
     "output_type": "execute_result"
    }
   ],
   "source": [
    "list('ABCDEFGHIJKL')"
   ]
  },
  {
   "cell_type": "code",
   "execution_count": 19,
   "id": "e2905d8e",
   "metadata": {},
   "outputs": [
    {
     "data": {
      "text/html": [
       "<div>\n",
       "<style scoped>\n",
       "    .dataframe tbody tr th:only-of-type {\n",
       "        vertical-align: middle;\n",
       "    }\n",
       "\n",
       "    .dataframe tbody tr th {\n",
       "        vertical-align: top;\n",
       "    }\n",
       "\n",
       "    .dataframe thead th {\n",
       "        text-align: right;\n",
       "    }\n",
       "</style>\n",
       "<table border=\"1\" class=\"dataframe\">\n",
       "  <thead>\n",
       "    <tr style=\"text-align: right;\">\n",
       "      <th></th>\n",
       "      <th>A</th>\n",
       "      <th>B</th>\n",
       "      <th>C</th>\n",
       "      <th>D</th>\n",
       "      <th>E</th>\n",
       "      <th>F</th>\n",
       "      <th>G</th>\n",
       "      <th>H</th>\n",
       "      <th>I</th>\n",
       "      <th>J</th>\n",
       "      <th>K</th>\n",
       "      <th>L</th>\n",
       "    </tr>\n",
       "  </thead>\n",
       "  <tbody>\n",
       "    <tr>\n",
       "      <th>0</th>\n",
       "      <td>1</td>\n",
       "      <td>1</td>\n",
       "      <td>1</td>\n",
       "      <td>1</td>\n",
       "      <td>1</td>\n",
       "      <td>1</td>\n",
       "      <td>1</td>\n",
       "      <td>1</td>\n",
       "      <td>1</td>\n",
       "      <td>1</td>\n",
       "      <td>1</td>\n",
       "      <td>1</td>\n",
       "    </tr>\n",
       "    <tr>\n",
       "      <th>1</th>\n",
       "      <td>1</td>\n",
       "      <td>1</td>\n",
       "      <td>1</td>\n",
       "      <td>1</td>\n",
       "      <td>1</td>\n",
       "      <td>1</td>\n",
       "      <td>1</td>\n",
       "      <td>1</td>\n",
       "      <td>1</td>\n",
       "      <td>1</td>\n",
       "      <td>1</td>\n",
       "      <td>1</td>\n",
       "    </tr>\n",
       "    <tr>\n",
       "      <th>2</th>\n",
       "      <td>1</td>\n",
       "      <td>1</td>\n",
       "      <td>1</td>\n",
       "      <td>1</td>\n",
       "      <td>1</td>\n",
       "      <td>1</td>\n",
       "      <td>1</td>\n",
       "      <td>1</td>\n",
       "      <td>1</td>\n",
       "      <td>1</td>\n",
       "      <td>1</td>\n",
       "      <td>1</td>\n",
       "    </tr>\n",
       "    <tr>\n",
       "      <th>3</th>\n",
       "      <td>1</td>\n",
       "      <td>1</td>\n",
       "      <td>1</td>\n",
       "      <td>1</td>\n",
       "      <td>1</td>\n",
       "      <td>1</td>\n",
       "      <td>1</td>\n",
       "      <td>1</td>\n",
       "      <td>1</td>\n",
       "      <td>1</td>\n",
       "      <td>1</td>\n",
       "      <td>1</td>\n",
       "    </tr>\n",
       "    <tr>\n",
       "      <th>4</th>\n",
       "      <td>1</td>\n",
       "      <td>1</td>\n",
       "      <td>1</td>\n",
       "      <td>1</td>\n",
       "      <td>1</td>\n",
       "      <td>1</td>\n",
       "      <td>1</td>\n",
       "      <td>1</td>\n",
       "      <td>1</td>\n",
       "      <td>1</td>\n",
       "      <td>1</td>\n",
       "      <td>1</td>\n",
       "    </tr>\n",
       "    <tr>\n",
       "      <th>5</th>\n",
       "      <td>1</td>\n",
       "      <td>1</td>\n",
       "      <td>1</td>\n",
       "      <td>1</td>\n",
       "      <td>1</td>\n",
       "      <td>1</td>\n",
       "      <td>1</td>\n",
       "      <td>1</td>\n",
       "      <td>1</td>\n",
       "      <td>1</td>\n",
       "      <td>1</td>\n",
       "      <td>1</td>\n",
       "    </tr>\n",
       "    <tr>\n",
       "      <th>6</th>\n",
       "      <td>1</td>\n",
       "      <td>1</td>\n",
       "      <td>1</td>\n",
       "      <td>1</td>\n",
       "      <td>1</td>\n",
       "      <td>1</td>\n",
       "      <td>1</td>\n",
       "      <td>1</td>\n",
       "      <td>1</td>\n",
       "      <td>1</td>\n",
       "      <td>1</td>\n",
       "      <td>1</td>\n",
       "    </tr>\n",
       "    <tr>\n",
       "      <th>7</th>\n",
       "      <td>1</td>\n",
       "      <td>1</td>\n",
       "      <td>1</td>\n",
       "      <td>1</td>\n",
       "      <td>1</td>\n",
       "      <td>1</td>\n",
       "      <td>1</td>\n",
       "      <td>1</td>\n",
       "      <td>1</td>\n",
       "      <td>1</td>\n",
       "      <td>1</td>\n",
       "      <td>1</td>\n",
       "    </tr>\n",
       "    <tr>\n",
       "      <th>8</th>\n",
       "      <td>1</td>\n",
       "      <td>1</td>\n",
       "      <td>1</td>\n",
       "      <td>1</td>\n",
       "      <td>1</td>\n",
       "      <td>1</td>\n",
       "      <td>1</td>\n",
       "      <td>1</td>\n",
       "      <td>1</td>\n",
       "      <td>1</td>\n",
       "      <td>1</td>\n",
       "      <td>1</td>\n",
       "    </tr>\n",
       "    <tr>\n",
       "      <th>9</th>\n",
       "      <td>1</td>\n",
       "      <td>1</td>\n",
       "      <td>1</td>\n",
       "      <td>1</td>\n",
       "      <td>1</td>\n",
       "      <td>1</td>\n",
       "      <td>1</td>\n",
       "      <td>1</td>\n",
       "      <td>1</td>\n",
       "      <td>1</td>\n",
       "      <td>1</td>\n",
       "      <td>1</td>\n",
       "    </tr>\n",
       "  </tbody>\n",
       "</table>\n",
       "</div>"
      ],
      "text/plain": [
       "   A  B  C  D  E  F  G  H  I  J  K  L\n",
       "0  1  1  1  1  1  1  1  1  1  1  1  1\n",
       "1  1  1  1  1  1  1  1  1  1  1  1  1\n",
       "2  1  1  1  1  1  1  1  1  1  1  1  1\n",
       "3  1  1  1  1  1  1  1  1  1  1  1  1\n",
       "4  1  1  1  1  1  1  1  1  1  1  1  1\n",
       "5  1  1  1  1  1  1  1  1  1  1  1  1\n",
       "6  1  1  1  1  1  1  1  1  1  1  1  1\n",
       "7  1  1  1  1  1  1  1  1  1  1  1  1\n",
       "8  1  1  1  1  1  1  1  1  1  1  1  1\n",
       "9  1  1  1  1  1  1  1  1  1  1  1  1"
      ]
     },
     "execution_count": 19,
     "metadata": {},
     "output_type": "execute_result"
    }
   ],
   "source": [
    "import pandas as pd\n",
    "df = pd.DataFrame(arr,columns=list('ABCDEFGHIJKL'))\n",
    "df"
   ]
  },
  {
   "cell_type": "markdown",
   "id": "85f31233",
   "metadata": {},
   "source": [
    "# creating a sequence of numbers using arange function"
   ]
  },
  {
   "cell_type": "code",
   "execution_count": 20,
   "id": "752155b2",
   "metadata": {},
   "outputs": [
    {
     "data": {
      "text/plain": [
       "[1, 2, 3, 4, 5, 6, 7, 8, 9, 10, 11, 12, 13, 14, 15, 16, 17, 18, 19]"
      ]
     },
     "execution_count": 20,
     "metadata": {},
     "output_type": "execute_result"
    }
   ],
   "source": [
    "list(range(1,20))"
   ]
  },
  {
   "cell_type": "code",
   "execution_count": 21,
   "id": "2c57c2e2",
   "metadata": {},
   "outputs": [
    {
     "data": {
      "text/plain": [
       "array([ 1,  2,  3,  4,  5,  6,  7,  8,  9, 10, 11, 12, 13, 14, 15, 16, 17,\n",
       "       18, 19])"
      ]
     },
     "execution_count": 21,
     "metadata": {},
     "output_type": "execute_result"
    }
   ],
   "source": [
    "Range_array = np.arange(1,20)\n",
    "Range_array"
   ]
  },
  {
   "cell_type": "code",
   "execution_count": 22,
   "id": "d965f54e",
   "metadata": {},
   "outputs": [
    {
     "data": {
      "text/plain": [
       "[1, 3, 5, 7, 9, 11, 13, 15, 17, 19]"
      ]
     },
     "execution_count": 22,
     "metadata": {},
     "output_type": "execute_result"
    }
   ],
   "source": [
    "list(range(1,20,2))"
   ]
  },
  {
   "cell_type": "code",
   "execution_count": 23,
   "id": "2edb52ad",
   "metadata": {},
   "outputs": [
    {
     "data": {
      "text/plain": [
       "array([ 1,  3,  5,  7,  9, 11, 13, 15, 17, 19])"
      ]
     },
     "execution_count": 23,
     "metadata": {},
     "output_type": "execute_result"
    }
   ],
   "source": [
    "Range_array = np.arange(1,20,2)\n",
    "Range_array"
   ]
  },
  {
   "cell_type": "code",
   "execution_count": 24,
   "id": "72d85730",
   "metadata": {},
   "outputs": [
    {
     "data": {
      "text/plain": [
       "[20, 18, 16, 14, 12, 10, 8, 6, 4, 2]"
      ]
     },
     "execution_count": 24,
     "metadata": {},
     "output_type": "execute_result"
    }
   ],
   "source": [
    "list(range(20,0,-2))"
   ]
  },
  {
   "cell_type": "code",
   "execution_count": 25,
   "id": "3b5a0960",
   "metadata": {},
   "outputs": [
    {
     "data": {
      "text/plain": [
       "array([[20., 18., 16., 14., 12.],\n",
       "       [10.,  8.,  6.,  4.,  2.]])"
      ]
     },
     "execution_count": 25,
     "metadata": {},
     "output_type": "execute_result"
    }
   ],
   "source": [
    "Range_array = np.arange(20,0,-2,dtype='float').reshape(2,5)\n",
    "Range_array"
   ]
  },
  {
   "cell_type": "markdown",
   "id": "99ba3a64",
   "metadata": {},
   "source": [
    "# linspace() for creating linearly spaced values"
   ]
  },
  {
   "cell_type": "raw",
   "id": "5ccf180e",
   "metadata": {},
   "source": [
    "linspace(start,end,num=10,retstep=True)\n",
    "if retstep is True then it shows the step size(an interval between any 2 consecutive numbers)."
   ]
  },
  {
   "cell_type": "code",
   "execution_count": 26,
   "id": "4cbe1909",
   "metadata": {},
   "outputs": [
    {
     "data": {
      "text/plain": [
       "(array([ 0,  1,  2,  3,  4,  5,  6,  7,  8,  9, 10, 11, 12, 13, 14, 15, 16,\n",
       "        17, 18, 19, 20], dtype=uint32),\n",
       " 1.0)"
      ]
     },
     "execution_count": 26,
     "metadata": {},
     "output_type": "execute_result"
    }
   ],
   "source": [
    "dummy_arr= np.linspace(0,20,num=21,dtype='I',retstep=True)\n",
    "dummy_arr"
   ]
  },
  {
   "cell_type": "code",
   "execution_count": 27,
   "id": "e531987b",
   "metadata": {},
   "outputs": [
    {
     "data": {
      "text/plain": [
       "array([ 0.,  1.,  2.,  3.,  4.,  5.,  6.,  7.,  8.,  9., 10., 11., 12.,\n",
       "       13., 14., 15., 16., 17., 18., 19., 20.])"
      ]
     },
     "execution_count": 27,
     "metadata": {},
     "output_type": "execute_result"
    }
   ],
   "source": [
    "dummy_arr = np.linspace(0,20,21)\n",
    "dummy_arr"
   ]
  },
  {
   "cell_type": "code",
   "execution_count": 28,
   "id": "28f30870",
   "metadata": {},
   "outputs": [
    {
     "data": {
      "text/plain": [
       "array([ 0.,  2.,  4.,  6.,  8., 10., 12., 14., 16., 18., 20.])"
      ]
     },
     "execution_count": 28,
     "metadata": {},
     "output_type": "execute_result"
    }
   ],
   "source": [
    "dummy_arr = np.linspace(0,20,11)\n",
    "dummy_arr"
   ]
  },
  {
   "cell_type": "code",
   "execution_count": 29,
   "id": "7e8bf2f3",
   "metadata": {},
   "outputs": [
    {
     "data": {
      "text/plain": [
       "array([ 6., 12., 18., 24., 30., 36.])"
      ]
     },
     "execution_count": 29,
     "metadata": {},
     "output_type": "execute_result"
    }
   ],
   "source": [
    "dummy_arr = np.linspace(6,36,6)\n",
    "dummy_arr"
   ]
  },
  {
   "cell_type": "code",
   "execution_count": 30,
   "id": "30ad3a34",
   "metadata": {},
   "outputs": [
    {
     "data": {
      "text/plain": [
       "(array([ 0.        ,  1.05263158,  2.10526316,  3.15789474,  4.21052632,\n",
       "         5.26315789,  6.31578947,  7.36842105,  8.42105263,  9.47368421,\n",
       "        10.52631579, 11.57894737, 12.63157895, 13.68421053, 14.73684211,\n",
       "        15.78947368, 16.84210526, 17.89473684, 18.94736842, 20.        ]),\n",
       " 1.0526315789473684)"
      ]
     },
     "execution_count": 30,
     "metadata": {},
     "output_type": "execute_result"
    }
   ],
   "source": [
    "dummy_arr = np.linspace(0,20,20,retstep=1)\n",
    "dummy_arr"
   ]
  },
  {
   "cell_type": "code",
   "execution_count": 31,
   "id": "cb299c9f",
   "metadata": {},
   "outputs": [
    {
     "data": {
      "text/plain": [
       "(array([  0.        ,   2.04081633,   4.08163265,   6.12244898,\n",
       "          8.16326531,  10.20408163,  12.24489796,  14.28571429,\n",
       "         16.32653061,  18.36734694,  20.40816327,  22.44897959,\n",
       "         24.48979592,  26.53061224,  28.57142857,  30.6122449 ,\n",
       "         32.65306122,  34.69387755,  36.73469388,  38.7755102 ,\n",
       "         40.81632653,  42.85714286,  44.89795918,  46.93877551,\n",
       "         48.97959184,  51.02040816,  53.06122449,  55.10204082,\n",
       "         57.14285714,  59.18367347,  61.2244898 ,  63.26530612,\n",
       "         65.30612245,  67.34693878,  69.3877551 ,  71.42857143,\n",
       "         73.46938776,  75.51020408,  77.55102041,  79.59183673,\n",
       "         81.63265306,  83.67346939,  85.71428571,  87.75510204,\n",
       "         89.79591837,  91.83673469,  93.87755102,  95.91836735,\n",
       "         97.95918367, 100.        ]),\n",
       " 2.0408163265306123)"
      ]
     },
     "execution_count": 31,
     "metadata": {},
     "output_type": "execute_result"
    }
   ],
   "source": [
    "dummy_arr = np.linspace(0,100,retstep=True)\n",
    "dummy_arr"
   ]
  },
  {
   "cell_type": "code",
   "execution_count": 32,
   "id": "2882380d",
   "metadata": {},
   "outputs": [
    {
     "data": {
      "text/html": [
       "<div>\n",
       "<style scoped>\n",
       "    .dataframe tbody tr th:only-of-type {\n",
       "        vertical-align: middle;\n",
       "    }\n",
       "\n",
       "    .dataframe tbody tr th {\n",
       "        vertical-align: top;\n",
       "    }\n",
       "\n",
       "    .dataframe thead th {\n",
       "        text-align: right;\n",
       "    }\n",
       "</style>\n",
       "<table border=\"1\" class=\"dataframe\">\n",
       "  <thead>\n",
       "    <tr style=\"text-align: right;\">\n",
       "      <th></th>\n",
       "      <th>amount</th>\n",
       "      <th>intrest</th>\n",
       "      <th>month</th>\n",
       "    </tr>\n",
       "  </thead>\n",
       "  <tbody>\n",
       "    <tr>\n",
       "      <th>0</th>\n",
       "      <td>100</td>\n",
       "      <td>12.5</td>\n",
       "      <td>6</td>\n",
       "    </tr>\n",
       "    <tr>\n",
       "      <th>1</th>\n",
       "      <td>200</td>\n",
       "      <td>10.7</td>\n",
       "      <td>12</td>\n",
       "    </tr>\n",
       "    <tr>\n",
       "      <th>2</th>\n",
       "      <td>300</td>\n",
       "      <td>8.9</td>\n",
       "      <td>18</td>\n",
       "    </tr>\n",
       "    <tr>\n",
       "      <th>3</th>\n",
       "      <td>400</td>\n",
       "      <td>7.1</td>\n",
       "      <td>24</td>\n",
       "    </tr>\n",
       "    <tr>\n",
       "      <th>4</th>\n",
       "      <td>500</td>\n",
       "      <td>5.3</td>\n",
       "      <td>30</td>\n",
       "    </tr>\n",
       "    <tr>\n",
       "      <th>5</th>\n",
       "      <td>600</td>\n",
       "      <td>3.5</td>\n",
       "      <td>36</td>\n",
       "    </tr>\n",
       "  </tbody>\n",
       "</table>\n",
       "</div>"
      ],
      "text/plain": [
       "   amount  intrest  month\n",
       "0     100     12.5      6\n",
       "1     200     10.7     12\n",
       "2     300      8.9     18\n",
       "3     400      7.1     24\n",
       "4     500      5.3     30\n",
       "5     600      3.5     36"
      ]
     },
     "execution_count": 32,
     "metadata": {},
     "output_type": "execute_result"
    }
   ],
   "source": [
    "dict1 = {'amount':np.linspace(100,600,6,dtype=int),\n",
    "       'intrest':np.linspace(12.5,3.5,6),\n",
    "       'month':np.linspace(6,36,6,dtype=int)}\n",
    "df=pd.DataFrame(dict1)\n",
    "df"
   ]
  },
  {
   "cell_type": "code",
   "execution_count": 33,
   "id": "c0886419",
   "metadata": {},
   "outputs": [
    {
     "name": "stdout",
     "output_type": "stream",
     "text": [
      "{'amount': array([100., 200., 300., 400., 500., 600.]), 'interest': array([12.5, 10.7,  8.9,  7.1,  5.3,  3.5]), 'month': array([ 6., 12., 18., 24., 30., 36.])}\n"
     ]
    },
    {
     "data": {
      "text/html": [
       "<div>\n",
       "<style scoped>\n",
       "    .dataframe tbody tr th:only-of-type {\n",
       "        vertical-align: middle;\n",
       "    }\n",
       "\n",
       "    .dataframe tbody tr th {\n",
       "        vertical-align: top;\n",
       "    }\n",
       "\n",
       "    .dataframe thead th {\n",
       "        text-align: right;\n",
       "    }\n",
       "</style>\n",
       "<table border=\"1\" class=\"dataframe\">\n",
       "  <thead>\n",
       "    <tr style=\"text-align: right;\">\n",
       "      <th></th>\n",
       "      <th>amount</th>\n",
       "      <th>interest</th>\n",
       "      <th>month</th>\n",
       "      <th>Principle Amount</th>\n",
       "    </tr>\n",
       "  </thead>\n",
       "  <tbody>\n",
       "    <tr>\n",
       "      <th>0</th>\n",
       "      <td>100.0</td>\n",
       "      <td>12.5</td>\n",
       "      <td>6.0</td>\n",
       "      <td>112.5</td>\n",
       "    </tr>\n",
       "    <tr>\n",
       "      <th>1</th>\n",
       "      <td>200.0</td>\n",
       "      <td>10.7</td>\n",
       "      <td>12.0</td>\n",
       "      <td>221.4</td>\n",
       "    </tr>\n",
       "    <tr>\n",
       "      <th>2</th>\n",
       "      <td>300.0</td>\n",
       "      <td>8.9</td>\n",
       "      <td>18.0</td>\n",
       "      <td>326.7</td>\n",
       "    </tr>\n",
       "    <tr>\n",
       "      <th>3</th>\n",
       "      <td>400.0</td>\n",
       "      <td>7.1</td>\n",
       "      <td>24.0</td>\n",
       "      <td>428.4</td>\n",
       "    </tr>\n",
       "    <tr>\n",
       "      <th>4</th>\n",
       "      <td>500.0</td>\n",
       "      <td>5.3</td>\n",
       "      <td>30.0</td>\n",
       "      <td>526.5</td>\n",
       "    </tr>\n",
       "    <tr>\n",
       "      <th>5</th>\n",
       "      <td>600.0</td>\n",
       "      <td>3.5</td>\n",
       "      <td>36.0</td>\n",
       "      <td>621.0</td>\n",
       "    </tr>\n",
       "  </tbody>\n",
       "</table>\n",
       "</div>"
      ],
      "text/plain": [
       "   amount  interest  month  Principle Amount\n",
       "0   100.0      12.5    6.0             112.5\n",
       "1   200.0      10.7   12.0             221.4\n",
       "2   300.0       8.9   18.0             326.7\n",
       "3   400.0       7.1   24.0             428.4\n",
       "4   500.0       5.3   30.0             526.5\n",
       "5   600.0       3.5   36.0             621.0"
      ]
     },
     "execution_count": 33,
     "metadata": {},
     "output_type": "execute_result"
    }
   ],
   "source": [
    "import numpy as np\n",
    "import pandas as pd\n",
    "\n",
    "d1={}\n",
    "d1['amount']=np.ones(6)*np.arange(100,700,100)+np.zeros(6)\n",
    "d1['interest']=np.linspace(3.5,12.5,6)[::-1]\n",
    "d1['month']=np.linspace(6,36,6)\n",
    "print(d1)\n",
    "\n",
    "df=pd.DataFrame(d1)\n",
    "df['Principle Amount'] = ((df['amount']*df['interest'])/100) + df['amount']\n",
    "df"
   ]
  },
  {
   "cell_type": "markdown",
   "id": "1a291b86",
   "metadata": {},
   "source": [
    "# Generating Random numbers"
   ]
  },
  {
   "cell_type": "code",
   "execution_count": 34,
   "id": "44e0e6e8",
   "metadata": {},
   "outputs": [
    {
     "data": {
      "text/plain": [
       "0.21958114521707783"
      ]
     },
     "execution_count": 34,
     "metadata": {},
     "output_type": "execute_result"
    }
   ],
   "source": [
    "import random\n",
    "random.random()"
   ]
  },
  {
   "cell_type": "raw",
   "id": "872fe167",
   "metadata": {},
   "source": [
    "there are multiple functions to create random numbers\n",
    "rand()\n",
    "randint()\n",
    "random()\n",
    "randf()\n",
    "randn()"
   ]
  },
  {
   "cell_type": "markdown",
   "id": "f0540e1c",
   "metadata": {},
   "source": [
    "## Random.rand()"
   ]
  },
  {
   "cell_type": "raw",
   "id": "9ea610cf",
   "metadata": {},
   "source": [
    "it will generate random values between 0-1"
   ]
  },
  {
   "cell_type": "code",
   "execution_count": 35,
   "id": "a53c3ed9",
   "metadata": {},
   "outputs": [
    {
     "data": {
      "text/plain": [
       "array([0.50788911, 0.12524746, 0.71695796, 0.49775774, 0.13287185])"
      ]
     },
     "execution_count": 35,
     "metadata": {},
     "output_type": "execute_result"
    }
   ],
   "source": [
    "some_nums = np.random.rand(5)\n",
    "some_nums"
   ]
  },
  {
   "cell_type": "code",
   "execution_count": 36,
   "id": "2fbba270",
   "metadata": {},
   "outputs": [
    {
     "data": {
      "text/plain": [
       "0.3626659605965459"
      ]
     },
     "execution_count": 36,
     "metadata": {},
     "output_type": "execute_result"
    }
   ],
   "source": [
    "#if nnothing is passed then it gives any 1 random number\n",
    "some_nums = np.random.rand()\n",
    "some_nums"
   ]
  },
  {
   "cell_type": "code",
   "execution_count": 37,
   "id": "4f0500e3",
   "metadata": {},
   "outputs": [
    {
     "data": {
      "text/plain": [
       "array([0.51191143, 0.65902116, 0.65959956, 0.58921245, 0.10381916,\n",
       "       0.66353381, 0.564813  , 0.83601567, 0.12276548, 0.40496649])"
      ]
     },
     "execution_count": 37,
     "metadata": {},
     "output_type": "execute_result"
    }
   ],
   "source": [
    "some_nums = np.random.rand(10)\n",
    "some_nums"
   ]
  },
  {
   "cell_type": "code",
   "execution_count": 38,
   "id": "1c033a67",
   "metadata": {},
   "outputs": [
    {
     "data": {
      "text/plain": [
       "array([[0.89867126, 0.68679124, 0.92965423, 0.14286643, 0.67859486],\n",
       "       [0.30235221, 0.78687917, 0.29539442, 0.80102129, 0.53810296],\n",
       "       [0.99787013, 0.99847244, 0.45540822, 0.57419731, 0.03741209],\n",
       "       [0.40539911, 0.11036777, 0.27530256, 0.47382542, 0.37373718]])"
      ]
     },
     "execution_count": 38,
     "metadata": {},
     "output_type": "execute_result"
    }
   ],
   "source": [
    "some_nums = np.random.rand(4,5)\n",
    "some_nums"
   ]
  },
  {
   "cell_type": "markdown",
   "id": "b3698b50",
   "metadata": {},
   "source": [
    "## Random.random()"
   ]
  },
  {
   "cell_type": "raw",
   "id": "633e3bf2",
   "metadata": {},
   "source": [
    "it will generate random numbers from 0-1"
   ]
  },
  {
   "cell_type": "code",
   "execution_count": 40,
   "id": "bb83867a",
   "metadata": {},
   "outputs": [
    {
     "data": {
      "text/plain": [
       "0.309355657665205"
      ]
     },
     "execution_count": 40,
     "metadata": {},
     "output_type": "execute_result"
    }
   ],
   "source": [
    "np.random.random()"
   ]
  },
  {
   "cell_type": "code",
   "execution_count": 41,
   "id": "138e6620",
   "metadata": {},
   "outputs": [
    {
     "data": {
      "text/plain": [
       "array([0.41743141, 0.01838126, 0.78176791, 0.46389958, 0.89413529,\n",
       "       0.36768305, 0.11995522, 0.24962994, 0.5477701 , 0.84067478])"
      ]
     },
     "execution_count": 41,
     "metadata": {},
     "output_type": "execute_result"
    }
   ],
   "source": [
    "np.random.random(10)"
   ]
  },
  {
   "cell_type": "code",
   "execution_count": 42,
   "id": "7b1dfa01",
   "metadata": {},
   "outputs": [
    {
     "data": {
      "text/plain": [
       "array([[0.82639171, 0.92731678, 0.79723133, 0.48594707, 0.39408247],\n",
       "       [0.22981911, 0.69038698, 0.28277673, 0.85568015, 0.54819883],\n",
       "       [0.07032711, 0.98065692, 0.66030418, 0.69162915, 0.46690874],\n",
       "       [0.78899021, 0.45683812, 0.56685053, 0.36183389, 0.72823496]])"
      ]
     },
     "execution_count": 42,
     "metadata": {},
     "output_type": "execute_result"
    }
   ],
   "source": [
    "np.random.random(20).reshape(4,5)"
   ]
  },
  {
   "cell_type": "markdown",
   "id": "a7b919d0",
   "metadata": {},
   "source": [
    "## random.ranf()"
   ]
  },
  {
   "cell_type": "raw",
   "id": "f96128e8",
   "metadata": {},
   "source": [
    "it will generate random numbers from 0-1"
   ]
  },
  {
   "cell_type": "code",
   "execution_count": 43,
   "id": "e77208a6",
   "metadata": {},
   "outputs": [
    {
     "data": {
      "text/plain": [
       "array([0.94411896, 0.60099401, 0.72454375, 0.02105867, 0.55437745,\n",
       "       0.90479909, 0.17145539, 0.1219227 ])"
      ]
     },
     "execution_count": 43,
     "metadata": {},
     "output_type": "execute_result"
    }
   ],
   "source": [
    "np.random.ranf(8)"
   ]
  },
  {
   "cell_type": "code",
   "execution_count": 44,
   "id": "fa758e9c",
   "metadata": {},
   "outputs": [
    {
     "data": {
      "text/plain": [
       "array([[0.39053241, 0.53726759],\n",
       "       [0.17427972, 0.49762957],\n",
       "       [0.37309314, 0.5305188 ],\n",
       "       [0.38327653, 0.18548116]])"
      ]
     },
     "execution_count": 44,
     "metadata": {},
     "output_type": "execute_result"
    }
   ],
   "source": [
    "np.random.ranf(8).reshape(4,2)"
   ]
  },
  {
   "cell_type": "markdown",
   "id": "f9caaffa",
   "metadata": {},
   "source": [
    "## np.random().randint()"
   ]
  },
  {
   "cell_type": "code",
   "execution_count": 45,
   "id": "8a7453ee",
   "metadata": {},
   "outputs": [
    {
     "data": {
      "text/plain": [
       "array([15, 13,  8, 11, 11,  6, 19, 16, 18,  4,  6, 18,  7, 17,  4])"
      ]
     },
     "execution_count": 45,
     "metadata": {},
     "output_type": "execute_result"
    }
   ],
   "source": [
    "np.random.randint(1,20,15)"
   ]
  },
  {
   "cell_type": "code",
   "execution_count": 46,
   "id": "ab77a63a",
   "metadata": {},
   "outputs": [
    {
     "data": {
      "text/plain": [
       "array([19,  3,  2,  1,  5, 13, 10, 13,  4, 11,  5, 13, 11,  8, 10],\n",
       "      dtype=uint32)"
      ]
     },
     "execution_count": 46,
     "metadata": {},
     "output_type": "execute_result"
    }
   ],
   "source": [
    "np.random.randint(1,20,size=15,dtype='I')"
   ]
  },
  {
   "cell_type": "code",
   "execution_count": 47,
   "id": "d3ca3f52",
   "metadata": {},
   "outputs": [
    {
     "data": {
      "text/plain": [
       "array([40, 74, 62, 78,  1, 79, 49, 97, 52, 97, 95, 89, 81, 94, 64],\n",
       "      dtype=uint32)"
      ]
     },
     "execution_count": 47,
     "metadata": {},
     "output_type": "execute_result"
    }
   ],
   "source": [
    "np.random.randint(low=1,high=100,size=15,dtype='I')"
   ]
  },
  {
   "cell_type": "markdown",
   "id": "0ef0885b",
   "metadata": {},
   "source": [
    "## np.random.randn()"
   ]
  },
  {
   "cell_type": "raw",
   "id": "98807451",
   "metadata": {},
   "source": [
    "It will generate the normally distributed numbers around (0,0) cordinates"
   ]
  },
  {
   "cell_type": "code",
   "execution_count": 48,
   "id": "ad73f7bf",
   "metadata": {},
   "outputs": [
    {
     "data": {
      "text/plain": [
       "array([-0.58445787,  0.18329903,  0.00322183,  0.11509793, -0.49005175])"
      ]
     },
     "execution_count": 48,
     "metadata": {},
     "output_type": "execute_result"
    }
   ],
   "source": [
    "np.random.randn(5)"
   ]
  },
  {
   "cell_type": "code",
   "execution_count": 49,
   "id": "9a889fca",
   "metadata": {},
   "outputs": [
    {
     "data": {
      "text/plain": [
       "array([[ 0.1502207 ,  1.94043991,  1.02538934, -0.03457714],\n",
       "       [ 0.74140841, -0.91596843,  0.6845886 ,  0.76256886],\n",
       "       [-0.28734762, -1.17991876,  0.81902637, -0.65750273],\n",
       "       [ 0.06472143, -0.81732472,  0.93984013,  0.47173846],\n",
       "       [-0.49106499, -0.16044363,  0.74020427, -1.07389397]])"
      ]
     },
     "execution_count": 49,
     "metadata": {},
     "output_type": "execute_result"
    }
   ],
   "source": [
    "np.random.randn(5,4)"
   ]
  },
  {
   "cell_type": "code",
   "execution_count": 50,
   "id": "20135c0c",
   "metadata": {},
   "outputs": [
    {
     "data": {
      "text/plain": [
       "array([[-0.12770993, -0.90917288],\n",
       "       [-0.21628674, -0.61622775]])"
      ]
     },
     "execution_count": 50,
     "metadata": {},
     "output_type": "execute_result"
    }
   ],
   "source": [
    "np.random.randn(2,2)"
   ]
  }
 ],
 "metadata": {
  "kernelspec": {
   "display_name": "Python 3 (ipykernel)",
   "language": "python",
   "name": "python3"
  },
  "language_info": {
   "codemirror_mode": {
    "name": "ipython",
    "version": 3
   },
   "file_extension": ".py",
   "mimetype": "text/x-python",
   "name": "python",
   "nbconvert_exporter": "python",
   "pygments_lexer": "ipython3",
   "version": "3.9.7"
  },
  "toc": {
   "base_numbering": 1,
   "nav_menu": {},
   "number_sections": true,
   "sideBar": true,
   "skip_h1_title": false,
   "title_cell": "Table of Contents",
   "title_sidebar": "Contents",
   "toc_cell": false,
   "toc_position": {},
   "toc_section_display": true,
   "toc_window_display": false
  }
 },
 "nbformat": 4,
 "nbformat_minor": 5
}

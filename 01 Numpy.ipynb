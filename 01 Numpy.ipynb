{
 "cells": [
  {
   "cell_type": "raw",
   "id": "e35a55c0",
   "metadata": {},
   "source": [
    "Numpy >>> abbrivtion for Numerical Python\n",
    "\n",
    "import numpy as np\n",
    "import numpy\n",
    "\n",
    "Numpy >> it is a base library in python that deals with numbers. It is used to perform numerous mathematical operations.\n",
    "\n",
    "A numpy array is a homogeneous data type which means it assigns one perticular kind of data types to the entire array.\n",
    "\n",
    "It is time efficient >> It is faster than list\n",
    "used for processing & structuring the data\n",
    "\n",
    "Number of operations can be perfomed on an array:\n",
    "    Probability\n",
    "    Logarithmic maths\n",
    "    Statastics\n",
    "    Linear Algebra\n",
    "    Geometry\n",
    "    Trignometry\n",
    "    Matrix \n",
    "    Random number generation"
   ]
  },
  {
   "cell_type": "code",
   "execution_count": 1,
   "id": "50acad19",
   "metadata": {},
   "outputs": [],
   "source": [
    "import numpy as np\n",
    "import warnings\n",
    "warnings.filterwarnings('ignore')"
   ]
  },
  {
   "cell_type": "code",
   "execution_count": 2,
   "id": "5009cd7f",
   "metadata": {},
   "outputs": [
    {
     "data": {
      "text/plain": [
       "list"
      ]
     },
     "execution_count": 2,
     "metadata": {},
     "output_type": "execute_result"
    }
   ],
   "source": [
    "list1 = [2,3,4,5,6]\n",
    "type(list1)"
   ]
  },
  {
   "cell_type": "code",
   "execution_count": 3,
   "id": "5b496c44",
   "metadata": {},
   "outputs": [
    {
     "data": {
      "text/plain": [
       "numpy.ndarray"
      ]
     },
     "execution_count": 3,
     "metadata": {},
     "output_type": "execute_result"
    }
   ],
   "source": [
    "array = np.array([2,3,4,5,6])\n",
    "type(array)"
   ]
  },
  {
   "cell_type": "markdown",
   "id": "2002bf64",
   "metadata": {},
   "source": [
    "# ndim: to check the dimensions of an array"
   ]
  },
  {
   "cell_type": "code",
   "execution_count": 4,
   "id": "0582deac",
   "metadata": {},
   "outputs": [
    {
     "data": {
      "text/plain": [
       "1"
      ]
     },
     "execution_count": 4,
     "metadata": {},
     "output_type": "execute_result"
    }
   ],
   "source": [
    "array.ndim"
   ]
  },
  {
   "cell_type": "code",
   "execution_count": 5,
   "id": "f9f55e54",
   "metadata": {},
   "outputs": [
    {
     "data": {
      "text/html": [
       "<div>\n",
       "<style scoped>\n",
       "    .dataframe tbody tr th:only-of-type {\n",
       "        vertical-align: middle;\n",
       "    }\n",
       "\n",
       "    .dataframe tbody tr th {\n",
       "        vertical-align: top;\n",
       "    }\n",
       "\n",
       "    .dataframe thead th {\n",
       "        text-align: right;\n",
       "    }\n",
       "</style>\n",
       "<table border=\"1\" class=\"dataframe\">\n",
       "  <thead>\n",
       "    <tr style=\"text-align: right;\">\n",
       "      <th></th>\n",
       "      <th>0</th>\n",
       "      <th>1</th>\n",
       "    </tr>\n",
       "  </thead>\n",
       "  <tbody>\n",
       "    <tr>\n",
       "      <th>0</th>\n",
       "      <td>1</td>\n",
       "      <td>a</td>\n",
       "    </tr>\n",
       "    <tr>\n",
       "      <th>1</th>\n",
       "      <td>2</td>\n",
       "      <td>b</td>\n",
       "    </tr>\n",
       "    <tr>\n",
       "      <th>2</th>\n",
       "      <td>5</td>\n",
       "      <td>c</td>\n",
       "    </tr>\n",
       "    <tr>\n",
       "      <th>3</th>\n",
       "      <td>3</td>\n",
       "      <td>d</td>\n",
       "    </tr>\n",
       "    <tr>\n",
       "      <th>4</th>\n",
       "      <td>4</td>\n",
       "      <td>e</td>\n",
       "    </tr>\n",
       "    <tr>\n",
       "      <th>5</th>\n",
       "      <td>5</td>\n",
       "      <td>f</td>\n",
       "    </tr>\n",
       "  </tbody>\n",
       "</table>\n",
       "</div>"
      ],
      "text/plain": [
       "   0  1\n",
       "0  1  a\n",
       "1  2  b\n",
       "2  5  c\n",
       "3  3  d\n",
       "4  4  e\n",
       "5  5  f"
      ]
     },
     "execution_count": 5,
     "metadata": {},
     "output_type": "execute_result"
    }
   ],
   "source": [
    "a=[1,2,5,3,4,5]\n",
    "b=['a','b','c','d','e','f']\n",
    "\n",
    "import pandas as pd\n",
    "df=pd.DataFrame(zip(a,b))\n",
    "df"
   ]
  },
  {
   "cell_type": "code",
   "execution_count": 6,
   "id": "1a867cae",
   "metadata": {},
   "outputs": [
    {
     "data": {
      "text/plain": [
       "2"
      ]
     },
     "execution_count": 6,
     "metadata": {},
     "output_type": "execute_result"
    }
   ],
   "source": [
    "array = np.array([[2,3,4,5,6]])\n",
    "array.ndim"
   ]
  },
  {
   "cell_type": "code",
   "execution_count": 7,
   "id": "b3f128ea",
   "metadata": {},
   "outputs": [
    {
     "data": {
      "text/plain": [
       "2"
      ]
     },
     "execution_count": 7,
     "metadata": {},
     "output_type": "execute_result"
    }
   ],
   "source": [
    "array = np.array([[2,3,4,5,6],\n",
    "                  [5,6,7,8,9]])\n",
    "array.ndim"
   ]
  },
  {
   "cell_type": "code",
   "execution_count": 8,
   "id": "611ae195",
   "metadata": {},
   "outputs": [
    {
     "data": {
      "text/plain": [
       "3"
      ]
     },
     "execution_count": 8,
     "metadata": {},
     "output_type": "execute_result"
    }
   ],
   "source": [
    "array = np.array([[[2,3],\n",
    "                   [5,6]],\n",
    "                  [[1,1],\n",
    "                   [1,1]]])\n",
    "array.ndim"
   ]
  },
  {
   "cell_type": "code",
   "execution_count": 9,
   "id": "bc387e46",
   "metadata": {},
   "outputs": [
    {
     "data": {
      "text/plain": [
       "3"
      ]
     },
     "execution_count": 9,
     "metadata": {},
     "output_type": "execute_result"
    }
   ],
   "source": [
    "array = np.array([[[2,3],[5,6]],[[1,1],[1,1]]])\n",
    "array.ndim"
   ]
  },
  {
   "cell_type": "code",
   "execution_count": 10,
   "id": "f49913f5",
   "metadata": {},
   "outputs": [
    {
     "data": {
      "text/plain": [
       "0"
      ]
     },
     "execution_count": 10,
     "metadata": {},
     "output_type": "execute_result"
    }
   ],
   "source": [
    "array = np.array(2.3)\n",
    "array.ndim"
   ]
  },
  {
   "cell_type": "markdown",
   "id": "0fed21c4",
   "metadata": {},
   "source": [
    "# ndmin : converting lower dimensions into higher dimensions"
   ]
  },
  {
   "cell_type": "code",
   "execution_count": 11,
   "id": "520ea309",
   "metadata": {},
   "outputs": [
    {
     "name": "stdout",
     "output_type": "stream",
     "text": [
      "[[[2.3]]]\n"
     ]
    },
    {
     "data": {
      "text/plain": [
       "3"
      ]
     },
     "execution_count": 11,
     "metadata": {},
     "output_type": "execute_result"
    }
   ],
   "source": [
    "array = np.array(2.3,ndmin=3)\n",
    "print(array)\n",
    "array.ndim"
   ]
  },
  {
   "cell_type": "code",
   "execution_count": 12,
   "id": "282410d3",
   "metadata": {},
   "outputs": [
    {
     "name": "stdout",
     "output_type": "stream",
     "text": [
      "[[[2 3]\n",
      "  [3 4]]]\n"
     ]
    },
    {
     "data": {
      "text/plain": [
       "3"
      ]
     },
     "execution_count": 12,
     "metadata": {},
     "output_type": "execute_result"
    }
   ],
   "source": [
    "array = np.array([[[2,3],[3,4]]],ndmin=1)\n",
    "print(array)\n",
    "array.ndim"
   ]
  },
  {
   "cell_type": "markdown",
   "id": "9eafe91c",
   "metadata": {},
   "source": [
    "# converting a list to an array"
   ]
  },
  {
   "cell_type": "code",
   "execution_count": 13,
   "id": "43613cda",
   "metadata": {},
   "outputs": [
    {
     "data": {
      "text/plain": [
       "array([2, 3, 4])"
      ]
     },
     "execution_count": 13,
     "metadata": {},
     "output_type": "execute_result"
    }
   ],
   "source": [
    "l1 = [2,3,4]\n",
    "arr = np.array(l1)\n",
    "arr"
   ]
  },
  {
   "cell_type": "code",
   "execution_count": 14,
   "id": "4df4ff3b",
   "metadata": {},
   "outputs": [
    {
     "data": {
      "text/plain": [
       "array([2, 3, 4])"
      ]
     },
     "execution_count": 14,
     "metadata": {},
     "output_type": "execute_result"
    }
   ],
   "source": [
    "l1 = 2,3,4\n",
    "arr = np.array(l1)\n",
    "arr"
   ]
  },
  {
   "cell_type": "code",
   "execution_count": 15,
   "id": "c9f546a8",
   "metadata": {},
   "outputs": [
    {
     "data": {
      "text/plain": [
       "array([2, 3, 4])"
      ]
     },
     "execution_count": 15,
     "metadata": {},
     "output_type": "execute_result"
    }
   ],
   "source": [
    "l1 = (2,3,4)\n",
    "arr = np.array(l1)\n",
    "arr"
   ]
  },
  {
   "cell_type": "code",
   "execution_count": 16,
   "id": "5552a42a",
   "metadata": {},
   "outputs": [
    {
     "data": {
      "text/plain": [
       "array('string', dtype='<U6')"
      ]
     },
     "execution_count": 16,
     "metadata": {},
     "output_type": "execute_result"
    }
   ],
   "source": [
    "l1 = 'string'\n",
    "arr = np.array(l1)\n",
    "arr"
   ]
  },
  {
   "cell_type": "code",
   "execution_count": 17,
   "id": "f4bd86db",
   "metadata": {},
   "outputs": [
    {
     "data": {
      "text/plain": [
       "array({2, 3, 4}, dtype=object)"
      ]
     },
     "execution_count": 17,
     "metadata": {},
     "output_type": "execute_result"
    }
   ],
   "source": [
    "l1 = set((2,3,4))\n",
    "arr = np.array(l1)\n",
    "arr"
   ]
  },
  {
   "cell_type": "markdown",
   "id": "c6183094",
   "metadata": {},
   "source": [
    "# why is numpy called as homogeneous data type"
   ]
  },
  {
   "cell_type": "raw",
   "id": "ebeec068",
   "metadata": {},
   "source": [
    "The NumPy array is, in general, homogeneous (there is a particular record array type that is heterogeneous)—the items in the array have to be of the same type. The advantage is that if we know that the items in an array are of the same type, it is easy to ascertain the storage size needed for the array."
   ]
  },
  {
   "cell_type": "code",
   "execution_count": null,
   "id": "9c815a7b",
   "metadata": {},
   "outputs": [],
   "source": [
    "array = np.array([2,3.0,5])\n",
    "array"
   ]
  },
  {
   "cell_type": "raw",
   "id": "958041c1",
   "metadata": {},
   "source": [
    "int >> float >> complex >> str"
   ]
  },
  {
   "cell_type": "code",
   "execution_count": 2,
   "id": "bb1ab975",
   "metadata": {},
   "outputs": [
    {
     "data": {
      "text/plain": [
       "array([2.+0.j, 3.+0.j, 3.+4.j])"
      ]
     },
     "execution_count": 2,
     "metadata": {},
     "output_type": "execute_result"
    }
   ],
   "source": [
    "import numpy as np\n",
    "array = np.array([2,3.0,3+4j])\n",
    "array"
   ]
  },
  {
   "cell_type": "markdown",
   "id": "56c8e95a",
   "metadata": {},
   "source": [
    "# dtype : Assigning a single data type to an entire array"
   ]
  },
  {
   "cell_type": "code",
   "execution_count": 3,
   "id": "778f90a5",
   "metadata": {},
   "outputs": [
    {
     "data": {
      "text/plain": [
       "array([2, 3, 5])"
      ]
     },
     "execution_count": 3,
     "metadata": {},
     "output_type": "execute_result"
    }
   ],
   "source": [
    "array = np.array([2,3.1,5],dtype='int')\n",
    "array"
   ]
  },
  {
   "cell_type": "code",
   "execution_count": 4,
   "id": "7c92bb27",
   "metadata": {},
   "outputs": [
    {
     "data": {
      "text/plain": [
       "array([2. , 3.1, 5. ])"
      ]
     },
     "execution_count": 4,
     "metadata": {},
     "output_type": "execute_result"
    }
   ],
   "source": [
    "array = np.array([2,3.1,5],dtype='float')\n",
    "array"
   ]
  },
  {
   "cell_type": "code",
   "execution_count": 5,
   "id": "58c42ae7",
   "metadata": {},
   "outputs": [
    {
     "data": {
      "text/plain": [
       "array([2, 3.1, '5'], dtype=object)"
      ]
     },
     "execution_count": 5,
     "metadata": {},
     "output_type": "execute_result"
    }
   ],
   "source": [
    "array = np.array([2,3.1,'5'],dtype='object')\n",
    "array"
   ]
  },
  {
   "cell_type": "markdown",
   "id": "e02631f7",
   "metadata": {},
   "source": [
    "# Indexing"
   ]
  },
  {
   "cell_type": "code",
   "execution_count": 6,
   "id": "cb82f8c6",
   "metadata": {},
   "outputs": [
    {
     "data": {
      "text/plain": [
       "array([2, 3, 5, 6])"
      ]
     },
     "execution_count": 6,
     "metadata": {},
     "output_type": "execute_result"
    }
   ],
   "source": [
    "array = np.array([2,3,5,6])\n",
    "array"
   ]
  },
  {
   "cell_type": "code",
   "execution_count": 7,
   "id": "f15e8205",
   "metadata": {},
   "outputs": [
    {
     "data": {
      "text/plain": [
       "6"
      ]
     },
     "execution_count": 7,
     "metadata": {},
     "output_type": "execute_result"
    }
   ],
   "source": [
    "array[-1]"
   ]
  },
  {
   "cell_type": "code",
   "execution_count": 8,
   "id": "7b3abe14",
   "metadata": {},
   "outputs": [
    {
     "data": {
      "text/plain": [
       "3"
      ]
     },
     "execution_count": 8,
     "metadata": {},
     "output_type": "execute_result"
    }
   ],
   "source": [
    "array[1]"
   ]
  },
  {
   "cell_type": "code",
   "execution_count": 9,
   "id": "b7321c25",
   "metadata": {},
   "outputs": [
    {
     "data": {
      "text/plain": [
       "array([[[2, 3, 5, 6],\n",
       "        [5, 6, 7, 8],\n",
       "        [4, 5, 5, 5]],\n",
       "\n",
       "       [[8, 8, 9, 0],\n",
       "        [1, 2, 3, 1],\n",
       "        [2, 2, 3, 1]]])"
      ]
     },
     "execution_count": 9,
     "metadata": {},
     "output_type": "execute_result"
    }
   ],
   "source": [
    "array = np.array([[[2,3,5,6],\n",
    "                   [5,6,7,8],\n",
    "                   [4,5,5,5]],\n",
    "                  [[8,8,9,0],\n",
    "                   [1,2,3,1],\n",
    "                   [2,2,3,1]]])\n",
    "array"
   ]
  },
  {
   "cell_type": "code",
   "execution_count": 10,
   "id": "78956527",
   "metadata": {},
   "outputs": [
    {
     "data": {
      "text/plain": [
       "3"
      ]
     },
     "execution_count": 10,
     "metadata": {},
     "output_type": "execute_result"
    }
   ],
   "source": [
    "array[1][2][-2]"
   ]
  },
  {
   "cell_type": "markdown",
   "id": "abade206",
   "metadata": {},
   "source": [
    "# Slicing"
   ]
  },
  {
   "cell_type": "markdown",
   "id": "9e1d5af2",
   "metadata": {},
   "source": [
    "## Symmetric Slicing"
   ]
  },
  {
   "cell_type": "code",
   "execution_count": 11,
   "id": "8ff58da4",
   "metadata": {},
   "outputs": [
    {
     "data": {
      "text/plain": [
       "array([2, 3])"
      ]
     },
     "execution_count": 11,
     "metadata": {},
     "output_type": "execute_result"
    }
   ],
   "source": [
    "array[1][2][1:3]"
   ]
  },
  {
   "cell_type": "code",
   "execution_count": 12,
   "id": "dfb325fd",
   "metadata": {},
   "outputs": [
    {
     "name": "stdout",
     "output_type": "stream",
     "text": [
      "[[8 8 9 0]\n",
      " [1 2 3 1]\n",
      " [2 2 3 1]]\n"
     ]
    },
    {
     "data": {
      "text/plain": [
       "array([[8, 9],\n",
       "       [2, 3]])"
      ]
     },
     "execution_count": 12,
     "metadata": {},
     "output_type": "execute_result"
    }
   ],
   "source": [
    "array = np.array([[[2,3,5,6],\n",
    "                   [5,6,7,8],\n",
    "                   [4,5,5,5]],\n",
    "                  [[8,8,9,0],\n",
    "                   [1,2,3,1],\n",
    "                   [2,2,3,1]]])\n",
    "print(array[1])\n",
    "\n",
    "\n",
    "array[1][:2,1:3]  #we do the slicing of rows before the comma & that of the columns after the comma"
   ]
  },
  {
   "cell_type": "code",
   "execution_count": 13,
   "id": "a6876d06",
   "metadata": {},
   "outputs": [
    {
     "data": {
      "text/plain": [
       "array([[[3, 5],\n",
       "        [6, 7]],\n",
       "\n",
       "       [[8, 9],\n",
       "        [2, 3]]])"
      ]
     },
     "execution_count": 13,
     "metadata": {},
     "output_type": "execute_result"
    }
   ],
   "source": [
    "array[:,:2,1:3]"
   ]
  },
  {
   "cell_type": "code",
   "execution_count": 14,
   "id": "ad84e4de",
   "metadata": {},
   "outputs": [
    {
     "data": {
      "text/plain": [
       "array([[[[5, 6],\n",
       "         [4, 5]]],\n",
       "\n",
       "\n",
       "       [[[5, 6],\n",
       "         [4, 5]]]])"
      ]
     },
     "execution_count": 14,
     "metadata": {},
     "output_type": "execute_result"
    }
   ],
   "source": [
    "array = np.array([[[[2,3,5,6],\n",
    "                    [5,6,7,8],\n",
    "                    [4,5,5,5]],\n",
    "                   [[8,8,9,0],\n",
    "                    [1,2,3,1],\n",
    "                    [2,2,3,1]]],\n",
    "                  \n",
    "                  [[[2,3,5,6],\n",
    "                    [5,6,7,8],\n",
    "                    [4,5,5,5]],\n",
    "                   [[8,8,9,0],\n",
    "                    [1,2,3,1],\n",
    "                    [2,2,3,1]]]])\n",
    "\n",
    "array[:,:,1:,2:]\n",
    "# array[:,:,1:2,2:]\n",
    "array[:,:1,1:,:2]"
   ]
  },
  {
   "cell_type": "markdown",
   "id": "2139ee32",
   "metadata": {},
   "source": [
    "## Asymmetric Slicing"
   ]
  },
  {
   "cell_type": "code",
   "execution_count": 15,
   "id": "aba47301",
   "metadata": {},
   "outputs": [
    {
     "data": {
      "text/plain": [
       "array([[[2, 3, 5, 6],\n",
       "        [5, 6, 7, 8],\n",
       "        [4, 5, 5, 5]],\n",
       "\n",
       "       [[8, 8, 9, 0],\n",
       "        [1, 2, 3, 1],\n",
       "        [2, 2, 3, 1]]])"
      ]
     },
     "execution_count": 15,
     "metadata": {},
     "output_type": "execute_result"
    }
   ],
   "source": [
    "array = np.array([[[2,3,5,6],\n",
    "                   [5,6,7,8],\n",
    "                   [4,5,5,5]],\n",
    "                  [[8,8,9,0],\n",
    "                   [1,2,3,1],\n",
    "                   [2,2,3,1]]])\n",
    "array"
   ]
  },
  {
   "cell_type": "code",
   "execution_count": 16,
   "id": "e3d31f9a",
   "metadata": {},
   "outputs": [
    {
     "name": "stdout",
     "output_type": "stream",
     "text": [
      "[[[6 7 8]\n",
      "  [5 5 5]]]\n",
      "[[[8 8 9]\n",
      "  [1 2 3]]]\n"
     ]
    },
    {
     "data": {
      "text/plain": [
       "array([[[6, 7, 8],\n",
       "        [5, 5, 5]],\n",
       "\n",
       "       [[8, 8, 9],\n",
       "        [1, 2, 3]]])"
      ]
     },
     "execution_count": 16,
     "metadata": {},
     "output_type": "execute_result"
    }
   ],
   "source": [
    "a = array[:1,1:,1:]\n",
    "print(a)\n",
    "b = array[1:,:2,:3]\n",
    "print(b)\n",
    "\n",
    "x = np.concatenate([a,b])\n",
    "x"
   ]
  },
  {
   "cell_type": "code",
   "execution_count": 17,
   "id": "147501c8",
   "metadata": {},
   "outputs": [
    {
     "name": "stdout",
     "output_type": "stream",
     "text": [
      "[[ 1  2  3]\n",
      " [10 20 30]]\n",
      "[[100 200 300]]\n"
     ]
    },
    {
     "data": {
      "text/plain": [
       "array([[  1,   2,   3],\n",
       "       [ 10,  20,  30],\n",
       "       [100, 200, 300]])"
      ]
     },
     "execution_count": 17,
     "metadata": {},
     "output_type": "execute_result"
    }
   ],
   "source": [
    "a = [[1, 2, 3],[10, 20, 30]]\n",
    "b = [[100,200,300]]\n",
    "a = np.array(a) \n",
    "b = np.array(b) \n",
    "print(a)\n",
    "print(b)\n",
    "\n",
    "c = np.concatenate([a,b])\n",
    "c\n"
   ]
  },
  {
   "cell_type": "code",
   "execution_count": null,
   "id": "0034aa6e",
   "metadata": {},
   "outputs": [],
   "source": []
  }
 ],
 "metadata": {
  "kernelspec": {
   "display_name": "Python 3 (ipykernel)",
   "language": "python",
   "name": "python3"
  },
  "language_info": {
   "codemirror_mode": {
    "name": "ipython",
    "version": 3
   },
   "file_extension": ".py",
   "mimetype": "text/x-python",
   "name": "python",
   "nbconvert_exporter": "python",
   "pygments_lexer": "ipython3",
   "version": "3.9.7"
  },
  "toc": {
   "base_numbering": 1,
   "nav_menu": {},
   "number_sections": true,
   "sideBar": true,
   "skip_h1_title": false,
   "title_cell": "Table of Contents",
   "title_sidebar": "Contents",
   "toc_cell": false,
   "toc_position": {},
   "toc_section_display": true,
   "toc_window_display": false
  }
 },
 "nbformat": 4,
 "nbformat_minor": 5
}

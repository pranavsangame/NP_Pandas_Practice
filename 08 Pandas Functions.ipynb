{
 "cells": [
  {
   "cell_type": "code",
   "execution_count": 2,
   "id": "4098622a",
   "metadata": {},
   "outputs": [],
   "source": [
    "import pandas as pd\n",
    "import numpy as np"
   ]
  },
  {
   "cell_type": "code",
   "execution_count": 3,
   "id": "5814a8fa",
   "metadata": {
    "scrolled": true
   },
   "outputs": [
    {
     "data": {
      "text/html": [
       "<div>\n",
       "<style scoped>\n",
       "    .dataframe tbody tr th:only-of-type {\n",
       "        vertical-align: middle;\n",
       "    }\n",
       "\n",
       "    .dataframe tbody tr th {\n",
       "        vertical-align: top;\n",
       "    }\n",
       "\n",
       "    .dataframe thead th {\n",
       "        text-align: right;\n",
       "    }\n",
       "</style>\n",
       "<table border=\"1\" class=\"dataframe\">\n",
       "  <thead>\n",
       "    <tr style=\"text-align: right;\">\n",
       "      <th></th>\n",
       "      <th>Emp ID</th>\n",
       "      <th>First Name</th>\n",
       "      <th>Age in Yrs</th>\n",
       "      <th>Weight in Kgs</th>\n",
       "      <th>Age in Company</th>\n",
       "      <th>Salary</th>\n",
       "      <th>City</th>\n",
       "    </tr>\n",
       "  </thead>\n",
       "  <tbody>\n",
       "    <tr>\n",
       "      <th>0</th>\n",
       "      <td>677509</td>\n",
       "      <td>Lois</td>\n",
       "      <td>36.36</td>\n",
       "      <td>NaN</td>\n",
       "      <td>13.68</td>\n",
       "      <td>168251</td>\n",
       "      <td>NaN</td>\n",
       "    </tr>\n",
       "    <tr>\n",
       "      <th>1</th>\n",
       "      <td>940761</td>\n",
       "      <td>Brenda</td>\n",
       "      <td>47.02</td>\n",
       "      <td>NaN</td>\n",
       "      <td>NaN</td>\n",
       "      <td>51063</td>\n",
       "      <td>Stonewall</td>\n",
       "    </tr>\n",
       "    <tr>\n",
       "      <th>2</th>\n",
       "      <td>428945</td>\n",
       "      <td>Joe</td>\n",
       "      <td>54.15</td>\n",
       "      <td>68.0</td>\n",
       "      <td>0.98</td>\n",
       "      <td>50155</td>\n",
       "      <td>Michigantown</td>\n",
       "    </tr>\n",
       "    <tr>\n",
       "      <th>3</th>\n",
       "      <td>408351</td>\n",
       "      <td>Diane</td>\n",
       "      <td>39.67</td>\n",
       "      <td>NaN</td>\n",
       "      <td>18.30</td>\n",
       "      <td>180294</td>\n",
       "      <td>Hydetown</td>\n",
       "    </tr>\n",
       "    <tr>\n",
       "      <th>4</th>\n",
       "      <td>193819</td>\n",
       "      <td>Benjamin</td>\n",
       "      <td>40.31</td>\n",
       "      <td>58.0</td>\n",
       "      <td>4.01</td>\n",
       "      <td>117642</td>\n",
       "      <td>Fremont</td>\n",
       "    </tr>\n",
       "    <tr>\n",
       "      <th>...</th>\n",
       "      <td>...</td>\n",
       "      <td>...</td>\n",
       "      <td>...</td>\n",
       "      <td>...</td>\n",
       "      <td>...</td>\n",
       "      <td>...</td>\n",
       "      <td>...</td>\n",
       "    </tr>\n",
       "    <tr>\n",
       "      <th>95</th>\n",
       "      <td>639892</td>\n",
       "      <td>Jose</td>\n",
       "      <td>22.82</td>\n",
       "      <td>89.0</td>\n",
       "      <td>1.05</td>\n",
       "      <td>129774</td>\n",
       "      <td>Biloxi</td>\n",
       "    </tr>\n",
       "    <tr>\n",
       "      <th>96</th>\n",
       "      <td>704709</td>\n",
       "      <td>Harold</td>\n",
       "      <td>32.61</td>\n",
       "      <td>77.0</td>\n",
       "      <td>5.93</td>\n",
       "      <td>156194</td>\n",
       "      <td>Carol Stream</td>\n",
       "    </tr>\n",
       "    <tr>\n",
       "      <th>97</th>\n",
       "      <td>461593</td>\n",
       "      <td>Nicole</td>\n",
       "      <td>52.66</td>\n",
       "      <td>60.0</td>\n",
       "      <td>28.53</td>\n",
       "      <td>95673</td>\n",
       "      <td>Detroit</td>\n",
       "    </tr>\n",
       "    <tr>\n",
       "      <th>98</th>\n",
       "      <td>392491</td>\n",
       "      <td>Theresa</td>\n",
       "      <td>29.60</td>\n",
       "      <td>57.0</td>\n",
       "      <td>6.99</td>\n",
       "      <td>51015</td>\n",
       "      <td>Mc Grath</td>\n",
       "    </tr>\n",
       "    <tr>\n",
       "      <th>99</th>\n",
       "      <td>495141</td>\n",
       "      <td>Tammy</td>\n",
       "      <td>38.38</td>\n",
       "      <td>55.0</td>\n",
       "      <td>2.26</td>\n",
       "      <td>93650</td>\n",
       "      <td>Alma</td>\n",
       "    </tr>\n",
       "  </tbody>\n",
       "</table>\n",
       "<p>100 rows × 7 columns</p>\n",
       "</div>"
      ],
      "text/plain": [
       "    Emp ID First Name  Age in Yrs  Weight in Kgs  Age in Company  Salary  \\\n",
       "0   677509       Lois       36.36            NaN           13.68  168251   \n",
       "1   940761     Brenda       47.02            NaN             NaN   51063   \n",
       "2   428945        Joe       54.15           68.0            0.98   50155   \n",
       "3   408351      Diane       39.67            NaN           18.30  180294   \n",
       "4   193819   Benjamin       40.31           58.0            4.01  117642   \n",
       "..     ...        ...         ...            ...             ...     ...   \n",
       "95  639892       Jose       22.82           89.0            1.05  129774   \n",
       "96  704709     Harold       32.61           77.0            5.93  156194   \n",
       "97  461593     Nicole       52.66           60.0           28.53   95673   \n",
       "98  392491    Theresa       29.60           57.0            6.99   51015   \n",
       "99  495141      Tammy       38.38           55.0            2.26   93650   \n",
       "\n",
       "            City  \n",
       "0            NaN  \n",
       "1      Stonewall  \n",
       "2   Michigantown  \n",
       "3       Hydetown  \n",
       "4        Fremont  \n",
       "..           ...  \n",
       "95        Biloxi  \n",
       "96  Carol Stream  \n",
       "97       Detroit  \n",
       "98      Mc Grath  \n",
       "99          Alma  \n",
       "\n",
       "[100 rows x 7 columns]"
      ]
     },
     "execution_count": 3,
     "metadata": {},
     "output_type": "execute_result"
    }
   ],
   "source": [
    "df = pd.read_csv('Emp_Records.csv')\n",
    "df"
   ]
  },
  {
   "cell_type": "code",
   "execution_count": 4,
   "id": "3f5c164c",
   "metadata": {},
   "outputs": [
    {
     "name": "stdout",
     "output_type": "stream",
     "text": [
      "<class 'pandas.core.frame.DataFrame'>\n",
      "RangeIndex: 100 entries, 0 to 99\n",
      "Data columns (total 7 columns):\n",
      " #   Column          Non-Null Count  Dtype  \n",
      "---  ------          --------------  -----  \n",
      " 0   Emp ID          100 non-null    int64  \n",
      " 1   First Name      100 non-null    object \n",
      " 2   Age in Yrs      100 non-null    float64\n",
      " 3   Weight in Kgs   97 non-null     float64\n",
      " 4   Age in Company  99 non-null     float64\n",
      " 5   Salary          100 non-null    int64  \n",
      " 6   City            99 non-null     object \n",
      "dtypes: float64(3), int64(2), object(2)\n",
      "memory usage: 5.6+ KB\n"
     ]
    }
   ],
   "source": [
    "df.info()"
   ]
  },
  {
   "cell_type": "code",
   "execution_count": 5,
   "id": "19c3b2e6",
   "metadata": {
    "scrolled": true
   },
   "outputs": [
    {
     "data": {
      "text/html": [
       "<div>\n",
       "<style scoped>\n",
       "    .dataframe tbody tr th:only-of-type {\n",
       "        vertical-align: middle;\n",
       "    }\n",
       "\n",
       "    .dataframe tbody tr th {\n",
       "        vertical-align: top;\n",
       "    }\n",
       "\n",
       "    .dataframe thead th {\n",
       "        text-align: right;\n",
       "    }\n",
       "</style>\n",
       "<table border=\"1\" class=\"dataframe\">\n",
       "  <thead>\n",
       "    <tr style=\"text-align: right;\">\n",
       "      <th></th>\n",
       "      <th>Emp ID</th>\n",
       "      <th>Age in Yrs</th>\n",
       "      <th>Weight in Kgs</th>\n",
       "      <th>Age in Company</th>\n",
       "      <th>Salary</th>\n",
       "    </tr>\n",
       "  </thead>\n",
       "  <tbody>\n",
       "    <tr>\n",
       "      <th>count</th>\n",
       "      <td>100.00000</td>\n",
       "      <td>100.000000</td>\n",
       "      <td>97.000000</td>\n",
       "      <td>99.000000</td>\n",
       "      <td>100.000000</td>\n",
       "    </tr>\n",
       "    <tr>\n",
       "      <th>mean</th>\n",
       "      <td>547652.10000</td>\n",
       "      <td>39.238700</td>\n",
       "      <td>58.113402</td>\n",
       "      <td>8.978081</td>\n",
       "      <td>119738.090000</td>\n",
       "    </tr>\n",
       "    <tr>\n",
       "      <th>std</th>\n",
       "      <td>257664.16679</td>\n",
       "      <td>12.066252</td>\n",
       "      <td>12.460668</td>\n",
       "      <td>8.701416</td>\n",
       "      <td>46185.278194</td>\n",
       "    </tr>\n",
       "    <tr>\n",
       "      <th>min</th>\n",
       "      <td>134841.00000</td>\n",
       "      <td>21.100000</td>\n",
       "      <td>40.000000</td>\n",
       "      <td>0.020000</td>\n",
       "      <td>42005.000000</td>\n",
       "    </tr>\n",
       "    <tr>\n",
       "      <th>25%</th>\n",
       "      <td>328643.75000</td>\n",
       "      <td>28.177500</td>\n",
       "      <td>50.000000</td>\n",
       "      <td>2.045000</td>\n",
       "      <td>83979.750000</td>\n",
       "    </tr>\n",
       "    <tr>\n",
       "      <th>50%</th>\n",
       "      <td>497414.00000</td>\n",
       "      <td>37.595000</td>\n",
       "      <td>56.000000</td>\n",
       "      <td>5.930000</td>\n",
       "      <td>118049.500000</td>\n",
       "    </tr>\n",
       "    <tr>\n",
       "      <th>75%</th>\n",
       "      <td>766040.00000</td>\n",
       "      <td>49.900000</td>\n",
       "      <td>62.000000</td>\n",
       "      <td>13.845000</td>\n",
       "      <td>162509.250000</td>\n",
       "    </tr>\n",
       "    <tr>\n",
       "      <th>max</th>\n",
       "      <td>979607.00000</td>\n",
       "      <td>59.470000</td>\n",
       "      <td>90.000000</td>\n",
       "      <td>34.520000</td>\n",
       "      <td>197537.000000</td>\n",
       "    </tr>\n",
       "  </tbody>\n",
       "</table>\n",
       "</div>"
      ],
      "text/plain": [
       "             Emp ID  Age in Yrs  Weight in Kgs  Age in Company         Salary\n",
       "count     100.00000  100.000000      97.000000       99.000000     100.000000\n",
       "mean   547652.10000   39.238700      58.113402        8.978081  119738.090000\n",
       "std    257664.16679   12.066252      12.460668        8.701416   46185.278194\n",
       "min    134841.00000   21.100000      40.000000        0.020000   42005.000000\n",
       "25%    328643.75000   28.177500      50.000000        2.045000   83979.750000\n",
       "50%    497414.00000   37.595000      56.000000        5.930000  118049.500000\n",
       "75%    766040.00000   49.900000      62.000000       13.845000  162509.250000\n",
       "max    979607.00000   59.470000      90.000000       34.520000  197537.000000"
      ]
     },
     "execution_count": 5,
     "metadata": {},
     "output_type": "execute_result"
    }
   ],
   "source": [
    "df.describe()"
   ]
  },
  {
   "cell_type": "code",
   "execution_count": 6,
   "id": "ab470d1c",
   "metadata": {},
   "outputs": [
    {
     "data": {
      "text/plain": [
       "(100, 7)"
      ]
     },
     "execution_count": 6,
     "metadata": {},
     "output_type": "execute_result"
    }
   ],
   "source": [
    "df.shape"
   ]
  },
  {
   "cell_type": "code",
   "execution_count": 7,
   "id": "876301d1",
   "metadata": {},
   "outputs": [
    {
     "data": {
      "text/plain": [
       "700"
      ]
     },
     "execution_count": 7,
     "metadata": {},
     "output_type": "execute_result"
    }
   ],
   "source": [
    "df.size"
   ]
  },
  {
   "cell_type": "code",
   "execution_count": 8,
   "id": "ebcd7de8",
   "metadata": {},
   "outputs": [
    {
     "data": {
      "text/html": [
       "<div>\n",
       "<style scoped>\n",
       "    .dataframe tbody tr th:only-of-type {\n",
       "        vertical-align: middle;\n",
       "    }\n",
       "\n",
       "    .dataframe tbody tr th {\n",
       "        vertical-align: top;\n",
       "    }\n",
       "\n",
       "    .dataframe thead th {\n",
       "        text-align: right;\n",
       "    }\n",
       "</style>\n",
       "<table border=\"1\" class=\"dataframe\">\n",
       "  <thead>\n",
       "    <tr style=\"text-align: right;\">\n",
       "      <th></th>\n",
       "      <th>Emp ID</th>\n",
       "      <th>First Name</th>\n",
       "      <th>Age in Yrs</th>\n",
       "      <th>Weight in Kgs</th>\n",
       "      <th>Age in Company</th>\n",
       "      <th>Salary</th>\n",
       "      <th>City</th>\n",
       "    </tr>\n",
       "  </thead>\n",
       "  <tbody>\n",
       "    <tr>\n",
       "      <th>0</th>\n",
       "      <td>False</td>\n",
       "      <td>False</td>\n",
       "      <td>False</td>\n",
       "      <td>True</td>\n",
       "      <td>False</td>\n",
       "      <td>False</td>\n",
       "      <td>True</td>\n",
       "    </tr>\n",
       "    <tr>\n",
       "      <th>1</th>\n",
       "      <td>False</td>\n",
       "      <td>False</td>\n",
       "      <td>False</td>\n",
       "      <td>True</td>\n",
       "      <td>True</td>\n",
       "      <td>False</td>\n",
       "      <td>False</td>\n",
       "    </tr>\n",
       "    <tr>\n",
       "      <th>2</th>\n",
       "      <td>False</td>\n",
       "      <td>False</td>\n",
       "      <td>False</td>\n",
       "      <td>False</td>\n",
       "      <td>False</td>\n",
       "      <td>False</td>\n",
       "      <td>False</td>\n",
       "    </tr>\n",
       "    <tr>\n",
       "      <th>3</th>\n",
       "      <td>False</td>\n",
       "      <td>False</td>\n",
       "      <td>False</td>\n",
       "      <td>True</td>\n",
       "      <td>False</td>\n",
       "      <td>False</td>\n",
       "      <td>False</td>\n",
       "    </tr>\n",
       "    <tr>\n",
       "      <th>4</th>\n",
       "      <td>False</td>\n",
       "      <td>False</td>\n",
       "      <td>False</td>\n",
       "      <td>False</td>\n",
       "      <td>False</td>\n",
       "      <td>False</td>\n",
       "      <td>False</td>\n",
       "    </tr>\n",
       "    <tr>\n",
       "      <th>...</th>\n",
       "      <td>...</td>\n",
       "      <td>...</td>\n",
       "      <td>...</td>\n",
       "      <td>...</td>\n",
       "      <td>...</td>\n",
       "      <td>...</td>\n",
       "      <td>...</td>\n",
       "    </tr>\n",
       "    <tr>\n",
       "      <th>95</th>\n",
       "      <td>False</td>\n",
       "      <td>False</td>\n",
       "      <td>False</td>\n",
       "      <td>False</td>\n",
       "      <td>False</td>\n",
       "      <td>False</td>\n",
       "      <td>False</td>\n",
       "    </tr>\n",
       "    <tr>\n",
       "      <th>96</th>\n",
       "      <td>False</td>\n",
       "      <td>False</td>\n",
       "      <td>False</td>\n",
       "      <td>False</td>\n",
       "      <td>False</td>\n",
       "      <td>False</td>\n",
       "      <td>False</td>\n",
       "    </tr>\n",
       "    <tr>\n",
       "      <th>97</th>\n",
       "      <td>False</td>\n",
       "      <td>False</td>\n",
       "      <td>False</td>\n",
       "      <td>False</td>\n",
       "      <td>False</td>\n",
       "      <td>False</td>\n",
       "      <td>False</td>\n",
       "    </tr>\n",
       "    <tr>\n",
       "      <th>98</th>\n",
       "      <td>False</td>\n",
       "      <td>False</td>\n",
       "      <td>False</td>\n",
       "      <td>False</td>\n",
       "      <td>False</td>\n",
       "      <td>False</td>\n",
       "      <td>False</td>\n",
       "    </tr>\n",
       "    <tr>\n",
       "      <th>99</th>\n",
       "      <td>False</td>\n",
       "      <td>False</td>\n",
       "      <td>False</td>\n",
       "      <td>False</td>\n",
       "      <td>False</td>\n",
       "      <td>False</td>\n",
       "      <td>False</td>\n",
       "    </tr>\n",
       "  </tbody>\n",
       "</table>\n",
       "<p>100 rows × 7 columns</p>\n",
       "</div>"
      ],
      "text/plain": [
       "    Emp ID  First Name  Age in Yrs  Weight in Kgs  Age in Company  Salary  \\\n",
       "0    False       False       False           True           False   False   \n",
       "1    False       False       False           True            True   False   \n",
       "2    False       False       False          False           False   False   \n",
       "3    False       False       False           True           False   False   \n",
       "4    False       False       False          False           False   False   \n",
       "..     ...         ...         ...            ...             ...     ...   \n",
       "95   False       False       False          False           False   False   \n",
       "96   False       False       False          False           False   False   \n",
       "97   False       False       False          False           False   False   \n",
       "98   False       False       False          False           False   False   \n",
       "99   False       False       False          False           False   False   \n",
       "\n",
       "     City  \n",
       "0    True  \n",
       "1   False  \n",
       "2   False  \n",
       "3   False  \n",
       "4   False  \n",
       "..    ...  \n",
       "95  False  \n",
       "96  False  \n",
       "97  False  \n",
       "98  False  \n",
       "99  False  \n",
       "\n",
       "[100 rows x 7 columns]"
      ]
     },
     "execution_count": 8,
     "metadata": {},
     "output_type": "execute_result"
    }
   ],
   "source": [
    "df.isna()"
   ]
  },
  {
   "cell_type": "code",
   "execution_count": 9,
   "id": "df0e937c",
   "metadata": {},
   "outputs": [
    {
     "data": {
      "text/plain": [
       "Emp ID            0\n",
       "First Name        0\n",
       "Age in Yrs        0\n",
       "Weight in Kgs     3\n",
       "Age in Company    1\n",
       "Salary            0\n",
       "City              1\n",
       "dtype: int64"
      ]
     },
     "execution_count": 9,
     "metadata": {},
     "output_type": "execute_result"
    }
   ],
   "source": [
    "df.isna().sum()"
   ]
  },
  {
   "cell_type": "code",
   "execution_count": 10,
   "id": "8ba66429",
   "metadata": {},
   "outputs": [
    {
     "data": {
      "text/plain": [
       "3"
      ]
     },
     "execution_count": 10,
     "metadata": {},
     "output_type": "execute_result"
    }
   ],
   "source": [
    "df['Weight in Kgs'].isna().sum()"
   ]
  },
  {
   "cell_type": "code",
   "execution_count": 11,
   "id": "e00dae3a",
   "metadata": {},
   "outputs": [
    {
     "data": {
      "text/html": [
       "<div>\n",
       "<style scoped>\n",
       "    .dataframe tbody tr th:only-of-type {\n",
       "        vertical-align: middle;\n",
       "    }\n",
       "\n",
       "    .dataframe tbody tr th {\n",
       "        vertical-align: top;\n",
       "    }\n",
       "\n",
       "    .dataframe thead th {\n",
       "        text-align: right;\n",
       "    }\n",
       "</style>\n",
       "<table border=\"1\" class=\"dataframe\">\n",
       "  <thead>\n",
       "    <tr style=\"text-align: right;\">\n",
       "      <th></th>\n",
       "      <th>Emp ID</th>\n",
       "      <th>First Name</th>\n",
       "      <th>Age in Yrs</th>\n",
       "      <th>Weight in Kgs</th>\n",
       "      <th>Age in Company</th>\n",
       "      <th>Salary</th>\n",
       "      <th>City</th>\n",
       "    </tr>\n",
       "  </thead>\n",
       "  <tbody>\n",
       "    <tr>\n",
       "      <th>0</th>\n",
       "      <td>False</td>\n",
       "      <td>False</td>\n",
       "      <td>False</td>\n",
       "      <td>True</td>\n",
       "      <td>False</td>\n",
       "      <td>False</td>\n",
       "      <td>True</td>\n",
       "    </tr>\n",
       "    <tr>\n",
       "      <th>1</th>\n",
       "      <td>False</td>\n",
       "      <td>False</td>\n",
       "      <td>False</td>\n",
       "      <td>True</td>\n",
       "      <td>True</td>\n",
       "      <td>False</td>\n",
       "      <td>False</td>\n",
       "    </tr>\n",
       "    <tr>\n",
       "      <th>2</th>\n",
       "      <td>False</td>\n",
       "      <td>False</td>\n",
       "      <td>False</td>\n",
       "      <td>False</td>\n",
       "      <td>False</td>\n",
       "      <td>False</td>\n",
       "      <td>False</td>\n",
       "    </tr>\n",
       "    <tr>\n",
       "      <th>3</th>\n",
       "      <td>False</td>\n",
       "      <td>False</td>\n",
       "      <td>False</td>\n",
       "      <td>True</td>\n",
       "      <td>False</td>\n",
       "      <td>False</td>\n",
       "      <td>False</td>\n",
       "    </tr>\n",
       "    <tr>\n",
       "      <th>4</th>\n",
       "      <td>False</td>\n",
       "      <td>False</td>\n",
       "      <td>False</td>\n",
       "      <td>False</td>\n",
       "      <td>False</td>\n",
       "      <td>False</td>\n",
       "      <td>False</td>\n",
       "    </tr>\n",
       "    <tr>\n",
       "      <th>...</th>\n",
       "      <td>...</td>\n",
       "      <td>...</td>\n",
       "      <td>...</td>\n",
       "      <td>...</td>\n",
       "      <td>...</td>\n",
       "      <td>...</td>\n",
       "      <td>...</td>\n",
       "    </tr>\n",
       "    <tr>\n",
       "      <th>95</th>\n",
       "      <td>False</td>\n",
       "      <td>False</td>\n",
       "      <td>False</td>\n",
       "      <td>False</td>\n",
       "      <td>False</td>\n",
       "      <td>False</td>\n",
       "      <td>False</td>\n",
       "    </tr>\n",
       "    <tr>\n",
       "      <th>96</th>\n",
       "      <td>False</td>\n",
       "      <td>False</td>\n",
       "      <td>False</td>\n",
       "      <td>False</td>\n",
       "      <td>False</td>\n",
       "      <td>False</td>\n",
       "      <td>False</td>\n",
       "    </tr>\n",
       "    <tr>\n",
       "      <th>97</th>\n",
       "      <td>False</td>\n",
       "      <td>False</td>\n",
       "      <td>False</td>\n",
       "      <td>False</td>\n",
       "      <td>False</td>\n",
       "      <td>False</td>\n",
       "      <td>False</td>\n",
       "    </tr>\n",
       "    <tr>\n",
       "      <th>98</th>\n",
       "      <td>False</td>\n",
       "      <td>False</td>\n",
       "      <td>False</td>\n",
       "      <td>False</td>\n",
       "      <td>False</td>\n",
       "      <td>False</td>\n",
       "      <td>False</td>\n",
       "    </tr>\n",
       "    <tr>\n",
       "      <th>99</th>\n",
       "      <td>False</td>\n",
       "      <td>False</td>\n",
       "      <td>False</td>\n",
       "      <td>False</td>\n",
       "      <td>False</td>\n",
       "      <td>False</td>\n",
       "      <td>False</td>\n",
       "    </tr>\n",
       "  </tbody>\n",
       "</table>\n",
       "<p>100 rows × 7 columns</p>\n",
       "</div>"
      ],
      "text/plain": [
       "    Emp ID  First Name  Age in Yrs  Weight in Kgs  Age in Company  Salary  \\\n",
       "0    False       False       False           True           False   False   \n",
       "1    False       False       False           True            True   False   \n",
       "2    False       False       False          False           False   False   \n",
       "3    False       False       False           True           False   False   \n",
       "4    False       False       False          False           False   False   \n",
       "..     ...         ...         ...            ...             ...     ...   \n",
       "95   False       False       False          False           False   False   \n",
       "96   False       False       False          False           False   False   \n",
       "97   False       False       False          False           False   False   \n",
       "98   False       False       False          False           False   False   \n",
       "99   False       False       False          False           False   False   \n",
       "\n",
       "     City  \n",
       "0    True  \n",
       "1   False  \n",
       "2   False  \n",
       "3   False  \n",
       "4   False  \n",
       "..    ...  \n",
       "95  False  \n",
       "96  False  \n",
       "97  False  \n",
       "98  False  \n",
       "99  False  \n",
       "\n",
       "[100 rows x 7 columns]"
      ]
     },
     "execution_count": 11,
     "metadata": {},
     "output_type": "execute_result"
    }
   ],
   "source": [
    "df.isnull()"
   ]
  },
  {
   "cell_type": "code",
   "execution_count": 12,
   "id": "8ae095f3",
   "metadata": {},
   "outputs": [
    {
     "data": {
      "text/plain": [
       "Emp ID            0\n",
       "First Name        0\n",
       "Age in Yrs        0\n",
       "Weight in Kgs     3\n",
       "Age in Company    1\n",
       "Salary            0\n",
       "City              1\n",
       "dtype: int64"
      ]
     },
     "execution_count": 12,
     "metadata": {},
     "output_type": "execute_result"
    }
   ],
   "source": [
    "df.isnull().sum()"
   ]
  },
  {
   "cell_type": "code",
   "execution_count": 13,
   "id": "df422903",
   "metadata": {},
   "outputs": [
    {
     "data": {
      "text/plain": [
       "1"
      ]
     },
     "execution_count": 13,
     "metadata": {},
     "output_type": "execute_result"
    }
   ],
   "source": [
    "df['Age in Company'].isnull().sum()"
   ]
  },
  {
   "cell_type": "code",
   "execution_count": 14,
   "id": "8f8a94c9",
   "metadata": {},
   "outputs": [
    {
     "name": "stderr",
     "output_type": "stream",
     "text": [
      "C:\\Users\\Pranav\\AppData\\Local\\Temp/ipykernel_60036/3698961737.py:1: FutureWarning: Dropping of nuisance columns in DataFrame reductions (with 'numeric_only=None') is deprecated; in a future version this will raise TypeError.  Select only valid columns before calling the reduction.\n",
      "  df.mean()\n"
     ]
    },
    {
     "data": {
      "text/plain": [
       "Emp ID            547652.100000\n",
       "Age in Yrs            39.238700\n",
       "Weight in Kgs         58.113402\n",
       "Age in Company         8.978081\n",
       "Salary            119738.090000\n",
       "dtype: float64"
      ]
     },
     "execution_count": 14,
     "metadata": {},
     "output_type": "execute_result"
    }
   ],
   "source": [
    "df.mean()"
   ]
  },
  {
   "cell_type": "code",
   "execution_count": 15,
   "id": "6641078b",
   "metadata": {},
   "outputs": [
    {
     "data": {
      "text/plain": [
       "Emp ID            547652.100000\n",
       "Age in Yrs            39.238700\n",
       "Weight in Kgs         58.113402\n",
       "Age in Company         8.978081\n",
       "Salary            119738.090000\n",
       "Name: mean, dtype: float64"
      ]
     },
     "execution_count": 15,
     "metadata": {},
     "output_type": "execute_result"
    }
   ],
   "source": [
    "df.describe().loc['mean']"
   ]
  },
  {
   "cell_type": "code",
   "execution_count": 16,
   "id": "0f316b74",
   "metadata": {},
   "outputs": [
    {
     "data": {
      "text/plain": [
       "Emp ID            547652.100000\n",
       "Age in Yrs            39.238700\n",
       "Weight in Kgs         58.113402\n",
       "Age in Company         8.978081\n",
       "Salary            119738.090000\n",
       "Name: mean, dtype: float64"
      ]
     },
     "execution_count": 16,
     "metadata": {},
     "output_type": "execute_result"
    }
   ],
   "source": [
    "df.describe().iloc[1]"
   ]
  },
  {
   "cell_type": "code",
   "execution_count": 17,
   "id": "92f73b5b",
   "metadata": {},
   "outputs": [
    {
     "data": {
      "text/plain": [
       "39.23870000000001"
      ]
     },
     "execution_count": 17,
     "metadata": {},
     "output_type": "execute_result"
    }
   ],
   "source": [
    "df['Age in Yrs'].mean()"
   ]
  },
  {
   "cell_type": "code",
   "execution_count": 18,
   "id": "31135d47",
   "metadata": {},
   "outputs": [
    {
     "data": {
      "text/plain": [
       "39.23870000000001"
      ]
     },
     "execution_count": 18,
     "metadata": {},
     "output_type": "execute_result"
    }
   ],
   "source": [
    "np.mean(df['Age in Yrs'])"
   ]
  },
  {
   "cell_type": "code",
   "execution_count": 19,
   "id": "31ce1916",
   "metadata": {},
   "outputs": [
    {
     "data": {
      "text/plain": [
       "37.595"
      ]
     },
     "execution_count": 19,
     "metadata": {},
     "output_type": "execute_result"
    }
   ],
   "source": [
    "df['Age in Yrs'].median()"
   ]
  },
  {
   "cell_type": "code",
   "execution_count": 20,
   "id": "d383f09e",
   "metadata": {},
   "outputs": [
    {
     "name": "stderr",
     "output_type": "stream",
     "text": [
      "C:\\Users\\Pranav\\AppData\\Local\\Temp/ipykernel_60036/530051474.py:1: FutureWarning: Dropping of nuisance columns in DataFrame reductions (with 'numeric_only=None') is deprecated; in a future version this will raise TypeError.  Select only valid columns before calling the reduction.\n",
      "  df.median()\n"
     ]
    },
    {
     "data": {
      "text/plain": [
       "Emp ID            497414.000\n",
       "Age in Yrs            37.595\n",
       "Weight in Kgs         56.000\n",
       "Age in Company         5.930\n",
       "Salary            118049.500\n",
       "dtype: float64"
      ]
     },
     "execution_count": 20,
     "metadata": {},
     "output_type": "execute_result"
    }
   ],
   "source": [
    "df.median()"
   ]
  },
  {
   "cell_type": "code",
   "execution_count": 21,
   "id": "ef4dcd8b",
   "metadata": {},
   "outputs": [],
   "source": [
    "import statistics as st"
   ]
  },
  {
   "cell_type": "code",
   "execution_count": 22,
   "id": "ea3f40c1",
   "metadata": {},
   "outputs": [
    {
     "data": {
      "text/plain": [
       "36.36"
      ]
     },
     "execution_count": 22,
     "metadata": {},
     "output_type": "execute_result"
    }
   ],
   "source": [
    "st.mode(df['Age in Yrs'])"
   ]
  },
  {
   "cell_type": "code",
   "execution_count": 23,
   "id": "8806b777",
   "metadata": {},
   "outputs": [
    {
     "data": {
      "text/plain": [
       "21.1"
      ]
     },
     "execution_count": 23,
     "metadata": {},
     "output_type": "execute_result"
    }
   ],
   "source": [
    "df['Age in Yrs'].min()"
   ]
  },
  {
   "cell_type": "code",
   "execution_count": 24,
   "id": "1c503297",
   "metadata": {},
   "outputs": [
    {
     "data": {
      "text/plain": [
       "0.02"
      ]
     },
     "execution_count": 24,
     "metadata": {},
     "output_type": "execute_result"
    }
   ],
   "source": [
    "np.min(df['Age in Company'])"
   ]
  },
  {
   "cell_type": "code",
   "execution_count": 25,
   "id": "ec9d42ae",
   "metadata": {},
   "outputs": [
    {
     "data": {
      "text/plain": [
       "59.47"
      ]
     },
     "execution_count": 25,
     "metadata": {},
     "output_type": "execute_result"
    }
   ],
   "source": [
    "df['Age in Yrs'].max()"
   ]
  },
  {
   "cell_type": "code",
   "execution_count": 26,
   "id": "9fbcb86c",
   "metadata": {},
   "outputs": [
    {
     "data": {
      "text/plain": [
       "34.52"
      ]
     },
     "execution_count": 26,
     "metadata": {},
     "output_type": "execute_result"
    }
   ],
   "source": [
    "np.max(df['Age in Company'])"
   ]
  },
  {
   "cell_type": "code",
   "execution_count": 27,
   "id": "3c299e06",
   "metadata": {},
   "outputs": [
    {
     "name": "stderr",
     "output_type": "stream",
     "text": [
      "C:\\Users\\Pranav\\AppData\\Local\\Temp/ipykernel_60036/1703867807.py:1: FutureWarning: Dropping of nuisance columns in DataFrame reductions (with 'numeric_only=None') is deprecated; in a future version this will raise TypeError.  Select only valid columns before calling the reduction.\n",
      "  df.sum()\n"
     ]
    },
    {
     "data": {
      "text/plain": [
       "Emp ID                                                     54765210\n",
       "First Name        LoisBrendaJoeDianeBenjaminPatrickNancyCarolFra...\n",
       "Age in Yrs                                                  3923.87\n",
       "Weight in Kgs                                                5637.0\n",
       "Age in Company                                               888.83\n",
       "Salary                                                     11973809\n",
       "dtype: object"
      ]
     },
     "execution_count": 27,
     "metadata": {},
     "output_type": "execute_result"
    }
   ],
   "source": [
    "df.sum()"
   ]
  },
  {
   "cell_type": "code",
   "execution_count": 28,
   "id": "a7757cac",
   "metadata": {},
   "outputs": [
    {
     "data": {
      "text/plain": [
       "11973809"
      ]
     },
     "execution_count": 28,
     "metadata": {},
     "output_type": "execute_result"
    }
   ],
   "source": [
    "df.Salary.sum()"
   ]
  },
  {
   "cell_type": "code",
   "execution_count": 29,
   "id": "b60573c8",
   "metadata": {},
   "outputs": [
    {
     "data": {
      "text/plain": [
       "11973809"
      ]
     },
     "execution_count": 29,
     "metadata": {},
     "output_type": "execute_result"
    }
   ],
   "source": [
    "df['Salary'].sum()"
   ]
  },
  {
   "cell_type": "code",
   "execution_count": 30,
   "id": "402b744f",
   "metadata": {},
   "outputs": [
    {
     "data": {
      "text/plain": [
       "11973809"
      ]
     },
     "execution_count": 30,
     "metadata": {},
     "output_type": "execute_result"
    }
   ],
   "source": [
    "np.sum(df.Salary)"
   ]
  },
  {
   "cell_type": "code",
   "execution_count": 31,
   "id": "a5f665cb",
   "metadata": {},
   "outputs": [
    {
     "data": {
      "text/plain": [
       "100"
      ]
     },
     "execution_count": 31,
     "metadata": {},
     "output_type": "execute_result"
    }
   ],
   "source": [
    "df['Salary'].count()"
   ]
  },
  {
   "cell_type": "code",
   "execution_count": 32,
   "id": "6771df9a",
   "metadata": {},
   "outputs": [
    {
     "data": {
      "text/plain": [
       "100"
      ]
     },
     "execution_count": 32,
     "metadata": {},
     "output_type": "execute_result"
    }
   ],
   "source": [
    "len(df.Salary)"
   ]
  },
  {
   "cell_type": "code",
   "execution_count": 33,
   "id": "bfdb81d0",
   "metadata": {},
   "outputs": [
    {
     "data": {
      "text/plain": [
       "45953.77158255785"
      ]
     },
     "execution_count": 33,
     "metadata": {},
     "output_type": "execute_result"
    }
   ],
   "source": [
    "np.std(df.Salary)"
   ]
  },
  {
   "cell_type": "code",
   "execution_count": 34,
   "id": "0f360a81",
   "metadata": {},
   "outputs": [
    {
     "data": {
      "text/plain": [
       "46185.2781942548"
      ]
     },
     "execution_count": 34,
     "metadata": {},
     "output_type": "execute_result"
    }
   ],
   "source": [
    "df.Salary.std()"
   ]
  },
  {
   "cell_type": "code",
   "execution_count": 35,
   "id": "6f8a7ad9",
   "metadata": {},
   "outputs": [
    {
     "data": {
      "text/plain": [
       "2111749122.661901"
      ]
     },
     "execution_count": 35,
     "metadata": {},
     "output_type": "execute_result"
    }
   ],
   "source": [
    "np.var(df.Salary)"
   ]
  },
  {
   "cell_type": "code",
   "execution_count": 36,
   "id": "25aa8b95",
   "metadata": {},
   "outputs": [
    {
     "data": {
      "text/plain": [
       "2133079921.880708"
      ]
     },
     "execution_count": 36,
     "metadata": {},
     "output_type": "execute_result"
    }
   ],
   "source": [
    "df.Salary.var()"
   ]
  },
  {
   "cell_type": "code",
   "execution_count": 37,
   "id": "08b81015",
   "metadata": {},
   "outputs": [
    {
     "data": {
      "text/plain": [
       "0     410.184105\n",
       "1     225.971237\n",
       "2     223.953120\n",
       "3     424.610410\n",
       "4     342.989796\n",
       "         ...    \n",
       "95    360.241586\n",
       "96    395.213866\n",
       "97    309.310524\n",
       "98    225.865004\n",
       "99    306.022875\n",
       "Name: Salary, Length: 100, dtype: float64"
      ]
     },
     "execution_count": 37,
     "metadata": {},
     "output_type": "execute_result"
    }
   ],
   "source": [
    "np.sqrt(df.Salary)"
   ]
  },
  {
   "cell_type": "code",
   "execution_count": 38,
   "id": "ccab87de",
   "metadata": {},
   "outputs": [
    {
     "data": {
      "text/plain": [
       "0     55.205950\n",
       "1     37.099561\n",
       "2     36.878344\n",
       "3     56.492886\n",
       "4     48.999028\n",
       "        ...    \n",
       "95    50.628598\n",
       "96    53.854432\n",
       "97    45.736521\n",
       "98    37.087933\n",
       "99    45.411857\n",
       "Name: Salary, Length: 100, dtype: float64"
      ]
     },
     "execution_count": 38,
     "metadata": {},
     "output_type": "execute_result"
    }
   ],
   "source": [
    "np.cbrt(df.Salary)"
   ]
  },
  {
   "cell_type": "code",
   "execution_count": 39,
   "id": "c91d4410",
   "metadata": {},
   "outputs": [
    {
     "data": {
      "text/plain": [
       "0     28308399001\n",
       "1      2607429969\n",
       "2      2515524025\n",
       "3     32505926436\n",
       "4     13839640164\n",
       "         ...     \n",
       "95    16841291076\n",
       "96    24396565636\n",
       "97     9153322929\n",
       "98     2602530225\n",
       "99     8770322500\n",
       "Name: Salary, Length: 100, dtype: int64"
      ]
     },
     "execution_count": 39,
     "metadata": {},
     "output_type": "execute_result"
    }
   ],
   "source": [
    "np.square(df.Salary)"
   ]
  },
  {
   "cell_type": "code",
   "execution_count": 40,
   "id": "1b7fcf58",
   "metadata": {},
   "outputs": [
    {
     "data": {
      "text/plain": [
       "0     28308399001\n",
       "1      2607429969\n",
       "2      2515524025\n",
       "3     32505926436\n",
       "4     13839640164\n",
       "         ...     \n",
       "95    16841291076\n",
       "96    24396565636\n",
       "97     9153322929\n",
       "98     2602530225\n",
       "99     8770322500\n",
       "Name: Salary, Length: 100, dtype: int64"
      ]
     },
     "execution_count": 40,
     "metadata": {},
     "output_type": "execute_result"
    }
   ],
   "source": [
    "df.Salary**2"
   ]
  }
 ],
 "metadata": {
  "kernelspec": {
   "display_name": "Python 3 (ipykernel)",
   "language": "python",
   "name": "python3"
  },
  "language_info": {
   "codemirror_mode": {
    "name": "ipython",
    "version": 3
   },
   "file_extension": ".py",
   "mimetype": "text/x-python",
   "name": "python",
   "nbconvert_exporter": "python",
   "pygments_lexer": "ipython3",
   "version": "3.9.7"
  },
  "toc": {
   "base_numbering": 1,
   "nav_menu": {},
   "number_sections": true,
   "sideBar": true,
   "skip_h1_title": false,
   "title_cell": "Table of Contents",
   "title_sidebar": "Contents",
   "toc_cell": false,
   "toc_position": {},
   "toc_section_display": true,
   "toc_window_display": false
  }
 },
 "nbformat": 4,
 "nbformat_minor": 5
}

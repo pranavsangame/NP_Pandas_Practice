{
 "cells": [
  {
   "cell_type": "code",
   "execution_count": 1,
   "id": "68fe55bc",
   "metadata": {},
   "outputs": [],
   "source": [
    "import numpy as np"
   ]
  },
  {
   "cell_type": "markdown",
   "id": "27c23696",
   "metadata": {},
   "source": [
    "# matrix dot product"
   ]
  },
  {
   "cell_type": "raw",
   "id": "d7a1b8cc",
   "metadata": {},
   "source": [
    "for matrix dot product : number of columns of first matrix should be equal to number of rows of 2nd matrix"
   ]
  },
  {
   "cell_type": "code",
   "execution_count": 2,
   "id": "c200e710",
   "metadata": {},
   "outputs": [],
   "source": [
    "arr1 = np.array([[3,4],\n",
    "                 [5,5]])\n",
    "\n",
    "arr2 = np.array([[4,6],\n",
    "                 [9,0]])\n",
    "\n",
    "# 3*4+4*9    3*6+4*0\n",
    "# 5*4+5*9    5*6+5*0"
   ]
  },
  {
   "cell_type": "code",
   "execution_count": 3,
   "id": "8cadeef4",
   "metadata": {},
   "outputs": [
    {
     "data": {
      "text/plain": [
       "array([[48, 18],\n",
       "       [65, 30]])"
      ]
     },
     "execution_count": 3,
     "metadata": {},
     "output_type": "execute_result"
    }
   ],
   "source": [
    "np.dot(arr1,arr2)"
   ]
  },
  {
   "cell_type": "code",
   "execution_count": 4,
   "id": "fe4acf4b",
   "metadata": {},
   "outputs": [
    {
     "data": {
      "text/plain": [
       "array([[48, 18, 11],\n",
       "       [65, 30, 15],\n",
       "       [ 9,  0,  2]])"
      ]
     },
     "execution_count": 4,
     "metadata": {},
     "output_type": "execute_result"
    }
   ],
   "source": [
    "arr1 = np.array([[3,4],\n",
    "                 [5,5],\n",
    "                 [0,1]])\n",
    "\n",
    "arr2 = np.array([[4,6,1],\n",
    "                 [9,0,2]])\n",
    "\n",
    "np.dot(arr1,arr2)"
   ]
  },
  {
   "cell_type": "code",
   "execution_count": 7,
   "id": "712a35d4",
   "metadata": {},
   "outputs": [
    {
     "data": {
      "text/plain": [
       "array([[0, 0],\n",
       "       [0, 0]])"
      ]
     },
     "execution_count": 7,
     "metadata": {},
     "output_type": "execute_result"
    }
   ],
   "source": [
    "arr1 = np.array([[3,4],\n",
    "                 [5,5]])\n",
    "\n",
    "arr2 = np.array([[4,6],\n",
    "                 [9,0]])\n",
    "\n",
    "arr3 = np.array([[0,0],\n",
    "                 [0,0]])\n",
    "\n",
    "dot = np.dot(arr1,arr2)\n",
    "\n",
    "np.dot(arr3,dot)"
   ]
  },
  {
   "cell_type": "raw",
   "id": "c3307555",
   "metadata": {},
   "source": [
    "3x+4y=15\n",
    "5x+6y=20\n",
    "\n",
    "x=?\n",
    "y=?"
   ]
  },
  {
   "cell_type": "code",
   "execution_count": 10,
   "id": "eedd139e",
   "metadata": {},
   "outputs": [
    {
     "data": {
      "text/plain": [
       "45.0"
      ]
     },
     "execution_count": 10,
     "metadata": {},
     "output_type": "execute_result"
    }
   ],
   "source": [
    "7.5*6"
   ]
  },
  {
   "cell_type": "code",
   "execution_count": 11,
   "id": "778d6686",
   "metadata": {},
   "outputs": [],
   "source": [
    "A = np.array([[3,4],\n",
    "              [5,6]])\n",
    "B = np.array([15,20])"
   ]
  },
  {
   "cell_type": "code",
   "execution_count": 12,
   "id": "2eef9f97",
   "metadata": {},
   "outputs": [],
   "source": [
    "x,y = np.linalg.solve(A,B)"
   ]
  },
  {
   "cell_type": "code",
   "execution_count": 13,
   "id": "25227e57",
   "metadata": {},
   "outputs": [
    {
     "data": {
      "text/plain": [
       "-4.999999999999998"
      ]
     },
     "execution_count": 13,
     "metadata": {},
     "output_type": "execute_result"
    }
   ],
   "source": [
    "x"
   ]
  },
  {
   "cell_type": "code",
   "execution_count": 14,
   "id": "0267b887",
   "metadata": {},
   "outputs": [
    {
     "data": {
      "text/plain": [
       "7.499999999999998"
      ]
     },
     "execution_count": 14,
     "metadata": {},
     "output_type": "execute_result"
    }
   ],
   "source": [
    "y"
   ]
  },
  {
   "cell_type": "raw",
   "id": "bf0471a7",
   "metadata": {},
   "source": [
    "3x+4y+8z=15\n",
    "5x+6y-2z=20\n",
    "4x-2y+6z=25"
   ]
  },
  {
   "cell_type": "code",
   "execution_count": 17,
   "id": "d4a70154",
   "metadata": {},
   "outputs": [
    {
     "data": {
      "text/plain": [
       "array([ 5.24390244, -0.91463415,  0.36585366])"
      ]
     },
     "execution_count": 17,
     "metadata": {},
     "output_type": "execute_result"
    }
   ],
   "source": [
    "A = np.array([[3,4,8],[5,6,-2],[4,-2,6]])\n",
    "B = np.array([15,20,25])\n",
    "\n",
    "np.linalg.solve(A,B)"
   ]
  },
  {
   "cell_type": "code",
   "execution_count": 18,
   "id": "d087c9fb",
   "metadata": {},
   "outputs": [
    {
     "data": {
      "text/plain": [
       "15.000000000000002"
      ]
     },
     "execution_count": 18,
     "metadata": {},
     "output_type": "execute_result"
    }
   ],
   "source": [
    "3*(5.24390244)+4*(-0.91463415)+8*(0.36585366)"
   ]
  },
  {
   "cell_type": "raw",
   "id": "60277bb6",
   "metadata": {},
   "source": [
    "7x-8y+2z=20\n",
    "7x+2y=10\n",
    "9y-6z=5"
   ]
  },
  {
   "cell_type": "code",
   "execution_count": 19,
   "id": "5799374b",
   "metadata": {},
   "outputs": [
    {
     "data": {
      "text/plain": [
       "array([ 1.9047619 , -1.66666667, -3.33333333])"
      ]
     },
     "execution_count": 19,
     "metadata": {},
     "output_type": "execute_result"
    }
   ],
   "source": [
    "a=np.array([[7,-8,2],[7,2,0],[0,9,-6]])\n",
    "b=np.array([20,10,5])\n",
    "np.linalg.solve(a,b)"
   ]
  },
  {
   "cell_type": "raw",
   "id": "225a3c4d",
   "metadata": {},
   "source": [
    "A = np.array([[3,4],\n",
    "              [5,6]])\n",
    "\n",
    "A*A^(-1) = I"
   ]
  },
  {
   "cell_type": "code",
   "execution_count": 20,
   "id": "72239bb0",
   "metadata": {},
   "outputs": [],
   "source": [
    "A = np.array([[3,4],\n",
    "              [5,6]])"
   ]
  },
  {
   "cell_type": "code",
   "execution_count": 21,
   "id": "8ca597a2",
   "metadata": {},
   "outputs": [
    {
     "data": {
      "text/plain": [
       "array([[-3. ,  2. ],\n",
       "       [ 2.5, -1.5]])"
      ]
     },
     "execution_count": 21,
     "metadata": {},
     "output_type": "execute_result"
    }
   ],
   "source": [
    "np.linalg.inv(A)"
   ]
  },
  {
   "cell_type": "code",
   "execution_count": 22,
   "id": "b9dbc8eb",
   "metadata": {},
   "outputs": [
    {
     "ename": "SyntaxError",
     "evalue": "invalid syntax (Temp/ipykernel_57980/3827110332.py, line 1)",
     "output_type": "error",
     "traceback": [
      "\u001b[1;36m  File \u001b[1;32m\"C:\\Users\\Pranav\\AppData\\Local\\Temp/ipykernel_57980/3827110332.py\"\u001b[1;36m, line \u001b[1;32m1\u001b[0m\n\u001b[1;33m    3*-3+4*2.5     3*2+4*-1.5\u001b[0m\n\u001b[1;37m                   ^\u001b[0m\n\u001b[1;31mSyntaxError\u001b[0m\u001b[1;31m:\u001b[0m invalid syntax\n"
     ]
    }
   ],
   "source": [
    "3*-3+4*2.5     3*2+4*-1.5\n",
    "5*-3+6*2.5     5*2+6*-1.5\n",
    "\n",
    "[1 0\n",
    " 0 1]"
   ]
  },
  {
   "cell_type": "code",
   "execution_count": 23,
   "id": "dc477a40",
   "metadata": {},
   "outputs": [],
   "source": [
    "A = np.array([[3,4,5],\n",
    "              [5,6,1],\n",
    "              [3,4,0]])"
   ]
  },
  {
   "cell_type": "code",
   "execution_count": 24,
   "id": "1a939cb0",
   "metadata": {},
   "outputs": [
    {
     "data": {
      "text/plain": [
       "array([[-0.4,  2. , -2.6],\n",
       "       [ 0.3, -1.5,  2.2],\n",
       "       [ 0.2, -0. , -0.2]])"
      ]
     },
     "execution_count": 24,
     "metadata": {},
     "output_type": "execute_result"
    }
   ],
   "source": [
    "np.linalg.inv(A)"
   ]
  },
  {
   "cell_type": "code",
   "execution_count": 25,
   "id": "2fec9ba2",
   "metadata": {},
   "outputs": [
    {
     "data": {
      "text/plain": [
       "0.9999999999999998"
      ]
     },
     "execution_count": 25,
     "metadata": {},
     "output_type": "execute_result"
    }
   ],
   "source": [
    "3*-0.4+4*0.3+5*0.2"
   ]
  },
  {
   "cell_type": "markdown",
   "id": "1d12c3f1",
   "metadata": {},
   "source": [
    "# log function"
   ]
  },
  {
   "cell_type": "code",
   "execution_count": 27,
   "id": "3a4bb273",
   "metadata": {},
   "outputs": [
    {
     "data": {
      "text/plain": [
       "1.0"
      ]
     },
     "execution_count": 27,
     "metadata": {},
     "output_type": "execute_result"
    }
   ],
   "source": [
    "np.log(np.exp(1))   # Natural log is set to base e"
   ]
  },
  {
   "cell_type": "code",
   "execution_count": 28,
   "id": "104d8dc9",
   "metadata": {},
   "outputs": [
    {
     "name": "stderr",
     "output_type": "stream",
     "text": [
      "C:\\Users\\Pranav\\AppData\\Local\\Temp/ipykernel_57980/2933082444.py:1: RuntimeWarning: divide by zero encountered in log\n",
      "  np.log(0)\n"
     ]
    },
    {
     "data": {
      "text/plain": [
       "-inf"
      ]
     },
     "execution_count": 28,
     "metadata": {},
     "output_type": "execute_result"
    }
   ],
   "source": [
    "np.log(0)"
   ]
  },
  {
   "cell_type": "code",
   "execution_count": 29,
   "id": "13c2af9f",
   "metadata": {},
   "outputs": [
    {
     "data": {
      "text/plain": [
       "0.0"
      ]
     },
     "execution_count": 29,
     "metadata": {},
     "output_type": "execute_result"
    }
   ],
   "source": [
    "np.log(1)"
   ]
  },
  {
   "cell_type": "code",
   "execution_count": 30,
   "id": "b42ec076",
   "metadata": {},
   "outputs": [
    {
     "data": {
      "text/plain": [
       "0.6931471805599453"
      ]
     },
     "execution_count": 30,
     "metadata": {},
     "output_type": "execute_result"
    }
   ],
   "source": [
    "np.log(2)"
   ]
  },
  {
   "cell_type": "code",
   "execution_count": 31,
   "id": "0e3b7601",
   "metadata": {},
   "outputs": [
    {
     "data": {
      "text/plain": [
       "1.0"
      ]
     },
     "execution_count": 31,
     "metadata": {},
     "output_type": "execute_result"
    }
   ],
   "source": [
    "np.log(2.718281828459045)"
   ]
  },
  {
   "cell_type": "code",
   "execution_count": 32,
   "id": "b9fd317c",
   "metadata": {
    "scrolled": true
   },
   "outputs": [
    {
     "data": {
      "text/plain": [
       "3.0017143482136457"
      ]
     },
     "execution_count": 32,
     "metadata": {},
     "output_type": "execute_result"
    }
   ],
   "source": [
    "np.log(20.12000006)"
   ]
  },
  {
   "attachments": {
    "image-3.png": {
     "image/png": "[encoded data removed]"
    }
   },
   "cell_type": "markdown",
   "id": "08078920",
   "metadata": {},
   "source": [
    "![image-3.png](attachment:image-3.png)"
   ]
  },
  {
   "cell_type": "code",
   "execution_count": 33,
   "id": "800c88d4",
   "metadata": {},
   "outputs": [
    {
     "name": "stderr",
     "output_type": "stream",
     "text": [
      "C:\\Users\\Pranav\\AppData\\Local\\Temp/ipykernel_57980/56148838.py:1: RuntimeWarning: divide by zero encountered in log10\n",
      "  np.log10(0)         # Log10 to the base whatever number\n"
     ]
    },
    {
     "data": {
      "text/plain": [
       "-inf"
      ]
     },
     "execution_count": 33,
     "metadata": {},
     "output_type": "execute_result"
    }
   ],
   "source": [
    "np.log10(0)         # Log10 to the base whatever number"
   ]
  },
  {
   "cell_type": "code",
   "execution_count": 34,
   "id": "7fc4efd1",
   "metadata": {},
   "outputs": [
    {
     "data": {
      "text/plain": [
       "0.0"
      ]
     },
     "execution_count": 34,
     "metadata": {},
     "output_type": "execute_result"
    }
   ],
   "source": [
    "np.log10(1)"
   ]
  },
  {
   "cell_type": "code",
   "execution_count": 35,
   "id": "323111ee",
   "metadata": {},
   "outputs": [
    {
     "data": {
      "text/plain": [
       "1.0"
      ]
     },
     "execution_count": 35,
     "metadata": {},
     "output_type": "execute_result"
    }
   ],
   "source": [
    "np.log10(10)"
   ]
  },
  {
   "cell_type": "code",
   "execution_count": 36,
   "id": "9c8f0912",
   "metadata": {},
   "outputs": [
    {
     "data": {
      "text/plain": [
       "2.0"
      ]
     },
     "execution_count": 36,
     "metadata": {},
     "output_type": "execute_result"
    }
   ],
   "source": [
    "np.log10(100)"
   ]
  },
  {
   "cell_type": "code",
   "execution_count": 37,
   "id": "ac8f9519",
   "metadata": {},
   "outputs": [
    {
     "data": {
      "text/plain": [
       "3.0"
      ]
     },
     "execution_count": 37,
     "metadata": {},
     "output_type": "execute_result"
    }
   ],
   "source": [
    "np.log10(1000)"
   ]
  },
  {
   "cell_type": "code",
   "execution_count": 38,
   "id": "f943181f",
   "metadata": {},
   "outputs": [
    {
     "data": {
      "text/plain": [
       "1.7634279935629373"
      ]
     },
     "execution_count": 38,
     "metadata": {},
     "output_type": "execute_result"
    }
   ],
   "source": [
    "np.log10(58)"
   ]
  },
  {
   "cell_type": "code",
   "execution_count": 39,
   "id": "e552fe4a",
   "metadata": {},
   "outputs": [
    {
     "data": {
      "text/plain": [
       "-10.0"
      ]
     },
     "execution_count": 39,
     "metadata": {},
     "output_type": "execute_result"
    }
   ],
   "source": [
    "np.log10(0.0000000001)"
   ]
  },
  {
   "cell_type": "code",
   "execution_count": 40,
   "id": "e625a0a8",
   "metadata": {},
   "outputs": [
    {
     "ename": "SyntaxError",
     "evalue": "cannot assign to operator (Temp/ipykernel_57980/942282147.py, line 1)",
     "output_type": "error",
     "traceback": [
      "\u001b[1;36m  File \u001b[1;32m\"C:\\Users\\Pranav\\AppData\\Local\\Temp/ipykernel_57980/942282147.py\"\u001b[1;36m, line \u001b[1;32m1\u001b[0m\n\u001b[1;33m    10**1 = 10\u001b[0m\n\u001b[1;37m    ^\u001b[0m\n\u001b[1;31mSyntaxError\u001b[0m\u001b[1;31m:\u001b[0m cannot assign to operator\n"
     ]
    }
   ],
   "source": [
    "10**1 = 10\n",
    "10**2 = 100"
   ]
  },
  {
   "attachments": {
    "image.png": {
     "image/png": "[encoded data removed]"
    }
   },
   "cell_type": "markdown",
   "id": "bc827344",
   "metadata": {},
   "source": [
    "![image.png](attachment:image.png)"
   ]
  },
  {
   "cell_type": "code",
   "execution_count": 41,
   "id": "1aaaf666",
   "metadata": {
    "scrolled": true
   },
   "outputs": [
    {
     "name": "stderr",
     "output_type": "stream",
     "text": [
      "C:\\Users\\Pranav\\AppData\\Local\\Temp/ipykernel_57980/4259154840.py:1: RuntimeWarning: divide by zero encountered in log2\n",
      "  np.log2(0)     # Log2 the base whatever number\n"
     ]
    },
    {
     "data": {
      "text/plain": [
       "-inf"
      ]
     },
     "execution_count": 41,
     "metadata": {},
     "output_type": "execute_result"
    }
   ],
   "source": [
    "np.log2(0)     # Log2 the base whatever number"
   ]
  },
  {
   "cell_type": "code",
   "execution_count": 42,
   "id": "9928b698",
   "metadata": {},
   "outputs": [
    {
     "data": {
      "text/plain": [
       "0.0"
      ]
     },
     "execution_count": 42,
     "metadata": {},
     "output_type": "execute_result"
    }
   ],
   "source": [
    "np.log2(1)"
   ]
  },
  {
   "cell_type": "code",
   "execution_count": 43,
   "id": "1ff2ba07",
   "metadata": {},
   "outputs": [
    {
     "data": {
      "text/plain": [
       "1.0"
      ]
     },
     "execution_count": 43,
     "metadata": {},
     "output_type": "execute_result"
    }
   ],
   "source": [
    "np.log2(2)"
   ]
  },
  {
   "cell_type": "code",
   "execution_count": 44,
   "id": "2c09e2d5",
   "metadata": {},
   "outputs": [
    {
     "data": {
      "text/plain": [
       "3.321928094887362"
      ]
     },
     "execution_count": 44,
     "metadata": {},
     "output_type": "execute_result"
    }
   ],
   "source": [
    "np.log2(10)"
   ]
  },
  {
   "attachments": {
    "image.png": {
     "image/png": "[encoded data removed]"
    }
   },
   "cell_type": "markdown",
   "id": "89dfd727",
   "metadata": {},
   "source": [
    "![image.png](attachment:image.png)"
   ]
  },
  {
   "cell_type": "markdown",
   "id": "459e4f8b",
   "metadata": {},
   "source": [
    "# Trignometry"
   ]
  },
  {
   "cell_type": "code",
   "execution_count": 45,
   "id": "d31f754b",
   "metadata": {},
   "outputs": [],
   "source": [
    "from IPython.display import Image"
   ]
  },
  {
   "cell_type": "raw",
   "id": "9055520c",
   "metadata": {},
   "source": [
    "sin >> opp/hyp\n",
    "cos >> Adj/hyp\n",
    "tan >> opp/adj\n",
    "\n",
    "cosec >> hyp/opp\n",
    "sec >> hyp/adj\n",
    "cot >> adj/opp"
   ]
  },
  {
   "cell_type": "code",
   "execution_count": 47,
   "id": "b5f694f8",
   "metadata": {},
   "outputs": [
    {
     "data": {
      "text/plain": [
       "3.141592653589793"
      ]
     },
     "execution_count": 47,
     "metadata": {},
     "output_type": "execute_result"
    }
   ],
   "source": [
    "np.pi    #equivalent to 22/7"
   ]
  },
  {
   "cell_type": "code",
   "execution_count": 48,
   "id": "b322bbd2",
   "metadata": {},
   "outputs": [
    {
     "data": {
      "text/plain": [
       "3.141592653589793"
      ]
     },
     "execution_count": 48,
     "metadata": {},
     "output_type": "execute_result"
    }
   ],
   "source": [
    "import math\n",
    "math.pi"
   ]
  },
  {
   "cell_type": "code",
   "execution_count": 49,
   "id": "6b4aada8",
   "metadata": {},
   "outputs": [
    {
     "data": {
      "text/plain": [
       "0.49999999999999994"
      ]
     },
     "execution_count": 49,
     "metadata": {},
     "output_type": "execute_result"
    }
   ],
   "source": [
    "# np.sin(radian value)\n",
    "\n",
    "np.sin(np.pi/6)"
   ]
  },
  {
   "cell_type": "code",
   "execution_count": 50,
   "id": "194d43e5",
   "metadata": {},
   "outputs": [
    {
     "data": {
      "text/plain": [
       "0.49999999999999994"
      ]
     },
     "execution_count": 50,
     "metadata": {},
     "output_type": "execute_result"
    }
   ],
   "source": [
    "np.sin(np.deg2rad(30))"
   ]
  },
  {
   "cell_type": "code",
   "execution_count": 51,
   "id": "fa370f47",
   "metadata": {},
   "outputs": [
    {
     "data": {
      "text/plain": [
       "0.49999999999999994"
      ]
     },
     "execution_count": 51,
     "metadata": {},
     "output_type": "execute_result"
    }
   ],
   "source": [
    "np.sin(np.radians(30))"
   ]
  },
  {
   "cell_type": "code",
   "execution_count": 52,
   "id": "4a87bddd",
   "metadata": {},
   "outputs": [
    {
     "data": {
      "text/plain": [
       "29.999999999999996"
      ]
     },
     "execution_count": 52,
     "metadata": {},
     "output_type": "execute_result"
    }
   ],
   "source": [
    "np.degrees(np.pi/6)"
   ]
  },
  {
   "cell_type": "raw",
   "id": "0d2d9786",
   "metadata": {},
   "source": [
    "angle = 30 \n",
    "opp = 5\n",
    "hyp = ?"
   ]
  },
  {
   "cell_type": "code",
   "execution_count": 53,
   "id": "773f7795",
   "metadata": {},
   "outputs": [
    {
     "data": {
      "text/plain": [
       "10.000000000000002"
      ]
     },
     "execution_count": 53,
     "metadata": {},
     "output_type": "execute_result"
    }
   ],
   "source": [
    "x = 5 / np.sin(np.deg2rad(30))\n",
    "x"
   ]
  },
  {
   "cell_type": "raw",
   "id": "20a0aa23",
   "metadata": {},
   "source": [
    "sin(30) = 1/2 = 5/10"
   ]
  },
  {
   "cell_type": "markdown",
   "id": "a37e7a19",
   "metadata": {},
   "source": [
    "# deg2rad & radians"
   ]
  },
  {
   "cell_type": "code",
   "execution_count": 55,
   "id": "ea5a4b82",
   "metadata": {},
   "outputs": [
    {
     "data": {
      "text/plain": [
       "0.5235987755982988"
      ]
     },
     "execution_count": 55,
     "metadata": {},
     "output_type": "execute_result"
    }
   ],
   "source": [
    "np.deg2rad(30)"
   ]
  },
  {
   "cell_type": "code",
   "execution_count": 56,
   "id": "85268bf2",
   "metadata": {},
   "outputs": [
    {
     "data": {
      "text/plain": [
       "3.141592653589793"
      ]
     },
     "execution_count": 56,
     "metadata": {},
     "output_type": "execute_result"
    }
   ],
   "source": [
    "np.deg2rad(180)"
   ]
  },
  {
   "cell_type": "code",
   "execution_count": 57,
   "id": "9d15df05",
   "metadata": {},
   "outputs": [
    {
     "data": {
      "text/plain": [
       "(0.5235987755982988, 0.5235987755982988)"
      ]
     },
     "execution_count": 57,
     "metadata": {},
     "output_type": "execute_result"
    }
   ],
   "source": [
    "np.radians(30),np.pi/6"
   ]
  },
  {
   "cell_type": "markdown",
   "id": "08c8d6de",
   "metadata": {},
   "source": [
    "# rad2deg & degees"
   ]
  },
  {
   "cell_type": "code",
   "execution_count": 58,
   "id": "85bc3db8",
   "metadata": {},
   "outputs": [
    {
     "data": {
      "text/plain": [
       "29.999999999999996"
      ]
     },
     "execution_count": 58,
     "metadata": {},
     "output_type": "execute_result"
    }
   ],
   "source": [
    "np.rad2deg(np.pi/6)"
   ]
  },
  {
   "cell_type": "code",
   "execution_count": 59,
   "id": "08d83c2b",
   "metadata": {},
   "outputs": [
    {
     "data": {
      "text/plain": [
       "180.0"
      ]
     },
     "execution_count": 59,
     "metadata": {},
     "output_type": "execute_result"
    }
   ],
   "source": [
    "np.rad2deg(np.pi)"
   ]
  },
  {
   "cell_type": "code",
   "execution_count": 60,
   "id": "b40a1262",
   "metadata": {},
   "outputs": [
    {
     "data": {
      "text/plain": [
       "90.0"
      ]
     },
     "execution_count": 60,
     "metadata": {},
     "output_type": "execute_result"
    }
   ],
   "source": [
    "np.rad2deg(np.pi/2)"
   ]
  },
  {
   "cell_type": "code",
   "execution_count": 61,
   "id": "7d8783b5",
   "metadata": {},
   "outputs": [
    {
     "data": {
      "text/plain": [
       "29.999999999999996"
      ]
     },
     "execution_count": 61,
     "metadata": {},
     "output_type": "execute_result"
    }
   ],
   "source": [
    "np.degrees(np.pi/6)"
   ]
  },
  {
   "cell_type": "code",
   "execution_count": 62,
   "id": "f13d6e20",
   "metadata": {},
   "outputs": [
    {
     "data": {
      "text/plain": [
       "180.0"
      ]
     },
     "execution_count": 62,
     "metadata": {},
     "output_type": "execute_result"
    }
   ],
   "source": [
    "np.degrees(np.pi)"
   ]
  },
  {
   "cell_type": "code",
   "execution_count": 63,
   "id": "3389b705",
   "metadata": {},
   "outputs": [
    {
     "ename": "SyntaxError",
     "evalue": "invalid syntax (Temp/ipykernel_57980/2224789232.py, line 3)",
     "output_type": "error",
     "traceback": [
      "\u001b[1;36m  File \u001b[1;32m\"C:\\Users\\Pranav\\AppData\\Local\\Temp/ipykernel_57980/2224789232.py\"\u001b[1;36m, line \u001b[1;32m3\u001b[0m\n\u001b[1;33m    opp = ?\u001b[0m\n\u001b[1;37m          ^\u001b[0m\n\u001b[1;31mSyntaxError\u001b[0m\u001b[1;31m:\u001b[0m invalid syntax\n"
     ]
    }
   ],
   "source": [
    "angle = 120\n",
    "adj = 10\n",
    "opp = ?"
   ]
  },
  {
   "cell_type": "code",
   "execution_count": 64,
   "id": "85c3b07a",
   "metadata": {},
   "outputs": [
    {
     "data": {
      "text/plain": [
       "-17.32050807568878"
      ]
     },
     "execution_count": 64,
     "metadata": {},
     "output_type": "execute_result"
    }
   ],
   "source": [
    "np.tan(np.radians(120))*10"
   ]
  },
  {
   "cell_type": "code",
   "execution_count": 65,
   "id": "527a6da5",
   "metadata": {
    "scrolled": false
   },
   "outputs": [
    {
     "data": {
      "text/plain": [
       "3.0"
      ]
     },
     "execution_count": 65,
     "metadata": {},
     "output_type": "execute_result"
    }
   ],
   "source": [
    "np.sqrt(9)"
   ]
  },
  {
   "cell_type": "code",
   "execution_count": 66,
   "id": "c06a66e7",
   "metadata": {},
   "outputs": [
    {
     "data": {
      "text/plain": [
       "3.0"
      ]
     },
     "execution_count": 66,
     "metadata": {},
     "output_type": "execute_result"
    }
   ],
   "source": [
    "np.cbrt(27)"
   ]
  },
  {
   "cell_type": "code",
   "execution_count": 67,
   "id": "22c8ab4f",
   "metadata": {},
   "outputs": [
    {
     "data": {
      "text/plain": [
       "2.2795070569547775"
      ]
     },
     "execution_count": 67,
     "metadata": {},
     "output_type": "execute_result"
    }
   ],
   "source": [
    "27**(1/4)"
   ]
  },
  {
   "cell_type": "code",
   "execution_count": 68,
   "id": "a290cb48",
   "metadata": {},
   "outputs": [
    {
     "data": {
      "text/plain": [
       "3.0"
      ]
     },
     "execution_count": 68,
     "metadata": {},
     "output_type": "execute_result"
    }
   ],
   "source": [
    "27**(1/3)"
   ]
  }
 ],
 "metadata": {
  "kernelspec": {
   "display_name": "Python 3 (ipykernel)",
   "language": "python",
   "name": "python3"
  },
  "language_info": {
   "codemirror_mode": {
    "name": "ipython",
    "version": 3
   },
   "file_extension": ".py",
   "mimetype": "text/x-python",
   "name": "python",
   "nbconvert_exporter": "python",
   "pygments_lexer": "ipython3",
   "version": "3.9.7"
  },
  "toc": {
   "base_numbering": 1,
   "nav_menu": {},
   "number_sections": true,
   "sideBar": true,
   "skip_h1_title": false,
   "title_cell": "Table of Contents",
   "title_sidebar": "Contents",
   "toc_cell": false,
   "toc_position": {},
   "toc_section_display": true,
   "toc_window_display": false
  }
 },
 "nbformat": 4,
 "nbformat_minor": 5
}

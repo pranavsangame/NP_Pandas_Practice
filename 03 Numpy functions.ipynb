{
 "cells": [
  {
   "cell_type": "markdown",
   "id": "bfcb1742",
   "metadata": {},
   "source": [
    "# sort()"
   ]
  },
  {
   "cell_type": "code",
   "execution_count": 1,
   "id": "f212959a",
   "metadata": {},
   "outputs": [],
   "source": [
    "import numpy as np\n",
    "import warnings\n",
    "warnings.filterwarnings('ignore')"
   ]
  },
  {
   "cell_type": "code",
   "execution_count": 2,
   "id": "06382cc8",
   "metadata": {},
   "outputs": [
    {
     "data": {
      "text/plain": [
       "array([96, 78, 21, 49, 56, 87, 24, 65,  8, 76, 91, 94, 87, 33, 36, 91, 30,\n",
       "       97, 81, 81, 10, 41, 25, 50, 11])"
      ]
     },
     "execution_count": 2,
     "metadata": {},
     "output_type": "execute_result"
    }
   ],
   "source": [
    "ran_nums = np.random.randint(1,100,25)\n",
    "ran_nums"
   ]
  },
  {
   "cell_type": "markdown",
   "id": "38df6510",
   "metadata": {},
   "source": [
    "## Ascending"
   ]
  },
  {
   "cell_type": "code",
   "execution_count": 3,
   "id": "cd632721",
   "metadata": {},
   "outputs": [
    {
     "data": {
      "text/plain": [
       "array([ 8, 10, 11, 21, 24, 25, 30, 33, 36, 41, 49, 50, 56, 65, 76, 78, 81,\n",
       "       81, 87, 87, 91, 91, 94, 96, 97])"
      ]
     },
     "execution_count": 3,
     "metadata": {},
     "output_type": "execute_result"
    }
   ],
   "source": [
    "np.sort(ran_nums)"
   ]
  },
  {
   "cell_type": "code",
   "execution_count": 4,
   "id": "c2976d73",
   "metadata": {},
   "outputs": [
    {
     "data": {
      "text/plain": [
       "[97,\n",
       " 96,\n",
       " 94,\n",
       " 91,\n",
       " 91,\n",
       " 87,\n",
       " 87,\n",
       " 81,\n",
       " 81,\n",
       " 78,\n",
       " 76,\n",
       " 65,\n",
       " 56,\n",
       " 50,\n",
       " 49,\n",
       " 41,\n",
       " 36,\n",
       " 33,\n",
       " 30,\n",
       " 25,\n",
       " 24,\n",
       " 21,\n",
       " 11,\n",
       " 10,\n",
       " 8]"
      ]
     },
     "execution_count": 4,
     "metadata": {},
     "output_type": "execute_result"
    }
   ],
   "source": [
    "sorted_ran_nums=sorted(ran_nums,reverse=True)\n",
    "sorted_ran_nums"
   ]
  },
  {
   "cell_type": "markdown",
   "id": "4c5eaf2a",
   "metadata": {},
   "source": [
    "## Descending"
   ]
  },
  {
   "cell_type": "code",
   "execution_count": 5,
   "id": "067b6884",
   "metadata": {},
   "outputs": [
    {
     "data": {
      "text/plain": [
       "array([97, 96, 94, 91, 91, 87, 87, 81, 81, 78, 76, 65, 56, 50, 49, 41, 36,\n",
       "       33, 30, 25, 24, 21, 11, 10,  8])"
      ]
     },
     "execution_count": 5,
     "metadata": {},
     "output_type": "execute_result"
    }
   ],
   "source": [
    "np.sort(ran_nums)[::-1]"
   ]
  },
  {
   "cell_type": "code",
   "execution_count": 6,
   "id": "1d6575d6",
   "metadata": {},
   "outputs": [
    {
     "data": {
      "text/plain": [
       "array([97, 96, 94, 91, 91, 87, 87, 81, 81, 78, 76, 65, 56, 50, 49, 41, 36,\n",
       "       33, 30, 25, 24, 21, 11, 10,  8])"
      ]
     },
     "execution_count": 6,
     "metadata": {},
     "output_type": "execute_result"
    }
   ],
   "source": [
    "desc_ran_nums_sorted = np.array(sorted(ran_nums,reverse=True))\n",
    "desc_ran_nums_sorted"
   ]
  },
  {
   "cell_type": "code",
   "execution_count": 7,
   "id": "380def7e",
   "metadata": {},
   "outputs": [
    {
     "data": {
      "text/plain": [
       "array([97, 96, 94, 91, 91, 87, 87, 81, 81, 78, 76, 65, 56, 50, 49, 41, 36,\n",
       "       33, 30, 25, 24, 21, 11, 10,  8])"
      ]
     },
     "execution_count": 7,
     "metadata": {},
     "output_type": "execute_result"
    }
   ],
   "source": [
    "for i in range(len(ran_nums)):\n",
    "    for j in range(i+1):\n",
    "        if ran_nums[i]>ran_nums[j]:\n",
    "            ran_nums[i],ran_nums[j]=ran_nums[j],ran_nums[i]\n",
    "            \n",
    "            \n",
    "ran_nums"
   ]
  },
  {
   "cell_type": "code",
   "execution_count": 8,
   "id": "ad59078d",
   "metadata": {},
   "outputs": [
    {
     "name": "stdout",
     "output_type": "stream",
     "text": [
      "17\n",
      "2\n",
      "5\n",
      "7\n"
     ]
    }
   ],
   "source": [
    "x = [16,17,2,5,7]\n",
    "\n",
    "x= np.array(x)\n",
    "y = x.argmax()\n",
    "\n",
    "for i in range(y,len(x)):\n",
    "    print(x[i])"
   ]
  },
  {
   "cell_type": "markdown",
   "id": "b225b623",
   "metadata": {},
   "source": [
    "## sorting of matrix"
   ]
  },
  {
   "cell_type": "code",
   "execution_count": 9,
   "id": "6e5c543a",
   "metadata": {
    "scrolled": true
   },
   "outputs": [
    {
     "data": {
      "text/plain": [
       "array([0, 2, 3])"
      ]
     },
     "execution_count": 9,
     "metadata": {},
     "output_type": "execute_result"
    }
   ],
   "source": [
    "np.sort([2,3,0],axis=-1)"
   ]
  },
  {
   "cell_type": "markdown",
   "id": "fae33a06",
   "metadata": {},
   "source": [
    "### sorting column wise"
   ]
  },
  {
   "cell_type": "code",
   "execution_count": 10,
   "id": "8b946d6c",
   "metadata": {},
   "outputs": [
    {
     "data": {
      "text/plain": [
       "array([[0, 2, 3],\n",
       "       [5, 7, 8]])"
      ]
     },
     "execution_count": 10,
     "metadata": {},
     "output_type": "execute_result"
    }
   ],
   "source": [
    "np.sort([[2,3,0],\n",
    "         [7,5,8]],axis=1)"
   ]
  },
  {
   "cell_type": "code",
   "execution_count": 11,
   "id": "cfd4da4c",
   "metadata": {},
   "outputs": [
    {
     "data": {
      "text/plain": [
       "array([[0, 2, 3],\n",
       "       [5, 7, 8]])"
      ]
     },
     "execution_count": 11,
     "metadata": {},
     "output_type": "execute_result"
    }
   ],
   "source": [
    "np.sort([[2,3,0],\n",
    "         [7,5,8]],axis=1)"
   ]
  },
  {
   "cell_type": "code",
   "execution_count": 12,
   "id": "7961f509",
   "metadata": {},
   "outputs": [
    {
     "name": "stdout",
     "output_type": "stream",
     "text": [
      "[[1 4]\n",
      " [1 3]]\n"
     ]
    }
   ],
   "source": [
    "a = np.array([[1,4], \n",
    "              [3,1]])\n",
    "a.sort(axis=1)\n",
    "print(a)"
   ]
  },
  {
   "cell_type": "markdown",
   "id": "06b21ccf",
   "metadata": {},
   "source": [
    "### sorting row wise"
   ]
  },
  {
   "cell_type": "code",
   "execution_count": 13,
   "id": "73cadc80",
   "metadata": {},
   "outputs": [
    {
     "data": {
      "text/plain": [
       "array([[1, 3, 0],\n",
       "       [8, 5, 9]])"
      ]
     },
     "execution_count": 13,
     "metadata": {},
     "output_type": "execute_result"
    }
   ],
   "source": [
    "matrix = [[8,3,9],\n",
    "          [1,5,0]]\n",
    "np.sort(matrix,axis=0)"
   ]
  },
  {
   "cell_type": "code",
   "execution_count": 14,
   "id": "5e2b714d",
   "metadata": {},
   "outputs": [
    {
     "name": "stdout",
     "output_type": "stream",
     "text": [
      "[[1 3]\n",
      " [1 4]]\n"
     ]
    }
   ],
   "source": [
    "a = np.array([[1, 4],[1, 3]])\n",
    "a.sort(axis=0)\n",
    "print(a)"
   ]
  },
  {
   "cell_type": "markdown",
   "id": "07deeecf",
   "metadata": {},
   "source": [
    "# replacing any item in any array using indexing"
   ]
  },
  {
   "cell_type": "code",
   "execution_count": 15,
   "id": "143b8422",
   "metadata": {},
   "outputs": [
    {
     "data": {
      "text/plain": [
       "array([ 16, 100,   2,   5,   7])"
      ]
     },
     "execution_count": 15,
     "metadata": {},
     "output_type": "execute_result"
    }
   ],
   "source": [
    "array = np.array([16,17,2,5,7])\n",
    "array[1]=100\n",
    "array"
   ]
  },
  {
   "cell_type": "code",
   "execution_count": 16,
   "id": "ed90657a",
   "metadata": {},
   "outputs": [
    {
     "data": {
      "text/plain": [
       "array([[100,  16,  17],\n",
       "       [  2,   5,   3],\n",
       "       [  7,   0,   8]])"
      ]
     },
     "execution_count": 16,
     "metadata": {},
     "output_type": "execute_result"
    }
   ],
   "source": [
    "array = np.array([[21,16,17],\n",
    "                  [2,5,3],\n",
    "                  [7,0,8]])\n",
    "array[0][0]=100\n",
    "array"
   ]
  },
  {
   "cell_type": "code",
   "execution_count": 17,
   "id": "94fb8fc5",
   "metadata": {},
   "outputs": [
    {
     "data": {
      "text/plain": [
       "array([[100, 200,  17],\n",
       "       [300, 400,   3],\n",
       "       [  7,   0,   8]])"
      ]
     },
     "execution_count": 17,
     "metadata": {},
     "output_type": "execute_result"
    }
   ],
   "source": [
    "array = np.array([[21,16,17],\n",
    "                  [2,5,3],\n",
    "                  [7,0,8]])\n",
    "\n",
    "array[0:2,0:2]=[[100,200],[300,400]]\n",
    "array"
   ]
  },
  {
   "cell_type": "markdown",
   "id": "c416e092",
   "metadata": {},
   "source": [
    "# Inserting item into Array"
   ]
  },
  {
   "cell_type": "raw",
   "id": "4cbe0a8f",
   "metadata": {},
   "source": [
    "inserts item at any specific index into the array\n",
    "\n",
    "Syntax:\n",
    "np.insert(array_name,index,value)"
   ]
  },
  {
   "cell_type": "code",
   "execution_count": 19,
   "id": "bf9479a0",
   "metadata": {},
   "outputs": [
    {
     "data": {
      "text/plain": [
       "array([ 16, 100,  17,   2,   5,   7])"
      ]
     },
     "execution_count": 19,
     "metadata": {},
     "output_type": "execute_result"
    }
   ],
   "source": [
    "array = np.array([16,17,2,5,7])\n",
    "np.insert(array,1,100)"
   ]
  },
  {
   "cell_type": "code",
   "execution_count": 20,
   "id": "c5000461",
   "metadata": {},
   "outputs": [
    {
     "data": {
      "text/plain": [
       "array([  16,   17,    2,    5, 1000,    7])"
      ]
     },
     "execution_count": 20,
     "metadata": {},
     "output_type": "execute_result"
    }
   ],
   "source": [
    "array = np.array([16,17,2,5,7])\n",
    "np.insert(array,-1,1000)"
   ]
  },
  {
   "cell_type": "code",
   "execution_count": 21,
   "id": "68a57e66",
   "metadata": {},
   "outputs": [
    {
     "data": {
      "text/plain": [
       "array([  16,   17,    2,    5,    7, 1000])"
      ]
     },
     "execution_count": 21,
     "metadata": {},
     "output_type": "execute_result"
    }
   ],
   "source": [
    "array = np.array([16,17,2,5,7])\n",
    "np.insert(array,len(array),1000)"
   ]
  },
  {
   "cell_type": "code",
   "execution_count": 22,
   "id": "75379601",
   "metadata": {},
   "outputs": [
    {
     "data": {
      "text/plain": [
       "array([100,  21,  16,  17,   2,   5,   3,   7,   0,   8])"
      ]
     },
     "execution_count": 22,
     "metadata": {},
     "output_type": "execute_result"
    }
   ],
   "source": [
    "array = np.array([[21,16,17],\n",
    "                  [2,5,3],\n",
    "                  [7,0,8]])\n",
    "np.insert(array,[0][0],100)"
   ]
  },
  {
   "cell_type": "markdown",
   "id": "fac4ae34",
   "metadata": {},
   "source": [
    "# Append()"
   ]
  },
  {
   "cell_type": "raw",
   "id": "eef4f071",
   "metadata": {},
   "source": [
    "Appends the values at the end of the array"
   ]
  },
  {
   "cell_type": "code",
   "execution_count": 23,
   "id": "3486c9f8",
   "metadata": {},
   "outputs": [
    {
     "data": {
      "text/plain": [
       "array([5, 6, 7, 8])"
      ]
     },
     "execution_count": 23,
     "metadata": {},
     "output_type": "execute_result"
    }
   ],
   "source": [
    "array = np.array([5,6,7,8])\n",
    "array"
   ]
  },
  {
   "cell_type": "code",
   "execution_count": 24,
   "id": "3c5bbd55",
   "metadata": {},
   "outputs": [
    {
     "data": {
      "text/plain": [
       "array([ 5,  6,  7,  8, 10])"
      ]
     },
     "execution_count": 24,
     "metadata": {},
     "output_type": "execute_result"
    }
   ],
   "source": [
    "np.append(array,10)"
   ]
  },
  {
   "cell_type": "code",
   "execution_count": 25,
   "id": "01fdf8b7",
   "metadata": {},
   "outputs": [
    {
     "data": {
      "text/plain": [
       "array([ 5,  6,  7,  8, 10, 20])"
      ]
     },
     "execution_count": 25,
     "metadata": {},
     "output_type": "execute_result"
    }
   ],
   "source": [
    "np.append(array,(10,20))"
   ]
  },
  {
   "cell_type": "code",
   "execution_count": 26,
   "id": "23b6ec20",
   "metadata": {},
   "outputs": [
    {
     "data": {
      "text/plain": [
       "array([ 5,  6,  7,  8, 10, 20])"
      ]
     },
     "execution_count": 26,
     "metadata": {},
     "output_type": "execute_result"
    }
   ],
   "source": [
    "np.append(array,[10,20])"
   ]
  },
  {
   "cell_type": "code",
   "execution_count": 27,
   "id": "90ba9545",
   "metadata": {},
   "outputs": [
    {
     "data": {
      "text/plain": [
       "array([2, 3, 4, 5, 3, 4])"
      ]
     },
     "execution_count": 27,
     "metadata": {},
     "output_type": "execute_result"
    }
   ],
   "source": [
    "array1 = np.array([2,3,4])\n",
    "array2 = np.array([5,3,4])\n",
    "\n",
    "array3 = np.append(array1,array2)\n",
    "array3"
   ]
  },
  {
   "cell_type": "code",
   "execution_count": 28,
   "id": "dca78a86",
   "metadata": {},
   "outputs": [
    {
     "data": {
      "text/plain": [
       "array([2, 3, 4, 5, 6, 7, 5, 3, 4])"
      ]
     },
     "execution_count": 28,
     "metadata": {},
     "output_type": "execute_result"
    }
   ],
   "source": [
    "array1 = np.array([[2,3,4],\n",
    "                   [5,6,7]])\n",
    "\n",
    "array2 = np.array([5,3,4])\n",
    "\n",
    "np.append(array1,array2)"
   ]
  },
  {
   "cell_type": "markdown",
   "id": "3da6806d",
   "metadata": {},
   "source": [
    "## Appending rowwise in matrix"
   ]
  },
  {
   "cell_type": "raw",
   "id": "b67442d0",
   "metadata": {},
   "source": [
    "# we are are appending rows then the number of columns has to be exactly same.\n",
    "# Axis has to be set to 0 for row appending"
   ]
  },
  {
   "cell_type": "code",
   "execution_count": 29,
   "id": "96288818",
   "metadata": {},
   "outputs": [
    {
     "data": {
      "text/plain": [
       "array([[2, 3, 4],\n",
       "       [5, 6, 7],\n",
       "       [5, 3, 4]])"
      ]
     },
     "execution_count": 29,
     "metadata": {},
     "output_type": "execute_result"
    }
   ],
   "source": [
    "array1 = np.array([[2,3,4],\n",
    "                   [5,6,7]])\n",
    "\n",
    "array2 = np.array([[5,3,4]])\n",
    "\n",
    "np.append(array1,array2,axis=0)"
   ]
  },
  {
   "cell_type": "code",
   "execution_count": 30,
   "id": "26da205c",
   "metadata": {},
   "outputs": [
    {
     "data": {
      "text/plain": [
       "array([[2, 3, 4],\n",
       "       [5, 6, 7],\n",
       "       [5, 3, 4],\n",
       "       [0, 0, 0]])"
      ]
     },
     "execution_count": 30,
     "metadata": {},
     "output_type": "execute_result"
    }
   ],
   "source": [
    "array1 = np.array([[2,3,4],\n",
    "                   [5,6,7]])\n",
    "\n",
    "array2 = np.array([[5,3,4],\n",
    "                   [0,0,0]])\n",
    "\n",
    "np.append(array1,array2,axis=0)"
   ]
  },
  {
   "cell_type": "markdown",
   "id": "57f157a9",
   "metadata": {},
   "source": [
    "## Appending column wise in matrix"
   ]
  },
  {
   "cell_type": "raw",
   "id": "4b0698af",
   "metadata": {},
   "source": [
    "# if we are appending columns in the matrix then no. of rows has to be same\n",
    "# Axis has to be set to 1 for column appending"
   ]
  },
  {
   "cell_type": "code",
   "execution_count": 32,
   "id": "c7689079",
   "metadata": {},
   "outputs": [
    {
     "data": {
      "text/plain": [
       "array([[2, 3, 4, 5],\n",
       "       [5, 6, 7, 0]])"
      ]
     },
     "execution_count": 32,
     "metadata": {},
     "output_type": "execute_result"
    }
   ],
   "source": [
    "array1 = np.array([[2,3,4],\n",
    "                   [5,6,7]])\n",
    "\n",
    "array2 = np.array([[5],\n",
    "                   [0]])\n",
    "\n",
    "np.append(array1,array2,axis=1)"
   ]
  },
  {
   "cell_type": "code",
   "execution_count": 33,
   "id": "f631b2d6",
   "metadata": {},
   "outputs": [
    {
     "data": {
      "text/plain": [
       "array([[2, 3, 4, 5, 3, 4],\n",
       "       [5, 6, 7, 0, 0, 0]])"
      ]
     },
     "execution_count": 33,
     "metadata": {},
     "output_type": "execute_result"
    }
   ],
   "source": [
    "array1 = np.array([[2,3,4],\n",
    "                   [5,6,7]])\n",
    "\n",
    "array2 = np.array([[5,3,4],\n",
    "                   [0,0,0]])\n",
    "\n",
    "np.append(array1,array2,axis=1)"
   ]
  },
  {
   "cell_type": "markdown",
   "id": "6b92870f",
   "metadata": {},
   "source": [
    "# Concatenate()"
   ]
  },
  {
   "cell_type": "raw",
   "id": "5f1010fb",
   "metadata": {},
   "source": [
    "concatenates the arrays alongside the axis"
   ]
  },
  {
   "cell_type": "code",
   "execution_count": 34,
   "id": "f4d9adb6",
   "metadata": {},
   "outputs": [
    {
     "data": {
      "text/plain": [
       "array([2, 3, 4, 5, 3, 4])"
      ]
     },
     "execution_count": 34,
     "metadata": {},
     "output_type": "execute_result"
    }
   ],
   "source": [
    "array1 = np.array([2,3,4])\n",
    "array2 = np.array([5,3,4])\n",
    "\n",
    "final_array = np.concatenate([array1,array2])\n",
    "final_array"
   ]
  },
  {
   "cell_type": "code",
   "execution_count": 35,
   "id": "709d6fe0",
   "metadata": {},
   "outputs": [
    {
     "data": {
      "text/plain": [
       "array([2, 3, 4, 5, 3, 4, 5, 3, 9])"
      ]
     },
     "execution_count": 35,
     "metadata": {},
     "output_type": "execute_result"
    }
   ],
   "source": [
    "array1 = np.array([2,3,4])\n",
    "array2 = np.array([5,3,4])\n",
    "array3 = np.array([5,3,9])\n",
    "\n",
    "\n",
    "final_array = np.concatenate([array1,array2,array3])\n",
    "final_array"
   ]
  },
  {
   "cell_type": "code",
   "execution_count": 36,
   "id": "2d09c45d",
   "metadata": {},
   "outputs": [
    {
     "data": {
      "text/plain": [
       "array([[2, 3, 4],\n",
       "       [5, 3, 4],\n",
       "       [5, 3, 9]])"
      ]
     },
     "execution_count": 36,
     "metadata": {},
     "output_type": "execute_result"
    }
   ],
   "source": [
    "array1 = np.array([2,3,4])\n",
    "array2 = np.array([5,3,4])\n",
    "array3 = np.array([5,3,9])\n",
    "\n",
    "\n",
    "final_array = np.concatenate([array1,array2,array3])\n",
    "final_array.reshape(3,3)"
   ]
  },
  {
   "cell_type": "markdown",
   "id": "9ca3a6c3",
   "metadata": {},
   "source": [
    "## Concatenation along rows in matrix"
   ]
  },
  {
   "cell_type": "raw",
   "id": "3a407894",
   "metadata": {},
   "source": [
    "# if we are concatenating rows in the matrix then no. of columns has to be same\n",
    "# Axis has to be set to 0 for column appending"
   ]
  },
  {
   "cell_type": "code",
   "execution_count": 37,
   "id": "8dd18cc5",
   "metadata": {},
   "outputs": [
    {
     "data": {
      "text/plain": [
       "array([[2, 3, 4],\n",
       "       [5, 6, 7],\n",
       "       [5, 8, 9]])"
      ]
     },
     "execution_count": 37,
     "metadata": {},
     "output_type": "execute_result"
    }
   ],
   "source": [
    "array1 = np.array([[2,3,4],\n",
    "                   [5,6,7]])\n",
    "\n",
    "array2 = np.array([[5,8,9]])\n",
    "\n",
    "np.concatenate([array1,array2],axis=0)"
   ]
  },
  {
   "cell_type": "code",
   "execution_count": 38,
   "id": "f9c07267",
   "metadata": {},
   "outputs": [
    {
     "data": {
      "text/plain": [
       "array([[2, 3, 4],\n",
       "       [5, 6, 7],\n",
       "       [5, 8, 9],\n",
       "       [0, 0, 0]])"
      ]
     },
     "execution_count": 38,
     "metadata": {},
     "output_type": "execute_result"
    }
   ],
   "source": [
    "array1 = np.array([[2,3,4],\n",
    "                   [5,6,7]])\n",
    "\n",
    "array2 = np.array([[5,8,9]])\n",
    "array3 = np.array([[0,0,0]])\n",
    "\n",
    "np.concatenate([array1,array2,array3],axis=0)"
   ]
  },
  {
   "cell_type": "markdown",
   "id": "469cd47a",
   "metadata": {},
   "source": [
    "## Concatenation along columns in matrix\n"
   ]
  },
  {
   "cell_type": "raw",
   "id": "35fcd86d",
   "metadata": {},
   "source": [
    "# if we are concatenating columns in the matrix then no. of rows has to be same\n",
    "# Axis has to be set to 1 for column appending"
   ]
  },
  {
   "cell_type": "code",
   "execution_count": 39,
   "id": "51f9e723",
   "metadata": {},
   "outputs": [
    {
     "data": {
      "text/plain": [
       "array([[2, 3, 4, 5],\n",
       "       [5, 6, 7, 0]])"
      ]
     },
     "execution_count": 39,
     "metadata": {},
     "output_type": "execute_result"
    }
   ],
   "source": [
    "array1 = np.array([[2,3,4],\n",
    "                   [5,6,7]])\n",
    "\n",
    "array2 = np.array([[5],\n",
    "                   [0]])\n",
    "\n",
    "np.concatenate([array1,array2],axis=1)"
   ]
  },
  {
   "cell_type": "code",
   "execution_count": 40,
   "id": "d6421f59",
   "metadata": {},
   "outputs": [
    {
     "data": {
      "text/plain": [
       "array([[2, 3, 4, 5, 5, 1],\n",
       "       [5, 6, 7, 0, 6, 1]])"
      ]
     },
     "execution_count": 40,
     "metadata": {},
     "output_type": "execute_result"
    }
   ],
   "source": [
    "array1 = np.array([[2,3,4],\n",
    "                   [5,6,7]])\n",
    "\n",
    "array2 = np.array([[5,5],\n",
    "                   [0,6]])\n",
    "array3 = np.array([[1],\n",
    "                   [1]])\n",
    "\n",
    "con_c_array=np.concatenate([array1,array2,array3],axis=1)\n",
    "con_c_array"
   ]
  },
  {
   "cell_type": "markdown",
   "id": "49f31c1e",
   "metadata": {},
   "source": [
    "# Looping on array"
   ]
  },
  {
   "cell_type": "code",
   "execution_count": 41,
   "id": "5fc0ff02",
   "metadata": {},
   "outputs": [
    {
     "name": "stdout",
     "output_type": "stream",
     "text": [
      "2\n",
      "3\n",
      "4\n",
      "6\n",
      "7\n"
     ]
    }
   ],
   "source": [
    "array1 = np.array([2,3,4,6,7])\n",
    "for i in array1:\n",
    "    print(i)"
   ]
  },
  {
   "cell_type": "code",
   "execution_count": 42,
   "id": "1eefc1d4",
   "metadata": {},
   "outputs": [
    {
     "name": "stdout",
     "output_type": "stream",
     "text": [
      "[2 3 4 6 7]\n"
     ]
    }
   ],
   "source": [
    "array1 = np.array([[2,3,4,6,7]])\n",
    "for i in array1:\n",
    "    print(i)"
   ]
  },
  {
   "cell_type": "code",
   "execution_count": 43,
   "id": "509988c0",
   "metadata": {},
   "outputs": [
    {
     "name": "stdout",
     "output_type": "stream",
     "text": [
      "(0, 2)\n",
      "(1, 3)\n",
      "(2, 4)\n",
      "(3, 6)\n",
      "(4, 7)\n"
     ]
    }
   ],
   "source": [
    "array1 = np.array([2,3,4,6,7])\n",
    "for i in enumerate(array1):\n",
    "    print(i)"
   ]
  },
  {
   "cell_type": "code",
   "execution_count": 44,
   "id": "57fb33ff",
   "metadata": {},
   "outputs": [
    {
     "name": "stdout",
     "output_type": "stream",
     "text": [
      "0 2\n",
      "1 3\n",
      "2 4\n",
      "3 6\n",
      "4 7\n"
     ]
    }
   ],
   "source": [
    "array1 = np.array([2,3,4,6,7])\n",
    "for index,value in enumerate(array1):\n",
    "    print(index,value)"
   ]
  },
  {
   "cell_type": "code",
   "execution_count": 45,
   "id": "42e68117",
   "metadata": {},
   "outputs": [
    {
     "name": "stdout",
     "output_type": "stream",
     "text": [
      "[2 3 4]\n",
      "[5 6 7]\n",
      "[5 8 9]\n",
      "[0 0 0]\n",
      "\n",
      "0 [2 3 4]\n",
      "1 [5 6 7]\n",
      "2 [5 8 9]\n",
      "3 [0 0 0]\n"
     ]
    }
   ],
   "source": [
    "RRR = np.array([[2, 3, 4],\n",
    "       [5, 6, 7],\n",
    "       [5, 8, 9],\n",
    "       [0, 0, 0]])\n",
    "\n",
    "for i in RRR:\n",
    "    print(i)\n",
    "    \n",
    "print()\n",
    "for i,v in enumerate(RRR):\n",
    "    print(i,v)"
   ]
  },
  {
   "cell_type": "markdown",
   "id": "1ba75994",
   "metadata": {},
   "source": [
    "## np.nditer()"
   ]
  },
  {
   "cell_type": "code",
   "execution_count": 46,
   "id": "2eb98291",
   "metadata": {},
   "outputs": [
    {
     "name": "stdout",
     "output_type": "stream",
     "text": [
      "2\n",
      "3\n",
      "4\n",
      "5\n",
      "6\n",
      "7\n",
      "5\n",
      "8\n",
      "9\n",
      "0\n",
      "0\n",
      "0\n"
     ]
    }
   ],
   "source": [
    "RRR = np.array([[2, 3, 4],\n",
    "       [5, 6, 7],\n",
    "       [5, 8, 9],\n",
    "       [0, 0, 0]])\n",
    "\n",
    "for i in np.nditer(RRR):\n",
    "    print(i)"
   ]
  },
  {
   "cell_type": "code",
   "execution_count": 47,
   "id": "6908a3d9",
   "metadata": {},
   "outputs": [
    {
     "name": "stdout",
     "output_type": "stream",
     "text": [
      "2\n",
      "3\n",
      "4\n",
      "5\n",
      "6\n",
      "7\n",
      "5\n",
      "8\n",
      "9\n",
      "0\n",
      "0\n",
      "0\n"
     ]
    }
   ],
   "source": [
    "for i in (RRR):\n",
    "    for j in range(len(i)):print(i[j])"
   ]
  },
  {
   "cell_type": "markdown",
   "id": "fb4189bd",
   "metadata": {},
   "source": [
    "## np.ndenumerate()"
   ]
  },
  {
   "cell_type": "code",
   "execution_count": 48,
   "id": "3e8ee5c6",
   "metadata": {},
   "outputs": [
    {
     "data": {
      "text/plain": [
       "array([[2, 3, 4],\n",
       "       [5, 6, 7],\n",
       "       [5, 8, 9],\n",
       "       [0, 0, 0]])"
      ]
     },
     "metadata": {},
     "output_type": "display_data"
    },
    {
     "name": "stdout",
     "output_type": "stream",
     "text": [
      "(0, 0) 2\n",
      "(0, 1) 3\n",
      "(0, 2) 4\n",
      "(1, 0) 5\n",
      "(1, 1) 6\n",
      "(1, 2) 7\n",
      "(2, 0) 5\n",
      "(2, 1) 8\n",
      "(2, 2) 9\n",
      "(3, 0) 0\n",
      "(3, 1) 0\n",
      "(3, 2) 0\n"
     ]
    }
   ],
   "source": [
    "display(RRR)\n",
    "for i,v in np.ndenumerate(RRR):\n",
    "    print(i,v)"
   ]
  },
  {
   "cell_type": "code",
   "execution_count": 49,
   "id": "6bdf4d20",
   "metadata": {},
   "outputs": [
    {
     "data": {
      "text/plain": [
       "'please give another combination'"
      ]
     },
     "execution_count": 49,
     "metadata": {},
     "output_type": "execute_result"
    }
   ],
   "source": [
    "# big_brick = 5 * small_bricks\n",
    "# small_bricks = 1\n",
    "\n",
    "# area = 12\n",
    "\n",
    "def wall(big_brick,small_bricks,area=12):\n",
    "    \n",
    "    access = big_brick*5 - area\n",
    "    a=1\n",
    "    for i in range(5,50,5):\n",
    "        if access < i:\n",
    "            big_brick-=a\n",
    "            break\n",
    "        a+=1\n",
    "            \n",
    "    if big_brick+small_bricks==area:\n",
    "        return 'wall constructed successfully'\n",
    "    else:\n",
    "        return 'please give another combination'\n",
    "\n",
    "wall(3,2,12)\n",
    "    "
   ]
  }
 ],
 "metadata": {
  "kernelspec": {
   "display_name": "Python 3 (ipykernel)",
   "language": "python",
   "name": "python3"
  },
  "language_info": {
   "codemirror_mode": {
    "name": "ipython",
    "version": 3
   },
   "file_extension": ".py",
   "mimetype": "text/x-python",
   "name": "python",
   "nbconvert_exporter": "python",
   "pygments_lexer": "ipython3",
   "version": "3.9.7"
  },
  "toc": {
   "base_numbering": 1,
   "nav_menu": {},
   "number_sections": true,
   "sideBar": true,
   "skip_h1_title": false,
   "title_cell": "Table of Contents",
   "title_sidebar": "Contents",
   "toc_cell": false,
   "toc_position": {},
   "toc_section_display": true,
   "toc_window_display": false
  }
 },
 "nbformat": 4,
 "nbformat_minor": 5
}
